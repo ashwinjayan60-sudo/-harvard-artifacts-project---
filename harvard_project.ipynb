{
 "cells": [
  {
   "cell_type": "code",
   "execution_count": 2,
   "id": "0433473d-1be4-4d61-a5fd-06a4598c17a0",
   "metadata": {},
   "outputs": [
    {
     "name": "stdout",
     "output_type": "stream",
     "text": [
      "200\n"
     ]
    }
   ],
   "source": [
    "import requests\n",
    "\n",
    "API_KEY = \"869f44ca-54ed-45f1-8f36-713e6e24f2d9\"  # Leave this blank for now\n",
    "\n",
    "url = \"https://api.harvardartmuseums.org/object\"\n",
    "params = {\n",
    "    \"apikey\": API_KEY,\n",
    "    \"classification\": \"Paintings\",\n",
    "    \"size\": 10\n",
    "}\n",
    "\n",
    "response = requests.get(url, params=params)\n",
    "print(response.status_code)"
   ]
  },
  {
   "cell_type": "code",
   "execution_count": 3,
   "id": "99030b41-3df3-4cb6-aaf3-7b4f876a81a2",
   "metadata": {},
   "outputs": [
    {
     "ename": "ModuleNotFoundError",
     "evalue": "No module named 'pandas'",
     "output_type": "error",
     "traceback": [
      "\u001b[31m---------------------------------------------------------------------------\u001b[39m",
      "\u001b[31mModuleNotFoundError\u001b[39m                       Traceback (most recent call last)",
      "\u001b[36mCell\u001b[39m\u001b[36m \u001b[39m\u001b[32mIn[3]\u001b[39m\u001b[32m, line 2\u001b[39m\n\u001b[32m      1\u001b[39m \u001b[38;5;28;01mimport\u001b[39;00m\u001b[38;5;250m \u001b[39m\u001b[34;01mrequests\u001b[39;00m\n\u001b[32m----> \u001b[39m\u001b[32m2\u001b[39m \u001b[38;5;28;01mimport\u001b[39;00m\u001b[38;5;250m \u001b[39m\u001b[34;01mpandas\u001b[39;00m\u001b[38;5;250m \u001b[39m\u001b[38;5;28;01mas\u001b[39;00m\u001b[38;5;250m \u001b[39m\u001b[34;01mpd\u001b[39;00m\n\u001b[32m      4\u001b[39m API_KEY = \u001b[33m\"\u001b[39m\u001b[33m809f4fa4-5de4-497f-b7b7-1e0f7e1d62f8\u001b[39m\u001b[33m\"\u001b[39m  \u001b[38;5;66;03m# Your actual API key\u001b[39;00m\n\u001b[32m      6\u001b[39m url = \u001b[33m\"\u001b[39m\u001b[33mhttps://api.harvardartmuseums.org/object\u001b[39m\u001b[33m\"\u001b[39m\n",
      "\u001b[31mModuleNotFoundError\u001b[39m: No module named 'pandas'"
     ]
    }
   ],
   "source": [
    "import requests\n",
    "import pandas as pd\n",
    "\n",
    "API_KEY = \"809f4fa4-5de4-497f-b7b7-1e0f7e1d62f8\"  # Your actual API key\n",
    "\n",
    "url = \"https://api.harvardartmuseums.org/object\"\n",
    "params = {\n",
    "    \"apikey\": API_KEY,\n",
    "    \"classification\": \"Paintings\",\n",
    "    \"size\": 10  # You can increase this later\n",
    "}\n",
    "\n",
    "response = requests.get(url, params=params)\n",
    "data = response.json()\n",
    "\n",
    "# Normalize JSON into a flat table\n",
    "df = pd.json_normalize(data['records'])\n",
    "\n",
    "# Show the first few rows\n",
    "print(df.head())"
   ]
  },
  {
   "cell_type": "code",
   "execution_count": 5,
   "id": "eda99821-d6c8-43b9-8835-4899866ee8f3",
   "metadata": {},
   "outputs": [
    {
     "name": "stdout",
     "output_type": "stream",
     "text": [
      "Requirement already satisfied: pandas in c:\\users\\ashwi\\appdata\\local\\programs\\python\\python313\\lib\\site-packages (2.3.3)\n",
      "Requirement already satisfied: numpy>=1.26.0 in c:\\users\\ashwi\\appdata\\local\\programs\\python\\python313\\lib\\site-packages (from pandas) (2.3.3)\n",
      "Requirement already satisfied: python-dateutil>=2.8.2 in c:\\users\\ashwi\\appdata\\local\\programs\\python\\python313\\lib\\site-packages (from pandas) (2.9.0.post0)\n",
      "Requirement already satisfied: pytz>=2020.1 in c:\\users\\ashwi\\appdata\\local\\programs\\python\\python313\\lib\\site-packages (from pandas) (2025.2)\n",
      "Requirement already satisfied: tzdata>=2022.7 in c:\\users\\ashwi\\appdata\\local\\programs\\python\\python313\\lib\\site-packages (from pandas) (2025.2)\n",
      "Requirement already satisfied: six>=1.5 in c:\\users\\ashwi\\appdata\\local\\programs\\python\\python313\\lib\\site-packages (from python-dateutil>=2.8.2->pandas) (1.17.0)\n"
     ]
    }
   ],
   "source": [
    "!pip install pandas"
   ]
  },
  {
   "cell_type": "code",
   "execution_count": 7,
   "id": "bceafab7-e664-47e3-8183-6d72848681a9",
   "metadata": {},
   "outputs": [
    {
     "name": "stdout",
     "output_type": "stream",
     "text": [
      "Success\n",
      "[{'copyright': None, 'contextualtextcount': 0, 'creditline': 'Harvard Art Museums/Fogg Museum, Gray Collection of Engravings Fund', 'accesslevel': 1, 'createdate': '1994-01-11T00:00:00-05:00', 'dateoflastpageview': '2025-10-06', 'classificationid': 23, 'division': 'European and American Art', 'markscount': 1, 'publicationcount': 2, 'totaluniquepageviews': 1007, 'contact': 'am_europeanamerican@harvard.edu', 'colorcount': 9, 'rank': 10, 'id': 300050, 'state': 'i/iii', 'verificationleveldescription': 'Good. Object is well described and information is vetted', 'period': None, 'images': [{'date': '2024-12-04', 'copyright': 'President and Fellows of Harvard College', 'imageid': 567308, 'idsid': 501234130, 'format': 'image/jpeg', 'description': None, 'technique': 'Make:SONY;Model:ILCE-7RM4;Orientation:1;Software:Adobe Photoshop 25.3 (Macintosh);', 'renditionnumber': '801702', 'displayorder': 1, 'baseimageurl': 'https://nrs.harvard.edu/urn-3:HUAM:801702', 'alttext': None, 'width': 8016, 'publiccaption': None, 'iiifbaseuri': 'https://ids.lib.harvard.edu/ids/iiif/501234130', 'height': 6319}, {'date': None, 'copyright': 'President and Fellows of Harvard College', 'imageid': 80600, 'idsid': 43162545, 'format': 'image/jpeg', 'description': None, 'technique': None, 'renditionnumber': 'LEG994', 'displayorder': 2, 'baseimageurl': 'https://nrs.harvard.edu/urn-3:HUAM:LEG994_dynmc', 'alttext': None, 'width': 1024, 'publiccaption': None, 'iiifbaseuri': 'https://ids.lib.harvard.edu/ids/iiif/43162545', 'height': 784}], 'worktypes': [{'worktypeid': '288', 'worktype': 'print'}], 'imagecount': 2, 'totalpageviews': 1148, 'accessionyear': None, 'standardreferencenumber': 'G. 72, M-N. 85, Ber 59, H. 41', 'signed': None, 'classification': 'Prints', 'relatedcount': 0, 'verificationlevel': 3, 'primaryimageurl': 'https://nrs.harvard.edu/urn-3:HUAM:801702', 'titlescount': 2, 'peoplecount': 1, 'style': None, 'lastupdate': '2025-10-14T04:35:01-04:00', 'commentary': None, 'periodid': None, 'technique': 'Lithograph', 'edition': None, 'description': None, 'medium': 'Lithograph on chine collé', 'lendingpermissionlevel': 0, 'title': 'The Races', 'accessionmethod': 'Not Recorded', 'colors': [{'color': '#e1e1c8', 'spectrum': '#e9715f', 'hue': 'Green', 'percent': 0.6662146892655367, 'css3': '#dcdcdc'}, {'color': '#c8c8af', 'spectrum': '#b55592', 'hue': 'Green', 'percent': 0.1263276836158192, 'css3': '#c0c0c0'}, {'color': '#4b4b4b', 'spectrum': '#3db657', 'hue': 'Grey', 'percent': 0.04395480225988701, 'css3': '#2f4f4f'}, {'color': '#646464', 'spectrum': '#7866ad', 'hue': 'Grey', 'percent': 0.03367231638418079, 'css3': '#696969'}, {'color': '#323232', 'spectrum': '#2eb45d', 'hue': 'Grey', 'percent': 0.03367231638418079, 'css3': '#2f4f4f'}, {'color': '#7d7d7d', 'spectrum': '#8362aa', 'hue': 'Grey', 'percent': 0.03175141242937853, 'css3': '#808080'}, {'color': '#969696', 'spectrum': '#8761aa', 'hue': 'Grey', 'percent': 0.03175141242937853, 'css3': '#a9a9a9'}, {'color': '#afaf96', 'spectrum': '#8e5ea7', 'hue': 'Green', 'percent': 0.030508474576271188, 'css3': '#a9a9a9'}, {'color': '#191919', 'spectrum': '#1eb264', 'hue': 'Grey', 'percent': 0.0021468926553672315, 'css3': '#000000'}], 'provenance': None, 'groupcount': 1, 'dated': 'c. 1865 - c. 1872', 'department': 'Department of Prints', 'dateend': 1872, 'people': [{'role': 'Artist', 'birthplace': 'Paris', 'gender': 'male', 'displaydate': '1832 - 1883', 'prefix': None, 'culture': 'French', 'displayname': 'Edouard Manet', 'alphasort': 'Manet, Edouard', 'name': 'Edouard Manet', 'personid': 27349, 'deathplace': 'Paris', 'displayorder': 1}], 'url': 'https://www.harvardartmuseums.org/collections/object/300050', 'dateoffirstpageview': '2009-07-04', 'century': '19th century', 'objectnumber': 'G8744', 'labeltext': None, 'datebegin': 1865, 'culture': 'French', 'exhibitioncount': 1, 'imagepermissionlevel': 0, 'mediacount': 0, 'objectid': 300050, 'techniqueid': 136, 'dimensions': 'chine collé: 39 x 51 cm (15 3/8 x 20 1/16 in.)', 'seeAlso': [{'id': 'https://iiif.harvardartmuseums.org/manifests/object/300050', 'type': 'IIIF Manifest', 'format': 'application/json', 'profile': 'http://iiif.io/api/presentation/2/context.json'}]}, {'copyright': None, 'contextualtextcount': 0, 'creditline': 'Harvard Art Museums/Fogg Museum, Gray Collection of Engravings Fund', 'accesslevel': 1, 'createdate': '1997-09-03T00:00:00-04:00', 'dateoflastpageview': '2025-10-07', 'classificationid': 23, 'division': 'European and American Art', 'markscount': 7, 'publicationcount': 0, 'totaluniquepageviews': 951, 'contact': 'am_europeanamerican@harvard.edu', 'colorcount': 9, 'rank': 19, 'id': 279295, 'state': 'iii/iii', 'verificationleveldescription': 'Good. Object is well described and information is vetted', 'period': None, 'images': [{'date': '2008-06-25', 'copyright': 'President and Fellows of Harvard College', 'imageid': 313463, 'idsid': 20461127, 'format': 'image/jpeg', 'description': None, 'technique': None, 'renditionnumber': 'INV196626', 'displayorder': 1, 'baseimageurl': 'https://nrs.harvard.edu/urn-3:HUAM:INV196626_dynmc', 'alttext': None, 'width': 2550, 'publiccaption': None, 'iiifbaseuri': 'https://ids.lib.harvard.edu/ids/iiif/20461127', 'height': 1809}], 'worktypes': [{'worktypeid': '288', 'worktype': 'print'}], 'imagecount': 1, 'totalpageviews': 1064, 'accessionyear': None, 'standardreferencenumber': 'Finberg, Rawlinson 69', 'signed': None, 'classification': 'Prints', 'relatedcount': 0, 'verificationlevel': 3, 'primaryimageurl': 'https://nrs.harvard.edu/urn-3:HUAM:INV196626_dynmc', 'titlescount': 2, 'peoplecount': 3, 'style': None, 'lastupdate': '2025-10-14T04:34:38-04:00', 'commentary': None, 'periodid': None, 'technique': 'Etching and mezzotint', 'edition': None, 'description': None, 'medium': 'Etching and mezzotint printed in brown ink on off-white wove paper', 'lendingpermissionlevel': 0, 'title': 'Ben Arthur, Scotland', 'accessionmethod': 'Not Recorded', 'colors': [{'color': '#e1e1c8', 'spectrum': '#e9715f', 'hue': 'Green', 'percent': 0.5083647798742138, 'css3': '#dcdcdc'}, {'color': '#fae1e1', 'spectrum': '#e76d63', 'hue': 'Red', 'percent': 0.09886792452830188, 'css3': '#ffe4e1'}, {'color': '#643219', 'spectrum': '#59ba4a', 'hue': 'Brown', 'percent': 0.0838993710691824, 'css3': '#8b4513'}, {'color': '#4b3200', 'spectrum': '#59ba4a', 'hue': 'Brown', 'percent': 0.061823899371069184, 'css3': '#8b4513'}, {'color': '#321900', 'spectrum': '#3db657', 'hue': 'Brown', 'percent': 0.060125786163522016, 'css3': '#000000'}, {'color': '#c89664', 'spectrum': '#ed7758', 'hue': 'Brown', 'percent': 0.057044025157232704, 'css3': '#bdb76b'}, {'color': '#af7d4b', 'spectrum': '#e9715f', 'hue': 'Yellow', 'percent': 0.04591194968553459, 'css3': '#cd853f'}, {'color': '#7d4b19', 'spectrum': '#6cbd45', 'hue': 'Brown', 'percent': 0.04465408805031446, 'css3': '#8b4513'}, {'color': '#966432', 'spectrum': '#e46867', 'hue': 'Orange', 'percent': 0.03930817610062893, 'css3': '#a0522d'}], 'provenance': None, 'groupcount': 1, 'dated': '1819', 'department': 'Department of Prints', 'dateend': 1819, 'people': [{'role': 'Artist', 'birthplace': 'London, England', 'gender': 'male', 'displaydate': '1775 - 1851', 'prefix': 'Etching by', 'culture': 'British', 'displayname': 'Etching by Joseph Mallord William Turner', 'alphasort': 'Turner, Joseph Mallord William', 'name': 'Joseph Mallord William Turner', 'personid': 29118, 'deathplace': 'Chelsea, England', 'displayorder': 1}, {'role': 'Artist', 'birthplace': None, 'gender': 'male', 'displaydate': '1791 - 1873', 'prefix': 'Mezzotint by', 'culture': 'British', 'displayname': 'Mezzotint by Thomas Goff Lupton', 'alphasort': 'Lupton, Thomas Goff', 'name': 'Thomas Goff Lupton', 'personid': 32215, 'deathplace': None, 'displayorder': 2}, {'role': 'Publisher', 'birthplace': 'London, England', 'gender': 'male', 'displaydate': '1775 - 1851', 'prefix': 'Published by', 'culture': 'British', 'displayname': 'Published by Joseph Mallord William Turner', 'alphasort': 'Turner, Joseph Mallord William', 'name': 'Joseph Mallord William Turner', 'personid': 29118, 'deathplace': 'Chelsea, England', 'displayorder': 3}], 'url': 'https://www.harvardartmuseums.org/collections/object/279295', 'dateoffirstpageview': '2012-07-31', 'century': '19th century', 'objectnumber': 'G5085', 'labeltext': None, 'datebegin': 1819, 'culture': 'British', 'exhibitioncount': 0, 'imagepermissionlevel': 0, 'mediacount': 0, 'objectid': 279295, 'techniqueid': 312, 'dimensions': 'sheet: 28.5 x 41.5 cm (11 1/4 x 16 5/16 in.)\\r\\nplatemark: 21 x 29.2 cm (8 1/4 x 11 1/2 in.)', 'seeAlso': [{'id': 'https://iiif.harvardartmuseums.org/manifests/object/279295', 'type': 'IIIF Manifest', 'format': 'application/json', 'profile': 'http://iiif.io/api/presentation/2/context.json'}]}, {'copyright': None, 'contextualtextcount': 0, 'creditline': 'Harvard Art Museums/Fogg Museum, Gift of Paul J. Sachs', 'accesslevel': 1, 'createdate': '1997-10-21T00:00:00-04:00', 'dateoflastpageview': '2025-10-07', 'classificationid': 23, 'division': 'European and American Art', 'markscount': 5, 'publicationcount': 0, 'totaluniquepageviews': 968, 'contact': 'am_europeanamerican@harvard.edu', 'colorcount': 8, 'rank': 20, 'id': 256137, 'state': None, 'verificationleveldescription': 'Good. Object is well described and information is vetted', 'period': None, 'images': [{'date': '2007-09-26', 'copyright': 'President and Fellows of Harvard College', 'imageid': 267683, 'idsid': 20406739, 'format': 'image/jpeg', 'description': None, 'technique': None, 'renditionnumber': 'INV159817', 'displayorder': 1, 'baseimageurl': 'https://nrs.harvard.edu/urn-3:HUAM:INV159817_dynmc', 'alttext': None, 'width': 2550, 'publiccaption': None, 'iiifbaseuri': 'https://ids.lib.harvard.edu/ids/iiif/20406739', 'height': 1929}], 'worktypes': [{'worktypeid': '288', 'worktype': 'print'}], 'imagecount': 1, 'totalpageviews': 1071, 'accessionyear': 1942, 'standardreferencenumber': None, 'signed': None, 'classification': 'Prints', 'relatedcount': 0, 'verificationlevel': 3, 'primaryimageurl': 'https://nrs.harvard.edu/urn-3:HUAM:INV159817_dynmc', 'titlescount': 1, 'peoplecount': 1, 'style': None, 'lastupdate': '2025-10-14T04:34:14-04:00', 'commentary': None, 'periodid': None, 'technique': 'Etching', 'edition': None, 'description': None, 'medium': 'Etching on off white wove paper', 'lendingpermissionlevel': 0, 'title': 'Perils of the Sea', 'accessionmethod': 'Gift', 'colors': [{'color': '#c8af96', 'spectrum': '#e66c64', 'hue': 'Brown', 'percent': 0.27421828908554574, 'css3': '#d2b48c'}, {'color': '#323219', 'spectrum': '#3db657', 'hue': 'Brown', 'percent': 0.20607669616519175, 'css3': '#2f4f4f'}, {'color': '#c8c8af', 'spectrum': '#b55592', 'hue': 'Green', 'percent': 0.17185840707964603, 'css3': '#c0c0c0'}, {'color': '#644b32', 'spectrum': '#59ba4a', 'hue': 'Brown', 'percent': 0.11256637168141594, 'css3': '#556b2f'}, {'color': '#7d644b', 'spectrum': '#b25593', 'hue': 'Yellow', 'percent': 0.08271386430678467, 'css3': '#696969'}, {'color': '#191900', 'spectrum': '#2eb45d', 'hue': 'Brown', 'percent': 0.06353982300884956, 'css3': '#000000'}, {'color': '#af967d', 'spectrum': '#c25687', 'hue': 'Brown', 'percent': 0.05474926253687316, 'css3': '#bc8f8f'}, {'color': '#967d64', 'spectrum': '#b65590', 'hue': 'Brown', 'percent': 0.03427728613569322, 'css3': '#808080'}], 'provenance': None, 'groupcount': 1, 'dated': '1888', 'department': 'Department of Prints', 'dateend': 1888, 'people': [{'role': 'Artist', 'birthplace': 'Boston, MA', 'gender': 'male', 'displaydate': '1836 - 1910', 'prefix': None, 'culture': 'American', 'displayname': 'Winslow Homer', 'alphasort': 'Homer, Winslow', 'name': 'Winslow Homer', 'personid': 26501, 'deathplace': 'Prouts Neck, ME', 'displayorder': 1}], 'url': 'https://www.harvardartmuseums.org/collections/object/256137', 'dateoffirstpageview': '2009-09-20', 'century': '19th century', 'objectnumber': 'M10128', 'labeltext': None, 'datebegin': 1888, 'culture': 'American', 'exhibitioncount': 0, 'imagepermissionlevel': 0, 'mediacount': 0, 'objectid': 256137, 'techniqueid': 116, 'dimensions': 'sheet: 45.5 x 60.7 cm (17 15/16 x 23 7/8 in.)\\r\\nimage: 35 x 51.8 cm (13 3/4 x 20 3/8 in.)', 'seeAlso': [{'id': 'https://iiif.harvardartmuseums.org/manifests/object/256137', 'type': 'IIIF Manifest', 'format': 'application/json', 'profile': 'http://iiif.io/api/presentation/2/context.json'}]}, {'copyright': None, 'contextualtextcount': 0, 'creditline': 'Harvard Art Museums/Arthur M. Sackler Museum, Gift of the Friends of Arthur B. Duel', 'accesslevel': 1, 'createdate': '1998-07-12T00:00:00-04:00', 'dateoflastpageview': '2025-10-07', 'classificationid': 23, 'division': 'Asian and Mediterranean Art', 'markscount': 0, 'publicationcount': 0, 'totaluniquepageviews': 982, 'contact': 'am_asianmediterranean@harvard.edu', 'colorcount': 9, 'rank': 22, 'id': 207628, 'state': None, 'verificationleveldescription': 'Good. Object is well described and information is vetted', 'period': 'Edo period, 1615-1868', 'images': [{'date': '2008-09-29', 'copyright': 'President and Fellows of Harvard College', 'imageid': 322720, 'idsid': 10946047, 'format': 'image/jpeg', 'description': None, 'technique': None, 'renditionnumber': 'DDC106468', 'displayorder': 1, 'baseimageurl': 'https://nrs.harvard.edu/urn-3:HUAM:DDC106468_dynmc', 'alttext': None, 'width': 1629, 'publiccaption': None, 'iiifbaseuri': 'https://ids.lib.harvard.edu/ids/iiif/10946047', 'height': 2550}], 'worktypes': [{'worktypeid': '288', 'worktype': 'print'}], 'imagecount': 1, 'totalpageviews': 1123, 'accessionyear': 1933, 'standardreferencenumber': None, 'signed': '(printed) Tōshūsai Sharaku ga', 'classification': 'Prints', 'relatedcount': 0, 'verificationlevel': 3, 'primaryimageurl': 'https://nrs.harvard.edu/urn-3:HUAM:DDC106468_dynmc', 'titlescount': 2, 'peoplecount': 1, 'style': None, 'lastupdate': '2025-10-14T04:33:20-04:00', 'commentary': None, 'periodid': 248, 'technique': None, 'edition': None, 'description': None, 'medium': 'Ukiyo-e woodblock print in \"ōban\" format; ink, color and mica on paper, with printed signature reading \"Tōshūsai Sharaku ga\"', 'lendingpermissionlevel': 0, 'title': 'Actor Segawa Kikunojō 3rd as Oshizu, the Wife of Tanabe Bunzō from the Play \"Hana-Ayame Bunroku Soga\" (Miyako-za)', 'accessionmethod': 'Gift', 'colors': [{'color': '#e1e1c8', 'spectrum': '#e9715f', 'hue': 'Green', 'percent': 0.27024561403508773, 'css3': '#dcdcdc'}, {'color': '#646464', 'spectrum': '#7866ad', 'hue': 'Grey', 'percent': 0.17621052631578948, 'css3': '#696969'}, {'color': '#7d7d64', 'spectrum': '#6cbd45', 'hue': 'Yellow', 'percent': 0.16147368421052632, 'css3': '#808080'}, {'color': '#c8af96', 'spectrum': '#e66c64', 'hue': 'Brown', 'percent': 0.16, 'css3': '#d2b48c'}, {'color': '#323232', 'spectrum': '#2eb45d', 'hue': 'Grey', 'percent': 0.10063157894736842, 'css3': '#2f4f4f'}, {'color': '#96967d', 'spectrum': '#8e5ea7', 'hue': 'Green', 'percent': 0.0832982456140351, 'css3': '#808080'}, {'color': '#4b4b4b', 'spectrum': '#3db657', 'hue': 'Grey', 'percent': 0.03494736842105263, 'css3': '#2f4f4f'}, {'color': '#c8644b', 'spectrum': '#e46867', 'hue': 'Red', 'percent': 0.012771929824561403, 'css3': '#cd5c5c'}, {'color': '#964b32', 'spectrum': '#d0577c', 'hue': 'Orange', 'percent': 0.0004210526315789474, 'css3': '#a0522d'}], 'provenance': None, 'groupcount': 1, 'dated': 'Late Edo period, 1794 (5th month)', 'department': 'Department of Asian Art', 'dateend': 1794, 'people': [{'role': 'Artist', 'birthplace': None, 'gender': 'male', 'displaydate': 'active 1794 - 1795', 'prefix': None, 'culture': 'Japanese', 'displayname': 'Tōshūsai Sharaku', 'alphasort': 'Tōshūsai, Sharaku', 'name': 'Tōshūsai Sharaku', 'personid': 28644, 'deathplace': None, 'displayorder': 1}], 'url': 'https://www.harvardartmuseums.org/collections/object/207628', 'dateoffirstpageview': '2009-08-07', 'century': '18th century', 'objectnumber': '1933.4.515', 'labeltext': None, 'datebegin': 1794, 'culture': 'Japanese', 'exhibitioncount': 1, 'imagepermissionlevel': 0, 'mediacount': 0, 'objectid': 207628, 'techniqueid': None, 'dimensions': 'Paper: H. 36.9 cm x W. 23.7 cm (14 1/2 x 9 5/16 in.)', 'seeAlso': [{'id': 'https://iiif.harvardartmuseums.org/manifests/object/207628', 'type': 'IIIF Manifest', 'format': 'application/json', 'profile': 'http://iiif.io/api/presentation/2/context.json'}]}, {'copyright': '© Artists Rights Society (ARS), New York / VG Bild-Kunst, Bonn', 'contextualtextcount': 0, 'creditline': 'Harvard Art Museums/Fogg Museum, Gift of Peter G. and Elizabeth S. Neumann', 'accesslevel': 1, 'createdate': '2009-10-27T17:29:30-04:00', 'dateoflastpageview': '2025-10-07', 'classificationid': 23, 'division': 'Modern and Contemporary Art', 'markscount': 3, 'publicationcount': 0, 'totaluniquepageviews': 1007, 'contact': 'am_moderncontemporary@harvard.edu', 'colorcount': 9, 'rank': 23, 'id': 333591, 'state': None, 'verificationleveldescription': 'Good. Object is well described and information is vetted', 'period': None, 'images': [], 'worktypes': [{'worktypeid': '288', 'worktype': 'print'}], 'imagecount': 1, 'totalpageviews': 1156, 'accessionyear': 2009, 'standardreferencenumber': 'Karsch 84; Rudiger 281', 'signed': None, 'classification': 'Prints', 'relatedcount': 0, 'verificationlevel': 3, 'primaryimageurl': None, 'titlescount': 1, 'peoplecount': 1, 'style': None, 'lastupdate': '2025-10-14T04:35:37-04:00', 'commentary': None, 'periodid': None, 'technique': 'Etching, softground etching and drypoint', 'edition': '70/70', 'description': None, 'medium': 'Etching, drypoint and soft-ground on off white modern laid paper', 'lendingpermissionlevel': 0, 'title': 'Abandoned post near Vis-en Artois (Verlassene Stellung bei Vis-en Artois)', 'accessionmethod': 'Gift', 'colors': [{'color': '#e1e1e1', 'spectrum': '#955ba5', 'hue': 'Grey', 'percent': 0.32941520467836255, 'css3': '#dcdcdc'}, {'color': '#7d7d7d', 'spectrum': '#8362aa', 'hue': 'Grey', 'percent': 0.15502923976608188, 'css3': '#808080'}, {'color': '#646464', 'spectrum': '#7866ad', 'hue': 'Grey', 'percent': 0.13964912280701755, 'css3': '#696969'}, {'color': '#969696', 'spectrum': '#8761aa', 'hue': 'Grey', 'percent': 0.11116959064327485, 'css3': '#a9a9a9'}, {'color': '#4b4b4b', 'spectrum': '#3db657', 'hue': 'Grey', 'percent': 0.09070175438596491, 'css3': '#2f4f4f'}, {'color': '#afafaf', 'spectrum': '#8c5fa8', 'hue': 'Grey', 'percent': 0.062046783625730996, 'css3': '#a9a9a9'}, {'color': '#323232', 'spectrum': '#2eb45d', 'hue': 'Grey', 'percent': 0.058771929824561406, 'css3': '#2f4f4f'}, {'color': '#c8c8c8', 'spectrum': '#8c5fa8', 'hue': 'Grey', 'percent': 0.04450292397660819, 'css3': '#c0c0c0'}, {'color': '#191919', 'spectrum': '#1eb264', 'hue': 'Grey', 'percent': 0.008713450292397661, 'css3': '#000000'}], 'provenance': 'JB Neumann [between 1932 and 1961]. Bequested to Elsa Schmid Neumann and Peter Neumann [1961-2009]. Harvard Art Museum', 'groupcount': 1, 'dated': '1924', 'department': 'Department of Prints', 'dateend': 1924, 'people': [{'role': 'Artist', 'birthplace': 'Gera, Germany', 'gender': 'male', 'displaydate': '1891 - 1969', 'prefix': None, 'culture': 'German', 'displayname': 'Otto Dix', 'alphasort': 'Dix, Otto', 'name': 'Otto Dix', 'personid': 18182, 'deathplace': 'Singen, Germany', 'displayorder': 1}], 'url': 'https://www.harvardartmuseums.org/collections/object/333591', 'dateoffirstpageview': '2010-01-13', 'century': '20th century', 'objectnumber': '2009.193', 'labeltext': None, 'datebegin': 1924, 'culture': 'German', 'exhibitioncount': 1, 'imagepermissionlevel': 1, 'mediacount': 0, 'objectid': 333591, 'techniqueid': 4769, 'dimensions': 'sheet: 34.5 x 37 cm (13 9/16 x 14 9/16 in.)\\r\\nplate: 19 x 25.5 cm (7 1/2 x 10 1/16 in.)', 'seeAlso': [{'id': 'https://iiif.harvardartmuseums.org/manifests/object/333591', 'type': 'IIIF Manifest', 'format': 'application/json', 'profile': 'http://iiif.io/api/presentation/2/context.json'}]}, {'copyright': '© Succession H. Matisse / Artists Rights Society (ARS), New York', 'contextualtextcount': 0, 'creditline': 'Harvard Art Museums/Fogg Museum, Francis H. Burr Memorial and Alpheus Hyatt Funds', 'accesslevel': 1, 'createdate': '1997-10-18T00:00:00-04:00', 'dateoflastpageview': '2025-10-07', 'classificationid': 23, 'division': 'Modern and Contemporary Art', 'markscount': 0, 'publicationcount': 3, 'totaluniquepageviews': 1180, 'contact': 'am_moderncontemporary@harvard.edu', 'colorcount': 8, 'rank': 30, 'id': 271777, 'state': None, 'verificationleveldescription': 'Good. Object is well described and information is vetted', 'period': None, 'images': [], 'worktypes': [{'worktypeid': '288', 'worktype': 'print'}], 'imagecount': 1, 'totalpageviews': 1420, 'accessionyear': 1955, 'standardreferencenumber': 'D.-M. 317', 'signed': None, 'classification': 'Prints', 'relatedcount': 0, 'verificationlevel': 3, 'primaryimageurl': None, 'titlescount': 2, 'peoplecount': 1, 'style': None, 'lastupdate': '2025-10-14T04:34:30-04:00', 'commentary': None, 'periodid': None, 'technique': 'Woodcut', 'edition': None, 'description': None, 'medium': None, 'lendingpermissionlevel': 0, 'title': 'The Large Woodcut Nude', 'accessionmethod': 'Purchase', 'colors': [{'color': '#e1c8c8', 'spectrum': '#c15689', 'hue': 'Orange', 'percent': 0.38122222222222224, 'css3': '#d8bfd8'}, {'color': '#c8c8af', 'spectrum': '#b55592', 'hue': 'Green', 'percent': 0.30144444444444446, 'css3': '#c0c0c0'}, {'color': '#646464', 'spectrum': '#7866ad', 'hue': 'Grey', 'percent': 0.060055555555555556, 'css3': '#696969'}, {'color': '#4b4b4b', 'spectrum': '#3db657', 'hue': 'Grey', 'percent': 0.058333333333333334, 'css3': '#2f4f4f'}, {'color': '#7d7d7d', 'spectrum': '#8362aa', 'hue': 'Grey', 'percent': 0.05605555555555555, 'css3': '#808080'}, {'color': '#afaf96', 'spectrum': '#8e5ea7', 'hue': 'Green', 'percent': 0.051055555555555555, 'css3': '#a9a9a9'}, {'color': '#96967d', 'spectrum': '#8e5ea7', 'hue': 'Green', 'percent': 0.051055555555555555, 'css3': '#808080'}, {'color': '#323232', 'spectrum': '#2eb45d', 'hue': 'Grey', 'percent': 0.04077777777777778, 'css3': '#2f4f4f'}], 'provenance': '[Peter H. Deitsch], sold; to Fogg Art Museum, March 22, 1955.', 'groupcount': 1, 'dated': '1906', 'department': 'Department of Prints', 'dateend': 1906, 'people': [{'role': 'Artist', 'birthplace': 'Cateau-Cambresis, France', 'gender': 'male', 'displaydate': '1869 - 1954', 'prefix': None, 'culture': 'French', 'displayname': 'Henri Matisse', 'alphasort': 'Matisse, Henri', 'name': 'Henri Matisse', 'personid': 27494, 'deathplace': 'Nice, France', 'displayorder': 1}], 'url': 'https://www.harvardartmuseums.org/collections/object/271777', 'dateoffirstpageview': '2009-06-30', 'century': '20th century', 'objectnumber': 'M13022', 'labeltext': None, 'datebegin': 1906, 'culture': 'French', 'exhibitioncount': 3, 'imagepermissionlevel': 1, 'mediacount': 0, 'objectid': 271777, 'techniqueid': 194, 'dimensions': 'image: 47.1 x 38.3 cm (18 9/16 x 15 1/16 in.)', 'seeAlso': [{'id': 'https://iiif.harvardartmuseums.org/manifests/object/271777', 'type': 'IIIF Manifest', 'format': 'application/json', 'profile': 'http://iiif.io/api/presentation/2/context.json'}]}, {'copyright': '\\r\\n© Vija Celmins, Courtesy Matthew Marks Gallery', 'contextualtextcount': 0, 'creditline': 'Harvard Art Museums/Fogg Museum, Margaret Fisher Fund', 'accesslevel': 1, 'createdate': '1997-10-21T00:00:00-04:00', 'dateoflastpageview': '2025-10-07', 'classificationid': 23, 'division': 'Modern and Contemporary Art', 'markscount': 0, 'publicationcount': 0, 'totaluniquepageviews': 1196, 'contact': 'am_moderncontemporary@harvard.edu', 'colorcount': 8, 'rank': 33, 'id': 255463, 'state': None, 'verificationleveldescription': 'Good. Object is well described and information is vetted', 'period': None, 'images': [{'date': '2014-04-04', 'copyright': 'President and Fellows of Harvard College', 'imageid': 434078, 'idsid': 48366871, 'format': 'image/jpeg', 'description': 'A black-and-white print shows a black square dotted with small, white circles. The circles are not all the same size, and they are not evenly spaced apart from each other. Just to the left of the center, there is a small, white diagonal line with a rounded top.', 'technique': None, 'renditionnumber': 'DDC254141', 'displayorder': 1, 'baseimageurl': 'https://nrs.harvard.edu/urn-3:HUAM:DDC254141_dynmc', 'alttext': 'A black-and-white print portrays the night sky filled with stars and one comet.', 'width': 2550, 'publiccaption': None, 'iiifbaseuri': 'https://ids.lib.harvard.edu/ids/iiif/48366871', 'height': 2288}, {'date': '2007-10-31', 'copyright': 'President and Fellows of Harvard College', 'imageid': 274126, 'idsid': 20426541, 'format': 'image/jpeg', 'description': None, 'technique': None, 'renditionnumber': 'INV164059', 'displayorder': 2, 'baseimageurl': 'https://nrs.harvard.edu/urn-3:HUAM:INV164059_dynmc', 'alttext': None, 'width': 2365, 'publiccaption': None, 'iiifbaseuri': 'https://ids.lib.harvard.edu/ids/iiif/20426541', 'height': 2147}], 'worktypes': [{'worktypeid': '288', 'worktype': 'print'}], 'imagecount': 2, 'totalpageviews': 1522, 'accessionyear': 1993, 'standardreferencenumber': None, 'signed': 'V. Celmins', 'classification': 'Prints', 'relatedcount': 0, 'verificationlevel': 3, 'primaryimageurl': 'https://nrs.harvard.edu/urn-3:HUAM:DDC254141_dynmc', 'titlescount': 2, 'peoplecount': 1, 'style': None, 'lastupdate': '2025-10-14T04:34:14-04:00', 'commentary': None, 'periodid': None, 'technique': 'Linocut', 'edition': \"artist's proof\", 'description': None, 'medium': \"Linoleum cut with added wash to attenuate the effect of the comet's tail\", 'lendingpermissionlevel': 0, 'title': 'Comet', 'accessionmethod': 'Purchase', 'colors': [{'color': '#323232', 'spectrum': '#2eb45d', 'hue': 'Grey', 'percent': 0.8751243781094528, 'css3': '#2f4f4f'}, {'color': '#e1e1e1', 'spectrum': '#955ba5', 'hue': 'Grey', 'percent': 0.09497512437810945, 'css3': '#dcdcdc'}, {'color': '#4b4b4b', 'spectrum': '#3db657', 'hue': 'Grey', 'percent': 0.01711442786069652, 'css3': '#2f4f4f'}, {'color': '#e1c8c8', 'spectrum': '#c15689', 'hue': 'Orange', 'percent': 0.004328358208955224, 'css3': '#d8bfd8'}, {'color': '#7d7d7d', 'spectrum': '#8362aa', 'hue': 'Grey', 'percent': 0.0033333333333333335, 'css3': '#808080'}, {'color': '#646464', 'spectrum': '#7866ad', 'hue': 'Grey', 'percent': 0.0027860696517412937, 'css3': '#696969'}, {'color': '#969696', 'spectrum': '#8761aa', 'hue': 'Grey', 'percent': 0.0022885572139303484, 'css3': '#a9a9a9'}, {'color': '#afafaf', 'spectrum': '#8c5fa8', 'hue': 'Grey', 'percent': 4.9751243781094526e-05, 'css3': '#a9a9a9'}], 'provenance': '[Oberon Press, New York, New York], sold; to Harvard University Art Museums, April 13, 1993.', 'groupcount': 1, 'dated': '1992', 'department': 'Department of Prints', 'dateend': 1992, 'people': [{'role': 'Artist', 'birthplace': 'Riga, Latvia', 'gender': 'female', 'displaydate': 'born 1939', 'prefix': None, 'culture': 'American', 'displayname': 'Vija Celmins', 'alphasort': 'Celmins, Vija', 'name': 'Vija Celmins', 'personid': 31536, 'deathplace': None, 'displayorder': 1}], 'url': 'https://www.harvardartmuseums.org/collections/object/255463', 'dateoffirstpageview': '2009-08-14', 'century': '20th century', 'objectnumber': 'M22131', 'labeltext': None, 'datebegin': 1992, 'culture': 'American', 'exhibitioncount': 0, 'imagepermissionlevel': 0, 'mediacount': 0, 'objectid': 255463, 'techniqueid': 424, 'dimensions': 'block: 36.1 x 42.4 cm (14 3/16 x 16 11/16 in.)', 'seeAlso': [{'id': 'https://iiif.harvardartmuseums.org/manifests/object/255463', 'type': 'IIIF Manifest', 'format': 'application/json', 'profile': 'http://iiif.io/api/presentation/2/context.json'}]}, {'copyright': None, 'contextualtextcount': 0, 'creditline': 'Harvard Art Museums/Fogg Museum, Gift of Ruth S. Magurn', 'accesslevel': 1, 'createdate': '1997-10-20T00:00:00-04:00', 'dateoflastpageview': '2025-10-08', 'classificationid': 23, 'division': 'European and American Art', 'markscount': 1, 'publicationcount': 0, 'totaluniquepageviews': 991, 'contact': 'am_europeanamerican@harvard.edu', 'colorcount': 9, 'rank': 43, 'id': 262439, 'state': 'iii/vii', 'verificationleveldescription': 'Good. Object is well described and information is vetted', 'period': None, 'images': [{'date': '2014-07-16', 'copyright': 'President and Fellows of Harvard College', 'imageid': 442478, 'idsid': 400115373, 'format': 'image/jpeg', 'description': None, 'technique': 'Make:Sinar Photography AG;Model:Sinar CMV/ Sinarback eVolution 75H;Orientation:1;Software:Adobe Photoshop CS6 (Macintosh);', 'renditionnumber': '756347', 'displayorder': 1, 'baseimageurl': 'https://nrs.harvard.edu/urn-3:HUAM:756347', 'alttext': None, 'width': 1846, 'publiccaption': None, 'iiifbaseuri': 'https://ids.lib.harvard.edu/ids/iiif/400115373', 'height': 2450}, {'date': '2007-09-25', 'copyright': 'President and Fellows of Harvard College', 'imageid': 267309, 'idsid': 20406370, 'format': 'image/jpeg', 'description': None, 'technique': None, 'renditionnumber': 'INV159498', 'displayorder': 2, 'baseimageurl': 'https://nrs.harvard.edu/urn-3:HUAM:INV159498_dynmc', 'alttext': None, 'width': 1933, 'publiccaption': None, 'iiifbaseuri': 'https://ids.lib.harvard.edu/ids/iiif/20406370', 'height': 2550}], 'worktypes': [{'worktypeid': '288', 'worktype': 'print'}], 'imagecount': 2, 'totalpageviews': 1121, 'accessionyear': 1959, 'standardreferencenumber': 'F. 29, H. 6, Rob. 32 iii/vii', 'signed': None, 'classification': 'Prints', 'relatedcount': 0, 'verificationlevel': 3, 'primaryimageurl': 'https://nrs.harvard.edu/urn-3:HUAM:756347', 'titlescount': 2, 'peoplecount': 1, 'style': None, 'lastupdate': '2025-10-14T04:34:21-04:00', 'commentary': None, 'periodid': None, 'technique': 'Etching', 'edition': None, 'description': None, 'medium': 'Etching on heavy cream antique laid paper', 'lendingpermissionlevel': 0, 'title': 'The Smoking Fire', 'accessionmethod': 'Gift', 'colors': [{'color': '#323232', 'spectrum': '#2eb45d', 'hue': 'Grey', 'percent': 0.3123893805309734, 'css3': '#2f4f4f'}, {'color': '#4b4b4b', 'spectrum': '#3db657', 'hue': 'Grey', 'percent': 0.20047197640117995, 'css3': '#2f4f4f'}, {'color': '#e1e1c8', 'spectrum': '#e9715f', 'hue': 'Green', 'percent': 0.12932153392330384, 'css3': '#dcdcdc'}, {'color': '#64644b', 'spectrum': '#59ba4a', 'hue': 'Green', 'percent': 0.10896755162241888, 'css3': '#696969'}, {'color': '#c8c8af', 'spectrum': '#b55592', 'hue': 'Green', 'percent': 0.09929203539823009, 'css3': '#c0c0c0'}, {'color': '#7d7d64', 'spectrum': '#6cbd45', 'hue': 'Yellow', 'percent': 0.04896755162241888, 'css3': '#808080'}, {'color': '#96967d', 'spectrum': '#8e5ea7', 'hue': 'Green', 'percent': 0.047256637168141595, 'css3': '#808080'}, {'color': '#afaf96', 'spectrum': '#8e5ea7', 'hue': 'Green', 'percent': 0.045545722713864305, 'css3': '#a9a9a9'}, {'color': '#fae1e1', 'spectrum': '#e76d63', 'hue': 'Red', 'percent': 0.007787610619469027, 'css3': '#ffe4e1'}], 'provenance': None, 'groupcount': 1, 'dated': '1749-1750', 'department': 'Department of Prints', 'dateend': 1750, 'people': [{'role': 'Artist', 'birthplace': 'Mogliano Veneto, Italy', 'gender': 'male', 'displaydate': '1720 - 1778', 'prefix': None, 'culture': 'Italian', 'displayname': 'Giovanni Battista Piranesi', 'alphasort': 'Piranesi, Giovanni Battista', 'name': 'Giovanni Battista Piranesi', 'personid': 28089, 'deathplace': 'Rome, Italy', 'displayorder': 1}], 'url': 'https://www.harvardartmuseums.org/collections/object/262439', 'dateoffirstpageview': '2011-08-07', 'century': '18th century', 'objectnumber': 'M13615', 'labeltext': None, 'datebegin': 1749, 'culture': 'Italian', 'exhibitioncount': 0, 'imagepermissionlevel': 0, 'mediacount': 0, 'objectid': 262439, 'techniqueid': 116, 'dimensions': 'plate: 54.7 x 39.9 cm (21 9/16 x 15 11/16 in.)\\r\\nsheet: 60.4 x 45.1 cm (23 3/4 x 17 3/4 in.)', 'seeAlso': [{'id': 'https://iiif.harvardartmuseums.org/manifests/object/262439', 'type': 'IIIF Manifest', 'format': 'application/json', 'profile': 'http://iiif.io/api/presentation/2/context.json'}]}, {'copyright': None, 'contextualtextcount': 0, 'creditline': 'Harvard Art Museums/Fogg Museum, Gift of Mariot Fraser Solomon in memory of Arthur K. Solomon', 'accesslevel': 1, 'createdate': '2004-09-20T00:00:00-04:00', 'dateoflastpageview': '2025-10-08', 'classificationid': 23, 'division': 'European and American Art', 'markscount': 0, 'publicationcount': 1, 'totaluniquepageviews': 1112, 'contact': 'am_europeanamerican@harvard.edu', 'colorcount': 7, 'rank': 48, 'id': 55407, 'state': 'proof before letters', 'verificationleveldescription': 'Good. Object is well described and information is vetted', 'period': None, 'images': [{'date': '2023-10-23', 'copyright': 'President and Fellows of Harvard College', 'imageid': 547633, 'idsid': 498080542, 'format': 'image/jpeg', 'description': None, 'technique': 'Make:SONY;Model:ILCE-7RM4;Orientation:1;Software:Adobe Photoshop 25.0 (Macintosh);', 'renditionnumber': '787561', 'displayorder': 1, 'baseimageurl': 'https://nrs.harvard.edu/urn-3:HUAM:787561', 'alttext': None, 'width': 1878, 'publiccaption': 'before treatment', 'iiifbaseuri': 'https://ids.lib.harvard.edu/ids/iiif/498080542', 'height': 2550}, {'date': '2023-10-23', 'copyright': 'President and Fellows of Harvard College', 'imageid': 547632, 'idsid': 498080538, 'format': 'image/jpeg', 'description': None, 'technique': 'Make:SONY;Model:ILCE-7RM4;Orientation:1;Software:Adobe Photoshop 25.0 (Macintosh);', 'renditionnumber': '787560', 'displayorder': 2, 'baseimageurl': 'https://nrs.harvard.edu/urn-3:HUAM:787560', 'alttext': None, 'width': 1826, 'publiccaption': 'before treatment', 'iiifbaseuri': 'https://ids.lib.harvard.edu/ids/iiif/498080538', 'height': 2550}, {'date': '2005-11-21', 'copyright': 'President and Fellows of Harvard College', 'imageid': 134992, 'idsid': 18482704, 'format': 'image/jpeg', 'description': None, 'technique': None, 'renditionnumber': '79043', 'displayorder': 3, 'baseimageurl': 'https://nrs.harvard.edu/urn-3:HUAM:79043_dynmc', 'alttext': None, 'width': 1804, 'publiccaption': None, 'iiifbaseuri': 'https://ids.lib.harvard.edu/ids/iiif/18482704', 'height': 2550}], 'worktypes': [{'worktypeid': '288', 'worktype': 'print'}], 'imagecount': 3, 'totalpageviews': 1258, 'accessionyear': 2004, 'standardreferencenumber': None, 'signed': None, 'classification': 'Prints', 'relatedcount': 0, 'verificationlevel': 3, 'primaryimageurl': 'https://nrs.harvard.edu/urn-3:HUAM:787561', 'titlescount': 2, 'peoplecount': 1, 'style': None, 'lastupdate': '2025-10-14T04:31:24-04:00', 'commentary': None, 'periodid': None, 'technique': 'Lithograph', 'edition': None, 'description': None, 'medium': None, 'lendingpermissionlevel': 0, 'title': 'The Apostle Jean Journet', 'accessionmethod': 'Gift', 'colors': [{'color': '#c8c8af', 'spectrum': '#b55592', 'hue': 'Green', 'percent': 0.5097575757575757, 'css3': '#c0c0c0'}, {'color': '#4b4b4b', 'spectrum': '#3db657', 'hue': 'Grey', 'percent': 0.10933333333333334, 'css3': '#2f4f4f'}, {'color': '#7d7d64', 'spectrum': '#6cbd45', 'hue': 'Yellow', 'percent': 0.09036363636363637, 'css3': '#808080'}, {'color': '#96967d', 'spectrum': '#8e5ea7', 'hue': 'Green', 'percent': 0.08278787878787879, 'css3': '#808080'}, {'color': '#afaf96', 'spectrum': '#8e5ea7', 'hue': 'Green', 'percent': 0.07696969696969697, 'css3': '#a9a9a9'}, {'color': '#64644b', 'spectrum': '#59ba4a', 'hue': 'Green', 'percent': 0.07490909090909091, 'css3': '#696969'}, {'color': '#323232', 'spectrum': '#2eb45d', 'hue': 'Grey', 'percent': 0.05587878787878788, 'css3': '#2f4f4f'}], 'provenance': 'Samuel Josefowitz, Pully / Lausanne, Switzerland, sold; to R. M. Light, 2004, sold; to Mariot Fraser Solomon, gift; to Harvard University Art Museums, 2004.\\r\\n', 'groupcount': 2, 'dated': '1850', 'department': 'Department of Prints', 'dateend': 1850, 'people': [{'role': 'Artist', 'birthplace': 'Ornans, France', 'gender': 'male', 'displaydate': '1819 - 1877', 'prefix': None, 'culture': 'French', 'displayname': 'Gustave Courbet', 'alphasort': 'Courbet, Gustave', 'name': 'Gustave Courbet', 'personid': 33736, 'deathplace': 'La Tour-de-Peilzy, near Vevey, Switzerland', 'displayorder': 1}], 'url': 'https://www.harvardartmuseums.org/collections/object/55407', 'dateoffirstpageview': '2009-07-08', 'century': '19th century', 'objectnumber': 'M26222', 'labeltext': None, 'datebegin': 1850, 'culture': 'French', 'exhibitioncount': 0, 'imagepermissionlevel': 0, 'mediacount': 0, 'objectid': 55407, 'techniqueid': 136, 'dimensions': 'image with border: 24.5 × 17 cm (9 5/8 × 6 11/16 in.)\\r\\nsheet: 45.2 × 32.4 cm (17 13/16 × 12 3/4 in.)', 'seeAlso': [{'id': 'https://iiif.harvardartmuseums.org/manifests/object/55407', 'type': 'IIIF Manifest', 'format': 'application/json', 'profile': 'http://iiif.io/api/presentation/2/context.json'}]}, {'copyright': None, 'contextualtextcount': 0, 'creditline': 'Harvard Art Museums/Fogg Museum, Gift of Peter G. and Elizabeth S. Neumann', 'accesslevel': 1, 'createdate': '2009-10-26T11:51:19-04:00', 'dateoflastpageview': '2025-10-08', 'classificationid': 23, 'division': 'European and American Art', 'markscount': 2, 'publicationcount': 0, 'totaluniquepageviews': 1220, 'contact': 'am_europeanamerican@harvard.edu', 'colorcount': 10, 'rank': 57, 'id': 333527, 'state': None, 'verificationleveldescription': 'Good. Object is well described and information is vetted', 'period': None, 'images': [{'date': '2010-01-05', 'copyright': 'President and Fellows of Harvard College', 'imageid': 362709, 'idsid': 14791283, 'format': 'image/jpeg', 'description': None, 'technique': None, 'renditionnumber': 'DDC109385', 'displayorder': 1, 'baseimageurl': 'https://nrs.harvard.edu/urn-3:HUAM:DDC109385_dynmc', 'alttext': None, 'width': 1764, 'publiccaption': None, 'iiifbaseuri': 'https://ids.lib.harvard.edu/ids/iiif/14791283', 'height': 2550}], 'worktypes': [{'worktypeid': '288', 'worktype': 'print'}], 'imagecount': 1, 'totalpageviews': 1395, 'accessionyear': 2009, 'standardreferencenumber': 'Reid 320; Cohn (1924) 1992; Douglas 701; Hatje 17', 'signed': None, 'classification': 'Prints', 'relatedcount': 0, 'verificationlevel': 3, 'primaryimageurl': 'https://nrs.harvard.edu/urn-3:HUAM:DDC109385_dynmc', 'titlescount': 1, 'peoplecount': 2, 'style': None, 'lastupdate': '2025-10-14T04:35:37-04:00', 'commentary': None, 'periodid': None, 'technique': 'Etching', 'edition': None, 'description': None, 'medium': 'Hand-colored etching', 'lendingpermissionlevel': 0, 'title': 'Snuffing Out Boney!', 'accessionmethod': 'Gift', 'colors': [{'color': '#e1e1c8', 'spectrum': '#e9715f', 'hue': 'Green', 'percent': 0.34744336569579287, 'css3': '#dcdcdc'}, {'color': '#c8c8af', 'spectrum': '#b55592', 'hue': 'Green', 'percent': 0.17255663430420712, 'css3': '#c0c0c0'}, {'color': '#4b644b', 'spectrum': '#3db657', 'hue': 'Green', 'percent': 0.0854368932038835, 'css3': '#556b2f'}, {'color': '#afaf96', 'spectrum': '#8e5ea7', 'hue': 'Green', 'percent': 0.08472491909385113, 'css3': '#a9a9a9'}, {'color': '#7d967d', 'spectrum': '#7866ad', 'hue': 'Green', 'percent': 0.06142394822006472, 'css3': '#808080'}, {'color': '#7d644b', 'spectrum': '#b25593', 'hue': 'Yellow', 'percent': 0.05242718446601942, 'css3': '#696969'}, {'color': '#967d64', 'spectrum': '#b65590', 'hue': 'Brown', 'percent': 0.050032362459546925, 'css3': '#808080'}, {'color': '#323232', 'spectrum': '#2eb45d', 'hue': 'Grey', 'percent': 0.043948220064724916, 'css3': '#2f4f4f'}, {'color': '#647d64', 'spectrum': '#4fb94f', 'hue': 'Green', 'percent': 0.04168284789644013, 'css3': '#696969'}, {'color': '#644b32', 'spectrum': '#59ba4a', 'hue': 'Brown', 'percent': 0.03585760517799353, 'css3': '#556b2f'}], 'provenance': 'JB Neumann, probably before 1932, bequest; to Elsa Schmid Neumann, his wife, and Peter Neumann, his son, 1961, gift; to Harvard Art Museums, 2009', 'groupcount': 2, 'dated': 'May 1, 1814', 'department': 'Department of Prints', 'dateend': 1814, 'people': [{'role': 'Artist', 'birthplace': 'London, England', 'gender': 'male', 'displaydate': '1792 - 1878', 'prefix': None, 'culture': 'British', 'displayname': 'George Cruikshank', 'alphasort': 'Cruikshank, George', 'name': 'George Cruikshank', 'personid': 34173, 'deathplace': 'London, England', 'displayorder': 1}, {'role': 'Publisher', 'birthplace': 'Wimbeldon', 'gender': 'male', 'displaydate': '1776 - 1845', 'prefix': 'Published by', 'culture': 'British', 'displayname': 'Published by Thomas Tegg', 'alphasort': 'Tegg, Thomas', 'name': 'Thomas Tegg', 'personid': 63560, 'deathplace': 'London', 'displayorder': 2}], 'url': 'https://www.harvardartmuseums.org/collections/object/333527', 'dateoffirstpageview': '2010-06-01', 'century': '19th century', 'objectnumber': '2009.139', 'labeltext': None, 'datebegin': 1814, 'culture': 'British', 'exhibitioncount': 2, 'imagepermissionlevel': 0, 'mediacount': 0, 'objectid': 333527, 'techniqueid': 116, 'dimensions': '34.5 x 24 cm (13 9/16 x 9 7/16 in.)', 'seeAlso': [{'id': 'https://iiif.harvardartmuseums.org/manifests/object/333527', 'type': 'IIIF Manifest', 'format': 'application/json', 'profile': 'http://iiif.io/api/presentation/2/context.json'}]}]\n"
     ]
    },
    {
     "data": {
      "text/html": [
       "<div>\n",
       "<style scoped>\n",
       "    .dataframe tbody tr th:only-of-type {\n",
       "        vertical-align: middle;\n",
       "    }\n",
       "\n",
       "    .dataframe tbody tr th {\n",
       "        vertical-align: top;\n",
       "    }\n",
       "\n",
       "    .dataframe thead th {\n",
       "        text-align: right;\n",
       "    }\n",
       "</style>\n",
       "<table border=\"1\" class=\"dataframe\">\n",
       "  <thead>\n",
       "    <tr style=\"text-align: right;\">\n",
       "      <th></th>\n",
       "      <th>copyright</th>\n",
       "      <th>contextualtextcount</th>\n",
       "      <th>creditline</th>\n",
       "      <th>accesslevel</th>\n",
       "      <th>createdate</th>\n",
       "      <th>dateoflastpageview</th>\n",
       "      <th>classificationid</th>\n",
       "      <th>division</th>\n",
       "      <th>markscount</th>\n",
       "      <th>publicationcount</th>\n",
       "      <th>...</th>\n",
       "      <th>labeltext</th>\n",
       "      <th>datebegin</th>\n",
       "      <th>culture</th>\n",
       "      <th>exhibitioncount</th>\n",
       "      <th>imagepermissionlevel</th>\n",
       "      <th>mediacount</th>\n",
       "      <th>objectid</th>\n",
       "      <th>techniqueid</th>\n",
       "      <th>dimensions</th>\n",
       "      <th>seeAlso</th>\n",
       "    </tr>\n",
       "  </thead>\n",
       "  <tbody>\n",
       "    <tr>\n",
       "      <th>0</th>\n",
       "      <td>None</td>\n",
       "      <td>0</td>\n",
       "      <td>Harvard Art Museums/Fogg Museum, Gray Collecti...</td>\n",
       "      <td>1</td>\n",
       "      <td>1994-01-11T00:00:00-05:00</td>\n",
       "      <td>2025-10-06</td>\n",
       "      <td>23</td>\n",
       "      <td>European and American Art</td>\n",
       "      <td>1</td>\n",
       "      <td>2</td>\n",
       "      <td>...</td>\n",
       "      <td>None</td>\n",
       "      <td>1865</td>\n",
       "      <td>French</td>\n",
       "      <td>1</td>\n",
       "      <td>0</td>\n",
       "      <td>0</td>\n",
       "      <td>300050</td>\n",
       "      <td>136.0</td>\n",
       "      <td>chine collé: 39 x 51 cm (15 3/8 x 20 1/16 in.)</td>\n",
       "      <td>[{'id': 'https://iiif.harvardartmuseums.org/ma...</td>\n",
       "    </tr>\n",
       "    <tr>\n",
       "      <th>1</th>\n",
       "      <td>None</td>\n",
       "      <td>0</td>\n",
       "      <td>Harvard Art Museums/Fogg Museum, Gray Collecti...</td>\n",
       "      <td>1</td>\n",
       "      <td>1997-09-03T00:00:00-04:00</td>\n",
       "      <td>2025-10-07</td>\n",
       "      <td>23</td>\n",
       "      <td>European and American Art</td>\n",
       "      <td>7</td>\n",
       "      <td>0</td>\n",
       "      <td>...</td>\n",
       "      <td>None</td>\n",
       "      <td>1819</td>\n",
       "      <td>British</td>\n",
       "      <td>0</td>\n",
       "      <td>0</td>\n",
       "      <td>0</td>\n",
       "      <td>279295</td>\n",
       "      <td>312.0</td>\n",
       "      <td>sheet: 28.5 x 41.5 cm (11 1/4 x 16 5/16 in.)\\r...</td>\n",
       "      <td>[{'id': 'https://iiif.harvardartmuseums.org/ma...</td>\n",
       "    </tr>\n",
       "    <tr>\n",
       "      <th>2</th>\n",
       "      <td>None</td>\n",
       "      <td>0</td>\n",
       "      <td>Harvard Art Museums/Fogg Museum, Gift of Paul ...</td>\n",
       "      <td>1</td>\n",
       "      <td>1997-10-21T00:00:00-04:00</td>\n",
       "      <td>2025-10-07</td>\n",
       "      <td>23</td>\n",
       "      <td>European and American Art</td>\n",
       "      <td>5</td>\n",
       "      <td>0</td>\n",
       "      <td>...</td>\n",
       "      <td>None</td>\n",
       "      <td>1888</td>\n",
       "      <td>American</td>\n",
       "      <td>0</td>\n",
       "      <td>0</td>\n",
       "      <td>0</td>\n",
       "      <td>256137</td>\n",
       "      <td>116.0</td>\n",
       "      <td>sheet: 45.5 x 60.7 cm (17 15/16 x 23 7/8 in.)\\...</td>\n",
       "      <td>[{'id': 'https://iiif.harvardartmuseums.org/ma...</td>\n",
       "    </tr>\n",
       "    <tr>\n",
       "      <th>3</th>\n",
       "      <td>None</td>\n",
       "      <td>0</td>\n",
       "      <td>Harvard Art Museums/Arthur M. Sackler Museum, ...</td>\n",
       "      <td>1</td>\n",
       "      <td>1998-07-12T00:00:00-04:00</td>\n",
       "      <td>2025-10-07</td>\n",
       "      <td>23</td>\n",
       "      <td>Asian and Mediterranean Art</td>\n",
       "      <td>0</td>\n",
       "      <td>0</td>\n",
       "      <td>...</td>\n",
       "      <td>None</td>\n",
       "      <td>1794</td>\n",
       "      <td>Japanese</td>\n",
       "      <td>1</td>\n",
       "      <td>0</td>\n",
       "      <td>0</td>\n",
       "      <td>207628</td>\n",
       "      <td>NaN</td>\n",
       "      <td>Paper: H. 36.9 cm x W. 23.7 cm (14 1/2 x 9 5/1...</td>\n",
       "      <td>[{'id': 'https://iiif.harvardartmuseums.org/ma...</td>\n",
       "    </tr>\n",
       "    <tr>\n",
       "      <th>4</th>\n",
       "      <td>© Artists Rights Society (ARS), New York / VG ...</td>\n",
       "      <td>0</td>\n",
       "      <td>Harvard Art Museums/Fogg Museum, Gift of Peter...</td>\n",
       "      <td>1</td>\n",
       "      <td>2009-10-27T17:29:30-04:00</td>\n",
       "      <td>2025-10-07</td>\n",
       "      <td>23</td>\n",
       "      <td>Modern and Contemporary Art</td>\n",
       "      <td>3</td>\n",
       "      <td>0</td>\n",
       "      <td>...</td>\n",
       "      <td>None</td>\n",
       "      <td>1924</td>\n",
       "      <td>German</td>\n",
       "      <td>1</td>\n",
       "      <td>1</td>\n",
       "      <td>0</td>\n",
       "      <td>333591</td>\n",
       "      <td>4769.0</td>\n",
       "      <td>sheet: 34.5 x 37 cm (13 9/16 x 14 9/16 in.)\\r\\...</td>\n",
       "      <td>[{'id': 'https://iiif.harvardartmuseums.org/ma...</td>\n",
       "    </tr>\n",
       "  </tbody>\n",
       "</table>\n",
       "<p>5 rows × 63 columns</p>\n",
       "</div>"
      ],
      "text/plain": [
       "                                           copyright  contextualtextcount  \\\n",
       "0                                               None                    0   \n",
       "1                                               None                    0   \n",
       "2                                               None                    0   \n",
       "3                                               None                    0   \n",
       "4  © Artists Rights Society (ARS), New York / VG ...                    0   \n",
       "\n",
       "                                          creditline  accesslevel  \\\n",
       "0  Harvard Art Museums/Fogg Museum, Gray Collecti...            1   \n",
       "1  Harvard Art Museums/Fogg Museum, Gray Collecti...            1   \n",
       "2  Harvard Art Museums/Fogg Museum, Gift of Paul ...            1   \n",
       "3  Harvard Art Museums/Arthur M. Sackler Museum, ...            1   \n",
       "4  Harvard Art Museums/Fogg Museum, Gift of Peter...            1   \n",
       "\n",
       "                  createdate dateoflastpageview  classificationid  \\\n",
       "0  1994-01-11T00:00:00-05:00         2025-10-06                23   \n",
       "1  1997-09-03T00:00:00-04:00         2025-10-07                23   \n",
       "2  1997-10-21T00:00:00-04:00         2025-10-07                23   \n",
       "3  1998-07-12T00:00:00-04:00         2025-10-07                23   \n",
       "4  2009-10-27T17:29:30-04:00         2025-10-07                23   \n",
       "\n",
       "                      division  markscount  publicationcount  ...  labeltext  \\\n",
       "0    European and American Art           1                 2  ...       None   \n",
       "1    European and American Art           7                 0  ...       None   \n",
       "2    European and American Art           5                 0  ...       None   \n",
       "3  Asian and Mediterranean Art           0                 0  ...       None   \n",
       "4  Modern and Contemporary Art           3                 0  ...       None   \n",
       "\n",
       "  datebegin   culture  exhibitioncount  imagepermissionlevel mediacount  \\\n",
       "0      1865    French                1                     0          0   \n",
       "1      1819   British                0                     0          0   \n",
       "2      1888  American                0                     0          0   \n",
       "3      1794  Japanese                1                     0          0   \n",
       "4      1924    German                1                     1          0   \n",
       "\n",
       "  objectid techniqueid                                         dimensions  \\\n",
       "0   300050       136.0     chine collé: 39 x 51 cm (15 3/8 x 20 1/16 in.)   \n",
       "1   279295       312.0  sheet: 28.5 x 41.5 cm (11 1/4 x 16 5/16 in.)\\r...   \n",
       "2   256137       116.0  sheet: 45.5 x 60.7 cm (17 15/16 x 23 7/8 in.)\\...   \n",
       "3   207628         NaN  Paper: H. 36.9 cm x W. 23.7 cm (14 1/2 x 9 5/1...   \n",
       "4   333591      4769.0  sheet: 34.5 x 37 cm (13 9/16 x 14 9/16 in.)\\r\\...   \n",
       "\n",
       "                                             seeAlso  \n",
       "0  [{'id': 'https://iiif.harvardartmuseums.org/ma...  \n",
       "1  [{'id': 'https://iiif.harvardartmuseums.org/ma...  \n",
       "2  [{'id': 'https://iiif.harvardartmuseums.org/ma...  \n",
       "3  [{'id': 'https://iiif.harvardartmuseums.org/ma...  \n",
       "4  [{'id': 'https://iiif.harvardartmuseums.org/ma...  \n",
       "\n",
       "[5 rows x 63 columns]"
      ]
     },
     "execution_count": 7,
     "metadata": {},
     "output_type": "execute_result"
    }
   ],
   "source": [
    "import requests\n",
    "import pandas as pd\n",
    "\n",
    "# Use your actual API key here\n",
    "API_KEY = \"869f44ca-54ed-45f1-8f36-713e6e24f2d9\"\n",
    "\n",
    "url = \"https://api.harvardartmuseums.org/object\"\n",
    "params = {\n",
    "    \"apikey\": API_KEY,\n",
    "    \"size\": 10,\n",
    "    \"sort\": \"rank\",\n",
    "    \"classification\": \"Prints\",\n",
    "    \"hasimage\": 1\n",
    "}\n",
    "\n",
    "response = requests.get(url, params=params)\n",
    "data = response.json()\n",
    "\n",
    "# Check if response was successful\n",
    "if response.status_code == 200:\n",
    "    print(\"Success\")\n",
    "    print(data['records'])  # Optional: view raw records\n",
    "else:\n",
    "    print(\"Failed\")\n",
    "\n",
    "# Convert to DataFrame\n",
    "df = pd.DataFrame(data['records'])\n",
    "df.head()"
   ]
  },
  {
   "cell_type": "code",
   "execution_count": 8,
   "id": "e9eba342-09b4-4afa-955f-a636e8b984e3",
   "metadata": {},
   "outputs": [
    {
     "name": "stdout",
     "output_type": "stream",
     "text": [
      "       id                                              title   culture  \\\n",
      "0  300050                                          The Races    French   \n",
      "1  279295                               Ben Arthur, Scotland   British   \n",
      "2  256137                                  Perils of the Sea  American   \n",
      "3  207628  Actor Segawa Kikunojō 3rd as Oshizu, the Wife ...  Japanese   \n",
      "4  333591  Abandoned post near Vis-en Artois (Verlassene ...    German   \n",
      "\n",
      "                  period       century  \\\n",
      "0                   None  19th century   \n",
      "1                   None  19th century   \n",
      "2                   None  19th century   \n",
      "3  Edo period, 1615-1868  18th century   \n",
      "4                   None  20th century   \n",
      "\n",
      "                                              medium  \\\n",
      "0                          Lithograph on chine collé   \n",
      "1  Etching and mezzotint printed in brown ink on ...   \n",
      "2                    Etching on off white wove paper   \n",
      "3  Ukiyo-e woodblock print in \"ōban\" format; ink,...   \n",
      "4  Etching, drypoint and soft-ground on off white...   \n",
      "\n",
      "                                          dimensions description  \\\n",
      "0     chine collé: 39 x 51 cm (15 3/8 x 20 1/16 in.)        None   \n",
      "1  sheet: 28.5 x 41.5 cm (11 1/4 x 16 5/16 in.)\\r...        None   \n",
      "2  sheet: 45.5 x 60.7 cm (17 15/16 x 23 7/8 in.)\\...        None   \n",
      "3  Paper: H. 36.9 cm x W. 23.7 cm (14 1/2 x 9 5/1...        None   \n",
      "4  sheet: 34.5 x 37 cm (13 9/16 x 14 9/16 in.)\\r\\...        None   \n",
      "\n",
      "                department classification  accessionyear accessionmethod  \n",
      "0     Department of Prints         Prints            NaN    Not Recorded  \n",
      "1     Department of Prints         Prints            NaN    Not Recorded  \n",
      "2     Department of Prints         Prints         1942.0            Gift  \n",
      "3  Department of Asian Art         Prints         1933.0            Gift  \n",
      "4     Department of Prints         Prints         2009.0            Gift  \n"
     ]
    }
   ],
   "source": [
    "columns_needed = [\n",
    "    'id', 'title', 'culture', 'period', 'century', 'medium',\n",
    "    'dimensions', 'description', 'department', 'classification',\n",
    "    'accessionyear', 'accessionmethod'\n",
    "]\n",
    "\n",
    "df_metadata = df[columns_needed]\n",
    "print(df_metadata.head())"
   ]
  },
  {
   "cell_type": "code",
   "execution_count": 9,
   "id": "6268453c-ce77-41c4-aa9a-72daf8551465",
   "metadata": {},
   "outputs": [
    {
     "name": "stdout",
     "output_type": "stream",
     "text": [
      "Data inserted successfully!\n"
     ]
    }
   ],
   "source": [
    "import sqlite3\n",
    "\n",
    "# Connect to SQLite database (or create one)\n",
    "conn = sqlite3.connect(\"harvard_artifacts.db\")\n",
    "cursor = conn.cursor()\n",
    "\n",
    "# Create the artifact_metadata table\n",
    "cursor.execute(\"\"\"\n",
    "CREATE TABLE IF NOT EXISTS artifact_metadata (\n",
    "    id INTEGER PRIMARY KEY,\n",
    "    title TEXT,\n",
    "    culture TEXT,\n",
    "    period TEXT,\n",
    "    century TEXT,\n",
    "    medium TEXT,\n",
    "    dimensions TEXT,\n",
    "    description TEXT,\n",
    "    department TEXT,\n",
    "    classification TEXT,\n",
    "    accessionyear INTEGER,\n",
    "    accessionmethod TEXT\n",
    ")\n",
    "\"\"\")\n",
    "\n",
    "# Insert data from DataFrame\n",
    "df_metadata.to_sql(\"artifact_metadata\", conn, if_exists=\"append\", index=False)\n",
    "\n",
    "print(\"Data inserted successfully!\")\n",
    "conn.close()"
   ]
  },
  {
   "cell_type": "code",
   "execution_count": 10,
   "id": "591246b1-5c28-4467-994c-a14a768d28eb",
   "metadata": {},
   "outputs": [],
   "source": [
    "import sqlite3\n",
    "\n",
    "conn = sqlite3.connect(\"harvard_artifacts.db\")\n",
    "cursor = conn.cursor()\n",
    "\n",
    "cursor.execute(\"\"\"\n",
    "CREATE TABLE IF NOT EXISTS artifact_media (\n",
    "    objectid INTEGER,\n",
    "    imagecount INTEGER,\n",
    "    mediacount INTEGER,\n",
    "    colorcount INTEGER,\n",
    "    rank INTEGER,\n",
    "    datebegin INTEGER,\n",
    "    dateend INTEGER\n",
    ")\n",
    "\"\"\")\n",
    "conn.commit()"
   ]
  },
  {
   "cell_type": "code",
   "execution_count": 11,
   "id": "b35142ae-431a-4ee4-b82b-380a4e6cdb56",
   "metadata": {},
   "outputs": [
    {
     "name": "stdout",
     "output_type": "stream",
     "text": [
      "Media data inserted!\n"
     ]
    }
   ],
   "source": [
    "media_columns = [\n",
    "    'objectid', 'imagecount', 'mediacount', 'colorcount',\n",
    "    'rank', 'datebegin', 'dateend'\n",
    "]\n",
    "\n",
    "df_media = df[media_columns]\n",
    "df_media.to_sql(\"artifact_media\", conn, if_exists=\"append\", index=False)\n",
    "print(\"Media data inserted!\")"
   ]
  },
  {
   "cell_type": "code",
   "execution_count": 13,
   "id": "f5c86f96-816f-4e5a-9309-76cefae17f52",
   "metadata": {},
   "outputs": [],
   "source": [
    "cursor.execute(\"\"\"\n",
    "CREATE TABLE IF NOT EXISTS artifact_colors (\n",
    "    objectid INTEGER,\n",
    "    color TEXT,\n",
    "    spectrum TEXT,\n",
    "    hue TEXT,\n",
    "    percent REAL,\n",
    "    css3 TEXT\n",
    ")\n",
    "\"\"\")\n",
    "conn.commit()"
   ]
  },
  {
   "cell_type": "code",
   "execution_count": 14,
   "id": "ecaeb449-f450-47f3-b3f9-f82b6ea5a2bd",
   "metadata": {},
   "outputs": [
    {
     "name": "stdout",
     "output_type": "stream",
     "text": [
      "Color data inserted!\n"
     ]
    }
   ],
   "source": [
    "color_rows = []\n",
    "\n",
    "for record in data['records']:\n",
    "    objectid = record.get('objectid')\n",
    "    colors = record.get('colors', [])\n",
    "    for color in colors:\n",
    "        color_rows.append({\n",
    "            'objectid': objectid,\n",
    "            'color': color.get('color'),\n",
    "            'spectrum': color.get('spectrum'),\n",
    "            'hue': color.get('hue'),\n",
    "            'percent': color.get('percent'),\n",
    "            'css3': color.get('css3')\n",
    "        })\n",
    "\n",
    "df_colors = pd.DataFrame(color_rows)\n",
    "df_colors.to_sql(\"artifact_colors\", conn, if_exists=\"append\", index=False)\n",
    "print(\"Color data inserted!\")\n",
    "conn.close()"
   ]
  },
  {
   "cell_type": "code",
   "execution_count": 15,
   "id": "1a99cbf7-44cc-40e2-9348-14313d9af51a",
   "metadata": {},
   "outputs": [
    {
     "ename": "SyntaxError",
     "evalue": "invalid syntax (3299140628.py, line 1)",
     "output_type": "error",
     "traceback": [
      "  \u001b[36mCell\u001b[39m\u001b[36m \u001b[39m\u001b[32mIn[15]\u001b[39m\u001b[32m, line 1\u001b[39m\n\u001b[31m    \u001b[39m\u001b[31mSELECT m.id, m.title, md.rank\u001b[39m\n           ^\n\u001b[31mSyntaxError\u001b[39m\u001b[31m:\u001b[39m invalid syntax\n"
     ]
    }
   ],
   "source": [
    "SELECT m.id, m.title, md.rank\n",
    "FROM artifact_metadata AS m\n",
    "JOIN artifact_media AS md ON m.id = md.objectid\n",
    "ORDER BY md.rank DESC\n",
    "LIMIT 10;"
   ]
  },
  {
   "cell_type": "code",
   "execution_count": 16,
   "id": "908d69f1-309d-4a7e-92d4-c99ab2fc9cd4",
   "metadata": {},
   "outputs": [
    {
     "name": "stderr",
     "output_type": "stream",
     "text": [
      "UsageError: Cell magic `%%sql` not found.\n"
     ]
    }
   ],
   "source": [
    "%%sql sqlite://\n",
    "SELECT m.id, m.title, md.rank\n",
    "FROM artifact_metadata AS m\n",
    "JOIN artifact_media AS md ON m.id = md.objectid\n",
    "JOIN artifact_colors AS c ON m.id = c.objectid\n",
    "WHERE c.color = 'red'\n",
    "ORDER BY md.rank DESC\n",
    "LIMIT 10;"
   ]
  },
  {
   "cell_type": "code",
   "execution_count": 17,
   "id": "8f0bfbed-dda3-47e8-96f5-ca90167d3cf3",
   "metadata": {},
   "outputs": [
    {
     "name": "stdout",
     "output_type": "stream",
     "text": [
      "Collecting ipython-sql\n",
      "  Downloading ipython_sql-0.5.0-py3-none-any.whl.metadata (17 kB)\n",
      "Collecting prettytable (from ipython-sql)\n",
      "  Downloading prettytable-3.16.0-py3-none-any.whl.metadata (33 kB)\n",
      "Requirement already satisfied: ipython in c:\\users\\ashwi\\appdata\\local\\programs\\python\\python313\\lib\\site-packages (from ipython-sql) (9.5.0)\n",
      "Collecting sqlalchemy>=2.0 (from ipython-sql)\n",
      "  Downloading sqlalchemy-2.0.44-cp313-cp313-win_amd64.whl.metadata (9.8 kB)\n",
      "Collecting sqlparse (from ipython-sql)\n",
      "  Downloading sqlparse-0.5.3-py3-none-any.whl.metadata (3.9 kB)\n",
      "Requirement already satisfied: six in c:\\users\\ashwi\\appdata\\local\\programs\\python\\python313\\lib\\site-packages (from ipython-sql) (1.17.0)\n",
      "Collecting ipython-genutils (from ipython-sql)\n",
      "  Downloading ipython_genutils-0.2.0-py2.py3-none-any.whl.metadata (755 bytes)\n",
      "Requirement already satisfied: typing-extensions>=4.6.0 in c:\\users\\ashwi\\appdata\\local\\programs\\python\\python313\\lib\\site-packages (from sqlalchemy>=2.0->ipython-sql) (4.15.0)\n",
      "Requirement already satisfied: colorama in c:\\users\\ashwi\\appdata\\local\\programs\\python\\python313\\lib\\site-packages (from ipython->ipython-sql) (0.4.6)\n",
      "Requirement already satisfied: decorator in c:\\users\\ashwi\\appdata\\local\\programs\\python\\python313\\lib\\site-packages (from ipython->ipython-sql) (5.2.1)\n",
      "Requirement already satisfied: ipython-pygments-lexers in c:\\users\\ashwi\\appdata\\local\\programs\\python\\python313\\lib\\site-packages (from ipython->ipython-sql) (1.1.1)\n",
      "Requirement already satisfied: jedi>=0.16 in c:\\users\\ashwi\\appdata\\local\\programs\\python\\python313\\lib\\site-packages (from ipython->ipython-sql) (0.19.2)\n",
      "Requirement already satisfied: matplotlib-inline in c:\\users\\ashwi\\appdata\\local\\programs\\python\\python313\\lib\\site-packages (from ipython->ipython-sql) (0.1.7)\n",
      "Requirement already satisfied: prompt_toolkit<3.1.0,>=3.0.41 in c:\\users\\ashwi\\appdata\\local\\programs\\python\\python313\\lib\\site-packages (from ipython->ipython-sql) (3.0.52)\n",
      "Requirement already satisfied: pygments>=2.4.0 in c:\\users\\ashwi\\appdata\\local\\programs\\python\\python313\\lib\\site-packages (from ipython->ipython-sql) (2.19.2)\n",
      "Requirement already satisfied: stack_data in c:\\users\\ashwi\\appdata\\local\\programs\\python\\python313\\lib\\site-packages (from ipython->ipython-sql) (0.6.3)\n",
      "Requirement already satisfied: traitlets>=5.13.0 in c:\\users\\ashwi\\appdata\\local\\programs\\python\\python313\\lib\\site-packages (from ipython->ipython-sql) (5.14.3)\n",
      "Requirement already satisfied: wcwidth in c:\\users\\ashwi\\appdata\\local\\programs\\python\\python313\\lib\\site-packages (from prompt_toolkit<3.1.0,>=3.0.41->ipython->ipython-sql) (0.2.13)\n",
      "Requirement already satisfied: parso<0.9.0,>=0.8.4 in c:\\users\\ashwi\\appdata\\local\\programs\\python\\python313\\lib\\site-packages (from jedi>=0.16->ipython->ipython-sql) (0.8.5)\n",
      "Requirement already satisfied: executing>=1.2.0 in c:\\users\\ashwi\\appdata\\local\\programs\\python\\python313\\lib\\site-packages (from stack_data->ipython->ipython-sql) (2.2.1)\n",
      "Requirement already satisfied: asttokens>=2.1.0 in c:\\users\\ashwi\\appdata\\local\\programs\\python\\python313\\lib\\site-packages (from stack_data->ipython->ipython-sql) (3.0.0)\n",
      "Requirement already satisfied: pure-eval in c:\\users\\ashwi\\appdata\\local\\programs\\python\\python313\\lib\\site-packages (from stack_data->ipython->ipython-sql) (0.2.3)\n",
      "Downloading ipython_sql-0.5.0-py3-none-any.whl (20 kB)\n",
      "Downloading sqlalchemy-2.0.44-cp313-cp313-win_amd64.whl (2.1 MB)\n",
      "   ---------------------------------------- 0.0/2.1 MB ? eta -:--:--\n",
      "   ------------------------ --------------- 1.3/2.1 MB 9.0 MB/s eta 0:00:01\n",
      "   ---------------------------------------- 2.1/2.1 MB 9.2 MB/s  0:00:00\n",
      "Downloading ipython_genutils-0.2.0-py2.py3-none-any.whl (26 kB)\n",
      "Downloading prettytable-3.16.0-py3-none-any.whl (33 kB)\n",
      "Downloading sqlparse-0.5.3-py3-none-any.whl (44 kB)\n",
      "Installing collected packages: ipython-genutils, sqlparse, sqlalchemy, prettytable, ipython-sql\n",
      "\n",
      "   ---------------- ----------------------- 2/5 [sqlalchemy]\n",
      "   ---------------- ----------------------- 2/5 [sqlalchemy]\n",
      "   ---------------- ----------------------- 2/5 [sqlalchemy]\n",
      "   ---------------- ----------------------- 2/5 [sqlalchemy]\n",
      "   ---------------- ----------------------- 2/5 [sqlalchemy]\n",
      "   ---------------- ----------------------- 2/5 [sqlalchemy]\n",
      "   ---------------- ----------------------- 2/5 [sqlalchemy]\n",
      "   ---------------- ----------------------- 2/5 [sqlalchemy]\n",
      "   ---------------- ----------------------- 2/5 [sqlalchemy]\n",
      "   ---------------------------------------- 5/5 [ipython-sql]\n",
      "\n",
      "Successfully installed ipython-genutils-0.2.0 ipython-sql-0.5.0 prettytable-3.16.0 sqlalchemy-2.0.44 sqlparse-0.5.3\n"
     ]
    }
   ],
   "source": [
    "!pip install ipython-sql"
   ]
  },
  {
   "cell_type": "code",
   "execution_count": 18,
   "id": "2f276a38-4faa-47ca-8239-e17cfd6ef5c6",
   "metadata": {},
   "outputs": [],
   "source": [
    "%load_ext sql"
   ]
  },
  {
   "cell_type": "code",
   "execution_count": 19,
   "id": "21035d24-1b5d-4f6b-9bef-e3a1850a04b4",
   "metadata": {},
   "outputs": [
    {
     "ename": "SyntaxError",
     "evalue": "invalid syntax (2876287460.py, line 4)",
     "output_type": "error",
     "traceback": [
      "  \u001b[36mCell\u001b[39m\u001b[36m \u001b[39m\u001b[32mIn[19]\u001b[39m\u001b[32m, line 4\u001b[39m\n\u001b[31m    \u001b[39m\u001b[31mSELECT * FROM artifact_metadata LIMIT 5;\u001b[39m\n                  ^\n\u001b[31mSyntaxError\u001b[39m\u001b[31m:\u001b[39m invalid syntax\n"
     ]
    }
   ],
   "source": [
    "%load_ext sql\n",
    "%%sql sqlite:///harvard_artifacts.db\n",
    "\n",
    "SELECT * FROM artifact_metadata LIMIT 5;"
   ]
  },
  {
   "cell_type": "code",
   "execution_count": 20,
   "id": "582f18b1-b0ca-453d-8848-93c0d0204f36",
   "metadata": {},
   "outputs": [
    {
     "name": "stdout",
     "output_type": "stream",
     "text": [
      "The sql extension is already loaded. To reload it, use:\n",
      "  %reload_ext sql\n"
     ]
    }
   ],
   "source": [
    "%load_ext sql\n",
    "%sql sqlite:///harvard_artifacts.db"
   ]
  },
  {
   "cell_type": "code",
   "execution_count": 21,
   "id": "bb034518-60cd-4bf9-a28a-331c4fdbfb2b",
   "metadata": {},
   "outputs": [
    {
     "name": "stdout",
     "output_type": "stream",
     "text": [
      " * sqlite:///harvard_artifacts.db\n",
      "Done.\n"
     ]
    },
    {
     "ename": "KeyError",
     "evalue": "'DEFAULT'",
     "output_type": "error",
     "traceback": [
      "\u001b[31m---------------------------------------------------------------------------\u001b[39m",
      "\u001b[31mKeyError\u001b[39m                                  Traceback (most recent call last)",
      "\u001b[36mCell\u001b[39m\u001b[36m \u001b[39m\u001b[32mIn[21]\u001b[39m\u001b[32m, line 1\u001b[39m\n\u001b[32m----> \u001b[39m\u001b[32m1\u001b[39m \u001b[43mget_ipython\u001b[49m\u001b[43m(\u001b[49m\u001b[43m)\u001b[49m\u001b[43m.\u001b[49m\u001b[43mrun_cell_magic\u001b[49m\u001b[43m(\u001b[49m\u001b[33;43m'\u001b[39;49m\u001b[33;43msql\u001b[39;49m\u001b[33;43m'\u001b[39;49m\u001b[43m,\u001b[49m\u001b[43m \u001b[49m\u001b[33;43m'\u001b[39;49m\u001b[33;43m'\u001b[39;49m\u001b[43m,\u001b[49m\u001b[43m \u001b[49m\u001b[33;43m'\u001b[39;49m\u001b[33;43mSELECT * FROM artifact_metadata LIMIT 5;\u001b[39;49m\u001b[38;5;130;43;01m\\n\u001b[39;49;00m\u001b[33;43m'\u001b[39;49m\u001b[43m)\u001b[49m\n",
      "\u001b[36mFile \u001b[39m\u001b[32m~\\AppData\\Local\\Programs\\Python\\Python313\\Lib\\site-packages\\IPython\\core\\interactiveshell.py:2565\u001b[39m, in \u001b[36mInteractiveShell.run_cell_magic\u001b[39m\u001b[34m(self, magic_name, line, cell)\u001b[39m\n\u001b[32m   2563\u001b[39m \u001b[38;5;28;01mwith\u001b[39;00m \u001b[38;5;28mself\u001b[39m.builtin_trap:\n\u001b[32m   2564\u001b[39m     args = (magic_arg_s, cell)\n\u001b[32m-> \u001b[39m\u001b[32m2565\u001b[39m     result = \u001b[43mfn\u001b[49m\u001b[43m(\u001b[49m\u001b[43m*\u001b[49m\u001b[43margs\u001b[49m\u001b[43m,\u001b[49m\u001b[43m \u001b[49m\u001b[43m*\u001b[49m\u001b[43m*\u001b[49m\u001b[43mkwargs\u001b[49m\u001b[43m)\u001b[49m\n\u001b[32m   2567\u001b[39m \u001b[38;5;66;03m# The code below prevents the output from being displayed\u001b[39;00m\n\u001b[32m   2568\u001b[39m \u001b[38;5;66;03m# when using magics with decorator @output_can_be_silenced\u001b[39;00m\n\u001b[32m   2569\u001b[39m \u001b[38;5;66;03m# when the last Python token in the expression is a ';'.\u001b[39;00m\n\u001b[32m   2570\u001b[39m \u001b[38;5;28;01mif\u001b[39;00m \u001b[38;5;28mgetattr\u001b[39m(fn, magic.MAGIC_OUTPUT_CAN_BE_SILENCED, \u001b[38;5;28;01mFalse\u001b[39;00m):\n",
      "\u001b[36mFile \u001b[39m\u001b[32m~\\AppData\\Local\\Programs\\Python\\Python313\\Lib\\site-packages\\sql\\magic.py:219\u001b[39m, in \u001b[36mSqlMagic.execute\u001b[39m\u001b[34m(self, line, cell, local_ns)\u001b[39m\n\u001b[32m    216\u001b[39m     \u001b[38;5;28;01mreturn\u001b[39;00m\n\u001b[32m    218\u001b[39m \u001b[38;5;28;01mtry\u001b[39;00m:\n\u001b[32m--> \u001b[39m\u001b[32m219\u001b[39m     result = \u001b[43msql\u001b[49m\u001b[43m.\u001b[49m\u001b[43mrun\u001b[49m\u001b[43m.\u001b[49m\u001b[43mrun\u001b[49m\u001b[43m(\u001b[49m\u001b[43mconn\u001b[49m\u001b[43m,\u001b[49m\u001b[43m \u001b[49m\u001b[43mparsed\u001b[49m\u001b[43m[\u001b[49m\u001b[33;43m\"\u001b[39;49m\u001b[33;43msql\u001b[39;49m\u001b[33;43m\"\u001b[39;49m\u001b[43m]\u001b[49m\u001b[43m,\u001b[49m\u001b[43m \u001b[49m\u001b[38;5;28;43mself\u001b[39;49m\u001b[43m,\u001b[49m\u001b[43m \u001b[49m\u001b[43muser_ns\u001b[49m\u001b[43m)\u001b[49m\n\u001b[32m    221\u001b[39m     \u001b[38;5;28;01mif\u001b[39;00m (\n\u001b[32m    222\u001b[39m         result \u001b[38;5;129;01mis\u001b[39;00m \u001b[38;5;129;01mnot\u001b[39;00m \u001b[38;5;28;01mNone\u001b[39;00m\n\u001b[32m    223\u001b[39m         \u001b[38;5;129;01mand\u001b[39;00m \u001b[38;5;129;01mnot\u001b[39;00m \u001b[38;5;28misinstance\u001b[39m(result, \u001b[38;5;28mstr\u001b[39m)\n\u001b[32m   (...)\u001b[39m\u001b[32m    226\u001b[39m         \u001b[38;5;66;03m# Instead of returning values, set variables directly in the\u001b[39;00m\n\u001b[32m    227\u001b[39m         \u001b[38;5;66;03m# user's namespace. Variable names given by column names\u001b[39;00m\n\u001b[32m    229\u001b[39m         \u001b[38;5;28;01mif\u001b[39;00m \u001b[38;5;28mself\u001b[39m.autopandas:\n",
      "\u001b[36mFile \u001b[39m\u001b[32m~\\AppData\\Local\\Programs\\Python\\Python313\\Lib\\site-packages\\sql\\run.py:374\u001b[39m, in \u001b[36mrun\u001b[39m\u001b[34m(conn, sql, config, user_namespace)\u001b[39m\n\u001b[32m    372\u001b[39m     \u001b[38;5;28;01mif\u001b[39;00m result \u001b[38;5;129;01mand\u001b[39;00m config.feedback:\n\u001b[32m    373\u001b[39m         \u001b[38;5;28mprint\u001b[39m(interpret_rowcount(result.rowcount))\n\u001b[32m--> \u001b[39m\u001b[32m374\u001b[39m resultset = \u001b[43mResultSet\u001b[49m\u001b[43m(\u001b[49m\u001b[43mresult\u001b[49m\u001b[43m,\u001b[49m\u001b[43m \u001b[49m\u001b[43mconfig\u001b[49m\u001b[43m)\u001b[49m\n\u001b[32m    375\u001b[39m \u001b[38;5;28;01mif\u001b[39;00m config.autopandas:\n\u001b[32m    376\u001b[39m     \u001b[38;5;28;01mreturn\u001b[39;00m resultset.DataFrame()\n",
      "\u001b[36mFile \u001b[39m\u001b[32m~\\AppData\\Local\\Programs\\Python\\Python313\\Lib\\site-packages\\sql\\run.py:116\u001b[39m, in \u001b[36mResultSet.__init__\u001b[39m\u001b[34m(self, sqlaproxy, config)\u001b[39m\n\u001b[32m    114\u001b[39m         \u001b[38;5;28mlist\u001b[39m.\u001b[34m__init__\u001b[39m(\u001b[38;5;28mself\u001b[39m, sqlaproxy.fetchall())\n\u001b[32m    115\u001b[39m     \u001b[38;5;28mself\u001b[39m.field_names = unduplicate_field_names(\u001b[38;5;28mself\u001b[39m.keys)\n\u001b[32m--> \u001b[39m\u001b[32m116\u001b[39m     \u001b[38;5;28mself\u001b[39m.pretty = PrettyTable(\u001b[38;5;28mself\u001b[39m.field_names, style=\u001b[43mprettytable\u001b[49m\u001b[43m.\u001b[49m\u001b[34;43m__dict__\u001b[39;49m\u001b[43m[\u001b[49m\u001b[43mconfig\u001b[49m\u001b[43m.\u001b[49m\u001b[43mstyle\u001b[49m\u001b[43m.\u001b[49m\u001b[43mupper\u001b[49m\u001b[43m(\u001b[49m\u001b[43m)\u001b[49m\u001b[43m]\u001b[49m)\n\u001b[32m    117\u001b[39m \u001b[38;5;28;01melse\u001b[39;00m:\n\u001b[32m    118\u001b[39m     \u001b[38;5;28mlist\u001b[39m.\u001b[34m__init__\u001b[39m(\u001b[38;5;28mself\u001b[39m, [])\n",
      "\u001b[31mKeyError\u001b[39m: 'DEFAULT'"
     ]
    }
   ],
   "source": [
    "%%sql\n",
    "SELECT * FROM artifact_metadata LIMIT 5;"
   ]
  },
  {
   "cell_type": "code",
   "execution_count": 22,
   "id": "8fced088-28e4-4a11-aa69-c70010752b0d",
   "metadata": {},
   "outputs": [
    {
     "name": "stdout",
     "output_type": "stream",
     "text": [
      "       id                                              title   culture  \\\n",
      "0   55407                           The Apostle Jean Journet    French   \n",
      "1  207628  Actor Segawa Kikunojō 3rd as Oshizu, the Wife ...  Japanese   \n",
      "2  255463                                              Comet  American   \n",
      "3  256137                                  Perils of the Sea  American   \n",
      "4  262439                                   The Smoking Fire   Italian   \n",
      "\n",
      "                  period       century  \\\n",
      "0                   None  19th century   \n",
      "1  Edo period, 1615-1868  18th century   \n",
      "2                   None  20th century   \n",
      "3                   None  19th century   \n",
      "4                   None  18th century   \n",
      "\n",
      "                                              medium  \\\n",
      "0                                               None   \n",
      "1  Ukiyo-e woodblock print in \"ōban\" format; ink,...   \n",
      "2  Linoleum cut with added wash to attenuate the ...   \n",
      "3                    Etching on off white wove paper   \n",
      "4          Etching on heavy cream antique laid paper   \n",
      "\n",
      "                                          dimensions description  \\\n",
      "0  image with border: 24.5 × 17 cm (9 5/8 × 6 11/...        None   \n",
      "1  Paper: H. 36.9 cm x W. 23.7 cm (14 1/2 x 9 5/1...        None   \n",
      "2     block: 36.1 x 42.4 cm (14 3/16 x 16 11/16 in.)        None   \n",
      "3  sheet: 45.5 x 60.7 cm (17 15/16 x 23 7/8 in.)\\...        None   \n",
      "4  plate: 54.7 x 39.9 cm (21 9/16 x 15 11/16 in.)...        None   \n",
      "\n",
      "                department classification  accessionyear accessionmethod  \n",
      "0     Department of Prints         Prints           2004            Gift  \n",
      "1  Department of Asian Art         Prints           1933            Gift  \n",
      "2     Department of Prints         Prints           1993        Purchase  \n",
      "3     Department of Prints         Prints           1942            Gift  \n",
      "4     Department of Prints         Prints           1959            Gift  \n"
     ]
    }
   ],
   "source": [
    "import sqlite3\n",
    "import pandas as pd\n",
    "\n",
    "conn = sqlite3.connect(\"harvard_artifacts.db\")\n",
    "query = \"SELECT * FROM artifact_metadata LIMIT 5;\"\n",
    "df = pd.read_sql_query(query, conn)\n",
    "print(df)\n",
    "conn.close()"
   ]
  },
  {
   "cell_type": "code",
   "execution_count": 23,
   "id": "c7be1e27-c2f2-4dc2-80cd-103d70a9466a",
   "metadata": {},
   "outputs": [
    {
     "ename": "NameError",
     "evalue": "name 'st' is not defined",
     "output_type": "error",
     "traceback": [
      "\u001b[31m---------------------------------------------------------------------------\u001b[39m",
      "\u001b[31mNameError\u001b[39m                                 Traceback (most recent call last)",
      "\u001b[36mCell\u001b[39m\u001b[36m \u001b[39m\u001b[32mIn[23]\u001b[39m\u001b[32m, line 1\u001b[39m\n\u001b[32m----> \u001b[39m\u001b[32m1\u001b[39m \u001b[43mst\u001b[49m.selectbox(), st.slider(), st.text_input()\n",
      "\u001b[31mNameError\u001b[39m: name 'st' is not defined"
     ]
    }
   ],
   "source": [
    "st.selectbox(), st.slider(), st.text_input()"
   ]
  },
  {
   "cell_type": "code",
   "execution_count": 24,
   "id": "45e39661-61ce-4279-8388-2df47ace0b9e",
   "metadata": {},
   "outputs": [
    {
     "ename": "ModuleNotFoundError",
     "evalue": "No module named 'streamlit'",
     "output_type": "error",
     "traceback": [
      "\u001b[31m---------------------------------------------------------------------------\u001b[39m",
      "\u001b[31mModuleNotFoundError\u001b[39m                       Traceback (most recent call last)",
      "\u001b[36mCell\u001b[39m\u001b[36m \u001b[39m\u001b[32mIn[24]\u001b[39m\u001b[32m, line 1\u001b[39m\n\u001b[32m----> \u001b[39m\u001b[32m1\u001b[39m \u001b[38;5;28;01mimport\u001b[39;00m\u001b[38;5;250m \u001b[39m\u001b[34;01mstreamlit\u001b[39;00m\u001b[38;5;250m \u001b[39m\u001b[38;5;28;01mas\u001b[39;00m\u001b[38;5;250m \u001b[39m\u001b[34;01mst\u001b[39;00m\n\u001b[32m      3\u001b[39m sid = st.text_input(\u001b[33m\"\u001b[39m\u001b[33mEnter SID\u001b[39m\u001b[33m\"\u001b[39m)\n",
      "\u001b[31mModuleNotFoundError\u001b[39m: No module named 'streamlit'"
     ]
    }
   ],
   "source": [
    "import streamlit as st\n",
    "\n",
    "sid = st.text_input(\"Enter SID\")"
   ]
  },
  {
   "cell_type": "code",
   "execution_count": 25,
   "id": "41babc8c-872b-4f25-b61d-57ee685d89d3",
   "metadata": {},
   "outputs": [
    {
     "ename": "KeyError",
     "evalue": "'Accomplishment'",
     "output_type": "error",
     "traceback": [
      "\u001b[31m---------------------------------------------------------------------------\u001b[39m",
      "\u001b[31mKeyError\u001b[39m                                  Traceback (most recent call last)",
      "\u001b[36mFile \u001b[39m\u001b[32m~\\AppData\\Local\\Programs\\Python\\Python313\\Lib\\site-packages\\pandas\\core\\indexes\\base.py:3812\u001b[39m, in \u001b[36mIndex.get_loc\u001b[39m\u001b[34m(self, key)\u001b[39m\n\u001b[32m   3811\u001b[39m \u001b[38;5;28;01mtry\u001b[39;00m:\n\u001b[32m-> \u001b[39m\u001b[32m3812\u001b[39m     \u001b[38;5;28;01mreturn\u001b[39;00m \u001b[38;5;28;43mself\u001b[39;49m\u001b[43m.\u001b[49m\u001b[43m_engine\u001b[49m\u001b[43m.\u001b[49m\u001b[43mget_loc\u001b[49m\u001b[43m(\u001b[49m\u001b[43mcasted_key\u001b[49m\u001b[43m)\u001b[49m\n\u001b[32m   3813\u001b[39m \u001b[38;5;28;01mexcept\u001b[39;00m \u001b[38;5;167;01mKeyError\u001b[39;00m \u001b[38;5;28;01mas\u001b[39;00m err:\n",
      "\u001b[36mFile \u001b[39m\u001b[32mpandas/_libs/index.pyx:167\u001b[39m, in \u001b[36mpandas._libs.index.IndexEngine.get_loc\u001b[39m\u001b[34m()\u001b[39m\n",
      "\u001b[36mFile \u001b[39m\u001b[32mpandas/_libs/index.pyx:196\u001b[39m, in \u001b[36mpandas._libs.index.IndexEngine.get_loc\u001b[39m\u001b[34m()\u001b[39m\n",
      "\u001b[36mFile \u001b[39m\u001b[32mpandas/_libs/hashtable_class_helper.pxi:7088\u001b[39m, in \u001b[36mpandas._libs.hashtable.PyObjectHashTable.get_item\u001b[39m\u001b[34m()\u001b[39m\n",
      "\u001b[36mFile \u001b[39m\u001b[32mpandas/_libs/hashtable_class_helper.pxi:7096\u001b[39m, in \u001b[36mpandas._libs.hashtable.PyObjectHashTable.get_item\u001b[39m\u001b[34m()\u001b[39m\n",
      "\u001b[31mKeyError\u001b[39m: 'Accomplishment'",
      "\nThe above exception was the direct cause of the following exception:\n",
      "\u001b[31mKeyError\u001b[39m                                  Traceback (most recent call last)",
      "\u001b[36mCell\u001b[39m\u001b[36m \u001b[39m\u001b[32mIn[25]\u001b[39m\u001b[32m, line 1\u001b[39m\n\u001b[32m----> \u001b[39m\u001b[32m1\u001b[39m df_gift = df[\u001b[43mdf\u001b[49m\u001b[43m[\u001b[49m\u001b[33;43m\"\u001b[39;49m\u001b[33;43mAccomplishment\u001b[39;49m\u001b[33;43m\"\u001b[39;49m\u001b[43m]\u001b[49m == \u001b[33m\"\u001b[39m\u001b[33mGift\u001b[39m\u001b[33m\"\u001b[39m]\n\u001b[32m      2\u001b[39m \u001b[38;5;28mprint\u001b[39m(df_gift)\n",
      "\u001b[36mFile \u001b[39m\u001b[32m~\\AppData\\Local\\Programs\\Python\\Python313\\Lib\\site-packages\\pandas\\core\\frame.py:4113\u001b[39m, in \u001b[36mDataFrame.__getitem__\u001b[39m\u001b[34m(self, key)\u001b[39m\n\u001b[32m   4111\u001b[39m \u001b[38;5;28;01mif\u001b[39;00m \u001b[38;5;28mself\u001b[39m.columns.nlevels > \u001b[32m1\u001b[39m:\n\u001b[32m   4112\u001b[39m     \u001b[38;5;28;01mreturn\u001b[39;00m \u001b[38;5;28mself\u001b[39m._getitem_multilevel(key)\n\u001b[32m-> \u001b[39m\u001b[32m4113\u001b[39m indexer = \u001b[38;5;28;43mself\u001b[39;49m\u001b[43m.\u001b[49m\u001b[43mcolumns\u001b[49m\u001b[43m.\u001b[49m\u001b[43mget_loc\u001b[49m\u001b[43m(\u001b[49m\u001b[43mkey\u001b[49m\u001b[43m)\u001b[49m\n\u001b[32m   4114\u001b[39m \u001b[38;5;28;01mif\u001b[39;00m is_integer(indexer):\n\u001b[32m   4115\u001b[39m     indexer = [indexer]\n",
      "\u001b[36mFile \u001b[39m\u001b[32m~\\AppData\\Local\\Programs\\Python\\Python313\\Lib\\site-packages\\pandas\\core\\indexes\\base.py:3819\u001b[39m, in \u001b[36mIndex.get_loc\u001b[39m\u001b[34m(self, key)\u001b[39m\n\u001b[32m   3814\u001b[39m     \u001b[38;5;28;01mif\u001b[39;00m \u001b[38;5;28misinstance\u001b[39m(casted_key, \u001b[38;5;28mslice\u001b[39m) \u001b[38;5;129;01mor\u001b[39;00m (\n\u001b[32m   3815\u001b[39m         \u001b[38;5;28misinstance\u001b[39m(casted_key, abc.Iterable)\n\u001b[32m   3816\u001b[39m         \u001b[38;5;129;01mand\u001b[39;00m \u001b[38;5;28many\u001b[39m(\u001b[38;5;28misinstance\u001b[39m(x, \u001b[38;5;28mslice\u001b[39m) \u001b[38;5;28;01mfor\u001b[39;00m x \u001b[38;5;129;01min\u001b[39;00m casted_key)\n\u001b[32m   3817\u001b[39m     ):\n\u001b[32m   3818\u001b[39m         \u001b[38;5;28;01mraise\u001b[39;00m InvalidIndexError(key)\n\u001b[32m-> \u001b[39m\u001b[32m3819\u001b[39m     \u001b[38;5;28;01mraise\u001b[39;00m \u001b[38;5;167;01mKeyError\u001b[39;00m(key) \u001b[38;5;28;01mfrom\u001b[39;00m\u001b[38;5;250m \u001b[39m\u001b[34;01merr\u001b[39;00m\n\u001b[32m   3820\u001b[39m \u001b[38;5;28;01mexcept\u001b[39;00m \u001b[38;5;167;01mTypeError\u001b[39;00m:\n\u001b[32m   3821\u001b[39m     \u001b[38;5;66;03m# If we have a listlike key, _check_indexing_error will raise\u001b[39;00m\n\u001b[32m   3822\u001b[39m     \u001b[38;5;66;03m#  InvalidIndexError. Otherwise we fall through and re-raise\u001b[39;00m\n\u001b[32m   3823\u001b[39m     \u001b[38;5;66;03m#  the TypeError.\u001b[39;00m\n\u001b[32m   3824\u001b[39m     \u001b[38;5;28mself\u001b[39m._check_indexing_error(key)\n",
      "\u001b[31mKeyError\u001b[39m: 'Accomplishment'"
     ]
    }
   ],
   "source": [
    "df_gift = df[df[\"Accomplishment\"] == \"Gift\"]\n",
    "print(df_gift)"
   ]
  },
  {
   "cell_type": "code",
   "execution_count": 26,
   "id": "60c85093-a242-42e4-bb3c-2fa9557572a6",
   "metadata": {},
   "outputs": [
    {
     "name": "stdout",
     "output_type": "stream",
     "text": [
      "['.ipynb_checkpoints', '.ipython', '.jupyter', '.python_history', 'AppData', 'Application Data', 'Contacts', 'Cookies', 'Documents', 'Downloads', 'Favorites', 'harvard_artifacts.db', 'harvard_project.ipynb', 'Links', 'Local Settings', 'My Documents', 'NetHood', 'NTUSER.DAT', 'ntuser.dat.LOG1', 'ntuser.dat.LOG2', 'NTUSER.DAT{2a740c2d-06bd-11f0-b0db-d8b32f9f439e}.TM.blf', 'NTUSER.DAT{2a740c2d-06bd-11f0-b0db-d8b32f9f439e}.TMContainer00000000000000000001.regtrans-ms', 'NTUSER.DAT{2a740c2d-06bd-11f0-b0db-d8b32f9f439e}.TMContainer00000000000000000002.regtrans-ms', 'ntuser.ini', 'OneDrive', 'PrintHood', 'Recent', 'Saved Games', 'Searches', 'SendTo', 'Start Menu', 'Templates', 'Untitled.ipynb', 'Untitled1.ipynb']\n"
     ]
    }
   ],
   "source": [
    "import os\n",
    "print(os.listdir())"
   ]
  },
  {
   "cell_type": "code",
   "execution_count": 27,
   "id": "57e338d1-9fe4-4f8a-87e8-f3b33159db6a",
   "metadata": {},
   "outputs": [
    {
     "ename": "FileNotFoundError",
     "evalue": "[Errno 2] No such file or directory: 'C:/Users/Ashwin/Documents/harvard_project1/accomplishment1.csv'",
     "output_type": "error",
     "traceback": [
      "\u001b[31m---------------------------------------------------------------------------\u001b[39m",
      "\u001b[31mFileNotFoundError\u001b[39m                         Traceback (most recent call last)",
      "\u001b[36mCell\u001b[39m\u001b[36m \u001b[39m\u001b[32mIn[27]\u001b[39m\u001b[32m, line 1\u001b[39m\n\u001b[32m----> \u001b[39m\u001b[32m1\u001b[39m df_gift = \u001b[43mpd\u001b[49m\u001b[43m.\u001b[49m\u001b[43mread_csv\u001b[49m\u001b[43m(\u001b[49m\u001b[33;43m\"\u001b[39;49m\u001b[33;43mC:/Users/Ashwin/Documents/harvard_project1/accomplishment1.csv\u001b[39;49m\u001b[33;43m\"\u001b[39;49m\u001b[43m)\u001b[49m\n",
      "\u001b[36mFile \u001b[39m\u001b[32m~\\AppData\\Local\\Programs\\Python\\Python313\\Lib\\site-packages\\pandas\\io\\parsers\\readers.py:1026\u001b[39m, in \u001b[36mread_csv\u001b[39m\u001b[34m(filepath_or_buffer, sep, delimiter, header, names, index_col, usecols, dtype, engine, converters, true_values, false_values, skipinitialspace, skiprows, skipfooter, nrows, na_values, keep_default_na, na_filter, verbose, skip_blank_lines, parse_dates, infer_datetime_format, keep_date_col, date_parser, date_format, dayfirst, cache_dates, iterator, chunksize, compression, thousands, decimal, lineterminator, quotechar, quoting, doublequote, escapechar, comment, encoding, encoding_errors, dialect, on_bad_lines, delim_whitespace, low_memory, memory_map, float_precision, storage_options, dtype_backend)\u001b[39m\n\u001b[32m   1013\u001b[39m kwds_defaults = _refine_defaults_read(\n\u001b[32m   1014\u001b[39m     dialect,\n\u001b[32m   1015\u001b[39m     delimiter,\n\u001b[32m   (...)\u001b[39m\u001b[32m   1022\u001b[39m     dtype_backend=dtype_backend,\n\u001b[32m   1023\u001b[39m )\n\u001b[32m   1024\u001b[39m kwds.update(kwds_defaults)\n\u001b[32m-> \u001b[39m\u001b[32m1026\u001b[39m \u001b[38;5;28;01mreturn\u001b[39;00m \u001b[43m_read\u001b[49m\u001b[43m(\u001b[49m\u001b[43mfilepath_or_buffer\u001b[49m\u001b[43m,\u001b[49m\u001b[43m \u001b[49m\u001b[43mkwds\u001b[49m\u001b[43m)\u001b[49m\n",
      "\u001b[36mFile \u001b[39m\u001b[32m~\\AppData\\Local\\Programs\\Python\\Python313\\Lib\\site-packages\\pandas\\io\\parsers\\readers.py:620\u001b[39m, in \u001b[36m_read\u001b[39m\u001b[34m(filepath_or_buffer, kwds)\u001b[39m\n\u001b[32m    617\u001b[39m _validate_names(kwds.get(\u001b[33m\"\u001b[39m\u001b[33mnames\u001b[39m\u001b[33m\"\u001b[39m, \u001b[38;5;28;01mNone\u001b[39;00m))\n\u001b[32m    619\u001b[39m \u001b[38;5;66;03m# Create the parser.\u001b[39;00m\n\u001b[32m--> \u001b[39m\u001b[32m620\u001b[39m parser = \u001b[43mTextFileReader\u001b[49m\u001b[43m(\u001b[49m\u001b[43mfilepath_or_buffer\u001b[49m\u001b[43m,\u001b[49m\u001b[43m \u001b[49m\u001b[43m*\u001b[49m\u001b[43m*\u001b[49m\u001b[43mkwds\u001b[49m\u001b[43m)\u001b[49m\n\u001b[32m    622\u001b[39m \u001b[38;5;28;01mif\u001b[39;00m chunksize \u001b[38;5;129;01mor\u001b[39;00m iterator:\n\u001b[32m    623\u001b[39m     \u001b[38;5;28;01mreturn\u001b[39;00m parser\n",
      "\u001b[36mFile \u001b[39m\u001b[32m~\\AppData\\Local\\Programs\\Python\\Python313\\Lib\\site-packages\\pandas\\io\\parsers\\readers.py:1620\u001b[39m, in \u001b[36mTextFileReader.__init__\u001b[39m\u001b[34m(self, f, engine, **kwds)\u001b[39m\n\u001b[32m   1617\u001b[39m     \u001b[38;5;28mself\u001b[39m.options[\u001b[33m\"\u001b[39m\u001b[33mhas_index_names\u001b[39m\u001b[33m\"\u001b[39m] = kwds[\u001b[33m\"\u001b[39m\u001b[33mhas_index_names\u001b[39m\u001b[33m\"\u001b[39m]\n\u001b[32m   1619\u001b[39m \u001b[38;5;28mself\u001b[39m.handles: IOHandles | \u001b[38;5;28;01mNone\u001b[39;00m = \u001b[38;5;28;01mNone\u001b[39;00m\n\u001b[32m-> \u001b[39m\u001b[32m1620\u001b[39m \u001b[38;5;28mself\u001b[39m._engine = \u001b[38;5;28;43mself\u001b[39;49m\u001b[43m.\u001b[49m\u001b[43m_make_engine\u001b[49m\u001b[43m(\u001b[49m\u001b[43mf\u001b[49m\u001b[43m,\u001b[49m\u001b[43m \u001b[49m\u001b[38;5;28;43mself\u001b[39;49m\u001b[43m.\u001b[49m\u001b[43mengine\u001b[49m\u001b[43m)\u001b[49m\n",
      "\u001b[36mFile \u001b[39m\u001b[32m~\\AppData\\Local\\Programs\\Python\\Python313\\Lib\\site-packages\\pandas\\io\\parsers\\readers.py:1880\u001b[39m, in \u001b[36mTextFileReader._make_engine\u001b[39m\u001b[34m(self, f, engine)\u001b[39m\n\u001b[32m   1878\u001b[39m     \u001b[38;5;28;01mif\u001b[39;00m \u001b[33m\"\u001b[39m\u001b[33mb\u001b[39m\u001b[33m\"\u001b[39m \u001b[38;5;129;01mnot\u001b[39;00m \u001b[38;5;129;01min\u001b[39;00m mode:\n\u001b[32m   1879\u001b[39m         mode += \u001b[33m\"\u001b[39m\u001b[33mb\u001b[39m\u001b[33m\"\u001b[39m\n\u001b[32m-> \u001b[39m\u001b[32m1880\u001b[39m \u001b[38;5;28mself\u001b[39m.handles = \u001b[43mget_handle\u001b[49m\u001b[43m(\u001b[49m\n\u001b[32m   1881\u001b[39m \u001b[43m    \u001b[49m\u001b[43mf\u001b[49m\u001b[43m,\u001b[49m\n\u001b[32m   1882\u001b[39m \u001b[43m    \u001b[49m\u001b[43mmode\u001b[49m\u001b[43m,\u001b[49m\n\u001b[32m   1883\u001b[39m \u001b[43m    \u001b[49m\u001b[43mencoding\u001b[49m\u001b[43m=\u001b[49m\u001b[38;5;28;43mself\u001b[39;49m\u001b[43m.\u001b[49m\u001b[43moptions\u001b[49m\u001b[43m.\u001b[49m\u001b[43mget\u001b[49m\u001b[43m(\u001b[49m\u001b[33;43m\"\u001b[39;49m\u001b[33;43mencoding\u001b[39;49m\u001b[33;43m\"\u001b[39;49m\u001b[43m,\u001b[49m\u001b[43m \u001b[49m\u001b[38;5;28;43;01mNone\u001b[39;49;00m\u001b[43m)\u001b[49m\u001b[43m,\u001b[49m\n\u001b[32m   1884\u001b[39m \u001b[43m    \u001b[49m\u001b[43mcompression\u001b[49m\u001b[43m=\u001b[49m\u001b[38;5;28;43mself\u001b[39;49m\u001b[43m.\u001b[49m\u001b[43moptions\u001b[49m\u001b[43m.\u001b[49m\u001b[43mget\u001b[49m\u001b[43m(\u001b[49m\u001b[33;43m\"\u001b[39;49m\u001b[33;43mcompression\u001b[39;49m\u001b[33;43m\"\u001b[39;49m\u001b[43m,\u001b[49m\u001b[43m \u001b[49m\u001b[38;5;28;43;01mNone\u001b[39;49;00m\u001b[43m)\u001b[49m\u001b[43m,\u001b[49m\n\u001b[32m   1885\u001b[39m \u001b[43m    \u001b[49m\u001b[43mmemory_map\u001b[49m\u001b[43m=\u001b[49m\u001b[38;5;28;43mself\u001b[39;49m\u001b[43m.\u001b[49m\u001b[43moptions\u001b[49m\u001b[43m.\u001b[49m\u001b[43mget\u001b[49m\u001b[43m(\u001b[49m\u001b[33;43m\"\u001b[39;49m\u001b[33;43mmemory_map\u001b[39;49m\u001b[33;43m\"\u001b[39;49m\u001b[43m,\u001b[49m\u001b[43m \u001b[49m\u001b[38;5;28;43;01mFalse\u001b[39;49;00m\u001b[43m)\u001b[49m\u001b[43m,\u001b[49m\n\u001b[32m   1886\u001b[39m \u001b[43m    \u001b[49m\u001b[43mis_text\u001b[49m\u001b[43m=\u001b[49m\u001b[43mis_text\u001b[49m\u001b[43m,\u001b[49m\n\u001b[32m   1887\u001b[39m \u001b[43m    \u001b[49m\u001b[43merrors\u001b[49m\u001b[43m=\u001b[49m\u001b[38;5;28;43mself\u001b[39;49m\u001b[43m.\u001b[49m\u001b[43moptions\u001b[49m\u001b[43m.\u001b[49m\u001b[43mget\u001b[49m\u001b[43m(\u001b[49m\u001b[33;43m\"\u001b[39;49m\u001b[33;43mencoding_errors\u001b[39;49m\u001b[33;43m\"\u001b[39;49m\u001b[43m,\u001b[49m\u001b[43m \u001b[49m\u001b[33;43m\"\u001b[39;49m\u001b[33;43mstrict\u001b[39;49m\u001b[33;43m\"\u001b[39;49m\u001b[43m)\u001b[49m\u001b[43m,\u001b[49m\n\u001b[32m   1888\u001b[39m \u001b[43m    \u001b[49m\u001b[43mstorage_options\u001b[49m\u001b[43m=\u001b[49m\u001b[38;5;28;43mself\u001b[39;49m\u001b[43m.\u001b[49m\u001b[43moptions\u001b[49m\u001b[43m.\u001b[49m\u001b[43mget\u001b[49m\u001b[43m(\u001b[49m\u001b[33;43m\"\u001b[39;49m\u001b[33;43mstorage_options\u001b[39;49m\u001b[33;43m\"\u001b[39;49m\u001b[43m,\u001b[49m\u001b[43m \u001b[49m\u001b[38;5;28;43;01mNone\u001b[39;49;00m\u001b[43m)\u001b[49m\u001b[43m,\u001b[49m\n\u001b[32m   1889\u001b[39m \u001b[43m\u001b[49m\u001b[43m)\u001b[49m\n\u001b[32m   1890\u001b[39m \u001b[38;5;28;01massert\u001b[39;00m \u001b[38;5;28mself\u001b[39m.handles \u001b[38;5;129;01mis\u001b[39;00m \u001b[38;5;129;01mnot\u001b[39;00m \u001b[38;5;28;01mNone\u001b[39;00m\n\u001b[32m   1891\u001b[39m f = \u001b[38;5;28mself\u001b[39m.handles.handle\n",
      "\u001b[36mFile \u001b[39m\u001b[32m~\\AppData\\Local\\Programs\\Python\\Python313\\Lib\\site-packages\\pandas\\io\\common.py:873\u001b[39m, in \u001b[36mget_handle\u001b[39m\u001b[34m(path_or_buf, mode, encoding, compression, memory_map, is_text, errors, storage_options)\u001b[39m\n\u001b[32m    868\u001b[39m \u001b[38;5;28;01melif\u001b[39;00m \u001b[38;5;28misinstance\u001b[39m(handle, \u001b[38;5;28mstr\u001b[39m):\n\u001b[32m    869\u001b[39m     \u001b[38;5;66;03m# Check whether the filename is to be opened in binary mode.\u001b[39;00m\n\u001b[32m    870\u001b[39m     \u001b[38;5;66;03m# Binary mode does not support 'encoding' and 'newline'.\u001b[39;00m\n\u001b[32m    871\u001b[39m     \u001b[38;5;28;01mif\u001b[39;00m ioargs.encoding \u001b[38;5;129;01mand\u001b[39;00m \u001b[33m\"\u001b[39m\u001b[33mb\u001b[39m\u001b[33m\"\u001b[39m \u001b[38;5;129;01mnot\u001b[39;00m \u001b[38;5;129;01min\u001b[39;00m ioargs.mode:\n\u001b[32m    872\u001b[39m         \u001b[38;5;66;03m# Encoding\u001b[39;00m\n\u001b[32m--> \u001b[39m\u001b[32m873\u001b[39m         handle = \u001b[38;5;28;43mopen\u001b[39;49m\u001b[43m(\u001b[49m\n\u001b[32m    874\u001b[39m \u001b[43m            \u001b[49m\u001b[43mhandle\u001b[49m\u001b[43m,\u001b[49m\n\u001b[32m    875\u001b[39m \u001b[43m            \u001b[49m\u001b[43mioargs\u001b[49m\u001b[43m.\u001b[49m\u001b[43mmode\u001b[49m\u001b[43m,\u001b[49m\n\u001b[32m    876\u001b[39m \u001b[43m            \u001b[49m\u001b[43mencoding\u001b[49m\u001b[43m=\u001b[49m\u001b[43mioargs\u001b[49m\u001b[43m.\u001b[49m\u001b[43mencoding\u001b[49m\u001b[43m,\u001b[49m\n\u001b[32m    877\u001b[39m \u001b[43m            \u001b[49m\u001b[43merrors\u001b[49m\u001b[43m=\u001b[49m\u001b[43merrors\u001b[49m\u001b[43m,\u001b[49m\n\u001b[32m    878\u001b[39m \u001b[43m            \u001b[49m\u001b[43mnewline\u001b[49m\u001b[43m=\u001b[49m\u001b[33;43m\"\u001b[39;49m\u001b[33;43m\"\u001b[39;49m\u001b[43m,\u001b[49m\n\u001b[32m    879\u001b[39m \u001b[43m        \u001b[49m\u001b[43m)\u001b[49m\n\u001b[32m    880\u001b[39m     \u001b[38;5;28;01melse\u001b[39;00m:\n\u001b[32m    881\u001b[39m         \u001b[38;5;66;03m# Binary mode\u001b[39;00m\n\u001b[32m    882\u001b[39m         handle = \u001b[38;5;28mopen\u001b[39m(handle, ioargs.mode)\n",
      "\u001b[31mFileNotFoundError\u001b[39m: [Errno 2] No such file or directory: 'C:/Users/Ashwin/Documents/harvard_project1/accomplishment1.csv'"
     ]
    }
   ],
   "source": [
    "df_gift = pd.read_csv(\"C:/Users/Ashwin/Documents/harvard_project1/accomplishment1.csv\")"
   ]
  },
  {
   "cell_type": "code",
   "execution_count": 28,
   "id": "0e48056f-a620-4c86-8be1-1e2455f389da",
   "metadata": {},
   "outputs": [
    {
     "ename": "FileNotFoundError",
     "evalue": "[Errno 2] No such file or directory: 'data/accomplishment1.csv'",
     "output_type": "error",
     "traceback": [
      "\u001b[31m---------------------------------------------------------------------------\u001b[39m",
      "\u001b[31mFileNotFoundError\u001b[39m                         Traceback (most recent call last)",
      "\u001b[36mCell\u001b[39m\u001b[36m \u001b[39m\u001b[32mIn[28]\u001b[39m\u001b[32m, line 1\u001b[39m\n\u001b[32m----> \u001b[39m\u001b[32m1\u001b[39m df_gift = \u001b[43mpd\u001b[49m\u001b[43m.\u001b[49m\u001b[43mread_csv\u001b[49m\u001b[43m(\u001b[49m\u001b[33;43m\"\u001b[39;49m\u001b[33;43mdata/accomplishment1.csv\u001b[39;49m\u001b[33;43m\"\u001b[39;49m\u001b[43m)\u001b[49m  \u001b[38;5;66;03m# if it's in a folder called 'data'\u001b[39;00m\n",
      "\u001b[36mFile \u001b[39m\u001b[32m~\\AppData\\Local\\Programs\\Python\\Python313\\Lib\\site-packages\\pandas\\io\\parsers\\readers.py:1026\u001b[39m, in \u001b[36mread_csv\u001b[39m\u001b[34m(filepath_or_buffer, sep, delimiter, header, names, index_col, usecols, dtype, engine, converters, true_values, false_values, skipinitialspace, skiprows, skipfooter, nrows, na_values, keep_default_na, na_filter, verbose, skip_blank_lines, parse_dates, infer_datetime_format, keep_date_col, date_parser, date_format, dayfirst, cache_dates, iterator, chunksize, compression, thousands, decimal, lineterminator, quotechar, quoting, doublequote, escapechar, comment, encoding, encoding_errors, dialect, on_bad_lines, delim_whitespace, low_memory, memory_map, float_precision, storage_options, dtype_backend)\u001b[39m\n\u001b[32m   1013\u001b[39m kwds_defaults = _refine_defaults_read(\n\u001b[32m   1014\u001b[39m     dialect,\n\u001b[32m   1015\u001b[39m     delimiter,\n\u001b[32m   (...)\u001b[39m\u001b[32m   1022\u001b[39m     dtype_backend=dtype_backend,\n\u001b[32m   1023\u001b[39m )\n\u001b[32m   1024\u001b[39m kwds.update(kwds_defaults)\n\u001b[32m-> \u001b[39m\u001b[32m1026\u001b[39m \u001b[38;5;28;01mreturn\u001b[39;00m \u001b[43m_read\u001b[49m\u001b[43m(\u001b[49m\u001b[43mfilepath_or_buffer\u001b[49m\u001b[43m,\u001b[49m\u001b[43m \u001b[49m\u001b[43mkwds\u001b[49m\u001b[43m)\u001b[49m\n",
      "\u001b[36mFile \u001b[39m\u001b[32m~\\AppData\\Local\\Programs\\Python\\Python313\\Lib\\site-packages\\pandas\\io\\parsers\\readers.py:620\u001b[39m, in \u001b[36m_read\u001b[39m\u001b[34m(filepath_or_buffer, kwds)\u001b[39m\n\u001b[32m    617\u001b[39m _validate_names(kwds.get(\u001b[33m\"\u001b[39m\u001b[33mnames\u001b[39m\u001b[33m\"\u001b[39m, \u001b[38;5;28;01mNone\u001b[39;00m))\n\u001b[32m    619\u001b[39m \u001b[38;5;66;03m# Create the parser.\u001b[39;00m\n\u001b[32m--> \u001b[39m\u001b[32m620\u001b[39m parser = \u001b[43mTextFileReader\u001b[49m\u001b[43m(\u001b[49m\u001b[43mfilepath_or_buffer\u001b[49m\u001b[43m,\u001b[49m\u001b[43m \u001b[49m\u001b[43m*\u001b[49m\u001b[43m*\u001b[49m\u001b[43mkwds\u001b[49m\u001b[43m)\u001b[49m\n\u001b[32m    622\u001b[39m \u001b[38;5;28;01mif\u001b[39;00m chunksize \u001b[38;5;129;01mor\u001b[39;00m iterator:\n\u001b[32m    623\u001b[39m     \u001b[38;5;28;01mreturn\u001b[39;00m parser\n",
      "\u001b[36mFile \u001b[39m\u001b[32m~\\AppData\\Local\\Programs\\Python\\Python313\\Lib\\site-packages\\pandas\\io\\parsers\\readers.py:1620\u001b[39m, in \u001b[36mTextFileReader.__init__\u001b[39m\u001b[34m(self, f, engine, **kwds)\u001b[39m\n\u001b[32m   1617\u001b[39m     \u001b[38;5;28mself\u001b[39m.options[\u001b[33m\"\u001b[39m\u001b[33mhas_index_names\u001b[39m\u001b[33m\"\u001b[39m] = kwds[\u001b[33m\"\u001b[39m\u001b[33mhas_index_names\u001b[39m\u001b[33m\"\u001b[39m]\n\u001b[32m   1619\u001b[39m \u001b[38;5;28mself\u001b[39m.handles: IOHandles | \u001b[38;5;28;01mNone\u001b[39;00m = \u001b[38;5;28;01mNone\u001b[39;00m\n\u001b[32m-> \u001b[39m\u001b[32m1620\u001b[39m \u001b[38;5;28mself\u001b[39m._engine = \u001b[38;5;28;43mself\u001b[39;49m\u001b[43m.\u001b[49m\u001b[43m_make_engine\u001b[49m\u001b[43m(\u001b[49m\u001b[43mf\u001b[49m\u001b[43m,\u001b[49m\u001b[43m \u001b[49m\u001b[38;5;28;43mself\u001b[39;49m\u001b[43m.\u001b[49m\u001b[43mengine\u001b[49m\u001b[43m)\u001b[49m\n",
      "\u001b[36mFile \u001b[39m\u001b[32m~\\AppData\\Local\\Programs\\Python\\Python313\\Lib\\site-packages\\pandas\\io\\parsers\\readers.py:1880\u001b[39m, in \u001b[36mTextFileReader._make_engine\u001b[39m\u001b[34m(self, f, engine)\u001b[39m\n\u001b[32m   1878\u001b[39m     \u001b[38;5;28;01mif\u001b[39;00m \u001b[33m\"\u001b[39m\u001b[33mb\u001b[39m\u001b[33m\"\u001b[39m \u001b[38;5;129;01mnot\u001b[39;00m \u001b[38;5;129;01min\u001b[39;00m mode:\n\u001b[32m   1879\u001b[39m         mode += \u001b[33m\"\u001b[39m\u001b[33mb\u001b[39m\u001b[33m\"\u001b[39m\n\u001b[32m-> \u001b[39m\u001b[32m1880\u001b[39m \u001b[38;5;28mself\u001b[39m.handles = \u001b[43mget_handle\u001b[49m\u001b[43m(\u001b[49m\n\u001b[32m   1881\u001b[39m \u001b[43m    \u001b[49m\u001b[43mf\u001b[49m\u001b[43m,\u001b[49m\n\u001b[32m   1882\u001b[39m \u001b[43m    \u001b[49m\u001b[43mmode\u001b[49m\u001b[43m,\u001b[49m\n\u001b[32m   1883\u001b[39m \u001b[43m    \u001b[49m\u001b[43mencoding\u001b[49m\u001b[43m=\u001b[49m\u001b[38;5;28;43mself\u001b[39;49m\u001b[43m.\u001b[49m\u001b[43moptions\u001b[49m\u001b[43m.\u001b[49m\u001b[43mget\u001b[49m\u001b[43m(\u001b[49m\u001b[33;43m\"\u001b[39;49m\u001b[33;43mencoding\u001b[39;49m\u001b[33;43m\"\u001b[39;49m\u001b[43m,\u001b[49m\u001b[43m \u001b[49m\u001b[38;5;28;43;01mNone\u001b[39;49;00m\u001b[43m)\u001b[49m\u001b[43m,\u001b[49m\n\u001b[32m   1884\u001b[39m \u001b[43m    \u001b[49m\u001b[43mcompression\u001b[49m\u001b[43m=\u001b[49m\u001b[38;5;28;43mself\u001b[39;49m\u001b[43m.\u001b[49m\u001b[43moptions\u001b[49m\u001b[43m.\u001b[49m\u001b[43mget\u001b[49m\u001b[43m(\u001b[49m\u001b[33;43m\"\u001b[39;49m\u001b[33;43mcompression\u001b[39;49m\u001b[33;43m\"\u001b[39;49m\u001b[43m,\u001b[49m\u001b[43m \u001b[49m\u001b[38;5;28;43;01mNone\u001b[39;49;00m\u001b[43m)\u001b[49m\u001b[43m,\u001b[49m\n\u001b[32m   1885\u001b[39m \u001b[43m    \u001b[49m\u001b[43mmemory_map\u001b[49m\u001b[43m=\u001b[49m\u001b[38;5;28;43mself\u001b[39;49m\u001b[43m.\u001b[49m\u001b[43moptions\u001b[49m\u001b[43m.\u001b[49m\u001b[43mget\u001b[49m\u001b[43m(\u001b[49m\u001b[33;43m\"\u001b[39;49m\u001b[33;43mmemory_map\u001b[39;49m\u001b[33;43m\"\u001b[39;49m\u001b[43m,\u001b[49m\u001b[43m \u001b[49m\u001b[38;5;28;43;01mFalse\u001b[39;49;00m\u001b[43m)\u001b[49m\u001b[43m,\u001b[49m\n\u001b[32m   1886\u001b[39m \u001b[43m    \u001b[49m\u001b[43mis_text\u001b[49m\u001b[43m=\u001b[49m\u001b[43mis_text\u001b[49m\u001b[43m,\u001b[49m\n\u001b[32m   1887\u001b[39m \u001b[43m    \u001b[49m\u001b[43merrors\u001b[49m\u001b[43m=\u001b[49m\u001b[38;5;28;43mself\u001b[39;49m\u001b[43m.\u001b[49m\u001b[43moptions\u001b[49m\u001b[43m.\u001b[49m\u001b[43mget\u001b[49m\u001b[43m(\u001b[49m\u001b[33;43m\"\u001b[39;49m\u001b[33;43mencoding_errors\u001b[39;49m\u001b[33;43m\"\u001b[39;49m\u001b[43m,\u001b[49m\u001b[43m \u001b[49m\u001b[33;43m\"\u001b[39;49m\u001b[33;43mstrict\u001b[39;49m\u001b[33;43m\"\u001b[39;49m\u001b[43m)\u001b[49m\u001b[43m,\u001b[49m\n\u001b[32m   1888\u001b[39m \u001b[43m    \u001b[49m\u001b[43mstorage_options\u001b[49m\u001b[43m=\u001b[49m\u001b[38;5;28;43mself\u001b[39;49m\u001b[43m.\u001b[49m\u001b[43moptions\u001b[49m\u001b[43m.\u001b[49m\u001b[43mget\u001b[49m\u001b[43m(\u001b[49m\u001b[33;43m\"\u001b[39;49m\u001b[33;43mstorage_options\u001b[39;49m\u001b[33;43m\"\u001b[39;49m\u001b[43m,\u001b[49m\u001b[43m \u001b[49m\u001b[38;5;28;43;01mNone\u001b[39;49;00m\u001b[43m)\u001b[49m\u001b[43m,\u001b[49m\n\u001b[32m   1889\u001b[39m \u001b[43m\u001b[49m\u001b[43m)\u001b[49m\n\u001b[32m   1890\u001b[39m \u001b[38;5;28;01massert\u001b[39;00m \u001b[38;5;28mself\u001b[39m.handles \u001b[38;5;129;01mis\u001b[39;00m \u001b[38;5;129;01mnot\u001b[39;00m \u001b[38;5;28;01mNone\u001b[39;00m\n\u001b[32m   1891\u001b[39m f = \u001b[38;5;28mself\u001b[39m.handles.handle\n",
      "\u001b[36mFile \u001b[39m\u001b[32m~\\AppData\\Local\\Programs\\Python\\Python313\\Lib\\site-packages\\pandas\\io\\common.py:873\u001b[39m, in \u001b[36mget_handle\u001b[39m\u001b[34m(path_or_buf, mode, encoding, compression, memory_map, is_text, errors, storage_options)\u001b[39m\n\u001b[32m    868\u001b[39m \u001b[38;5;28;01melif\u001b[39;00m \u001b[38;5;28misinstance\u001b[39m(handle, \u001b[38;5;28mstr\u001b[39m):\n\u001b[32m    869\u001b[39m     \u001b[38;5;66;03m# Check whether the filename is to be opened in binary mode.\u001b[39;00m\n\u001b[32m    870\u001b[39m     \u001b[38;5;66;03m# Binary mode does not support 'encoding' and 'newline'.\u001b[39;00m\n\u001b[32m    871\u001b[39m     \u001b[38;5;28;01mif\u001b[39;00m ioargs.encoding \u001b[38;5;129;01mand\u001b[39;00m \u001b[33m\"\u001b[39m\u001b[33mb\u001b[39m\u001b[33m\"\u001b[39m \u001b[38;5;129;01mnot\u001b[39;00m \u001b[38;5;129;01min\u001b[39;00m ioargs.mode:\n\u001b[32m    872\u001b[39m         \u001b[38;5;66;03m# Encoding\u001b[39;00m\n\u001b[32m--> \u001b[39m\u001b[32m873\u001b[39m         handle = \u001b[38;5;28;43mopen\u001b[39;49m\u001b[43m(\u001b[49m\n\u001b[32m    874\u001b[39m \u001b[43m            \u001b[49m\u001b[43mhandle\u001b[49m\u001b[43m,\u001b[49m\n\u001b[32m    875\u001b[39m \u001b[43m            \u001b[49m\u001b[43mioargs\u001b[49m\u001b[43m.\u001b[49m\u001b[43mmode\u001b[49m\u001b[43m,\u001b[49m\n\u001b[32m    876\u001b[39m \u001b[43m            \u001b[49m\u001b[43mencoding\u001b[49m\u001b[43m=\u001b[49m\u001b[43mioargs\u001b[49m\u001b[43m.\u001b[49m\u001b[43mencoding\u001b[49m\u001b[43m,\u001b[49m\n\u001b[32m    877\u001b[39m \u001b[43m            \u001b[49m\u001b[43merrors\u001b[49m\u001b[43m=\u001b[49m\u001b[43merrors\u001b[49m\u001b[43m,\u001b[49m\n\u001b[32m    878\u001b[39m \u001b[43m            \u001b[49m\u001b[43mnewline\u001b[49m\u001b[43m=\u001b[49m\u001b[33;43m\"\u001b[39;49m\u001b[33;43m\"\u001b[39;49m\u001b[43m,\u001b[49m\n\u001b[32m    879\u001b[39m \u001b[43m        \u001b[49m\u001b[43m)\u001b[49m\n\u001b[32m    880\u001b[39m     \u001b[38;5;28;01melse\u001b[39;00m:\n\u001b[32m    881\u001b[39m         \u001b[38;5;66;03m# Binary mode\u001b[39;00m\n\u001b[32m    882\u001b[39m         handle = \u001b[38;5;28mopen\u001b[39m(handle, ioargs.mode)\n",
      "\u001b[31mFileNotFoundError\u001b[39m: [Errno 2] No such file or directory: 'data/accomplishment1.csv'"
     ]
    }
   ],
   "source": [
    "df_gift = pd.read_csv(\"data/accomplishment1.csv\")  # if it's in a folder called 'data'"
   ]
  },
  {
   "cell_type": "code",
   "execution_count": 29,
   "id": "6b6e9343-dd07-478c-94dc-49e1ed694dcc",
   "metadata": {},
   "outputs": [
    {
     "name": "stdout",
     "output_type": "stream",
     "text": [
      "C:\\Users\\ashwi\n"
     ]
    }
   ],
   "source": [
    "import os\n",
    "print(os.getcwd())"
   ]
  },
  {
   "cell_type": "code",
   "execution_count": 30,
   "id": "fdeacf89-1bf5-4549-b0e6-25659e12ac9e",
   "metadata": {},
   "outputs": [
    {
     "ename": "FileNotFoundError",
     "evalue": "[WinError 3] The system cannot find the path specified: 'data'",
     "output_type": "error",
     "traceback": [
      "\u001b[31m---------------------------------------------------------------------------\u001b[39m",
      "\u001b[31mFileNotFoundError\u001b[39m                         Traceback (most recent call last)",
      "\u001b[36mCell\u001b[39m\u001b[36m \u001b[39m\u001b[32mIn[30]\u001b[39m\u001b[32m, line 1\u001b[39m\n\u001b[32m----> \u001b[39m\u001b[32m1\u001b[39m \u001b[38;5;28mprint\u001b[39m(\u001b[43mos\u001b[49m\u001b[43m.\u001b[49m\u001b[43mlistdir\u001b[49m\u001b[43m(\u001b[49m\u001b[33;43m\"\u001b[39;49m\u001b[33;43mdata\u001b[39;49m\u001b[33;43m\"\u001b[39;49m\u001b[43m)\u001b[49m)\n",
      "\u001b[31mFileNotFoundError\u001b[39m: [WinError 3] The system cannot find the path specified: 'data'"
     ]
    }
   ],
   "source": [
    "print(os.listdir(\"data\"))"
   ]
  },
  {
   "cell_type": "code",
   "execution_count": 31,
   "id": "642feb3e-8e8d-4ef5-91d8-15578dac2fb2",
   "metadata": {},
   "outputs": [
    {
     "name": "stdout",
     "output_type": "stream",
     "text": [
      "C:\\Users\\ashwi\n"
     ]
    }
   ],
   "source": [
    "import os\n",
    "print(os.getcwd())"
   ]
  },
  {
   "cell_type": "code",
   "execution_count": 32,
   "id": "83c2d700-2166-4656-abb4-6e31f60462fa",
   "metadata": {},
   "outputs": [
    {
     "ename": "SyntaxError",
     "evalue": "unexpected character after line continuation character (2938340656.py, line 1)",
     "output_type": "error",
     "traceback": [
      "  \u001b[36mCell\u001b[39m\u001b[36m \u001b[39m\u001b[32mIn[32]\u001b[39m\u001b[32m, line 1\u001b[39m\n\u001b[31m    \u001b[39m\u001b[31mC:\\Users\\cloudy\u001b[39m\n       ^\n\u001b[31mSyntaxError\u001b[39m\u001b[31m:\u001b[39m unexpected character after line continuation character\n"
     ]
    }
   ],
   "source": [
    "C:\\Users\\cloudy"
   ]
  },
  {
   "cell_type": "code",
   "execution_count": 33,
   "id": "1a377a31-3e4f-49e3-a971-6d11d128019b",
   "metadata": {},
   "outputs": [
    {
     "ename": "FileNotFoundError",
     "evalue": "[Errno 2] No such file or directory: 'C:\\\\Users\\\\Lloyd\\\\OneDrive\\\\Documents\\\\art.csv'",
     "output_type": "error",
     "traceback": [
      "\u001b[31m---------------------------------------------------------------------------\u001b[39m",
      "\u001b[31mFileNotFoundError\u001b[39m                         Traceback (most recent call last)",
      "\u001b[36mCell\u001b[39m\u001b[36m \u001b[39m\u001b[32mIn[33]\u001b[39m\u001b[32m, line 1\u001b[39m\n\u001b[32m----> \u001b[39m\u001b[32m1\u001b[39m fileRead = \u001b[43mpd\u001b[49m\u001b[43m.\u001b[49m\u001b[43mread_csv\u001b[49m\u001b[43m(\u001b[49m\u001b[33;43mr\u001b[39;49m\u001b[33;43m\"\u001b[39;49m\u001b[33;43mC:\u001b[39;49m\u001b[33;43m\\\u001b[39;49m\u001b[33;43mUsers\u001b[39;49m\u001b[33;43m\\\u001b[39;49m\u001b[33;43mLloyd\u001b[39;49m\u001b[33;43m\\\u001b[39;49m\u001b[33;43mOneDrive\u001b[39;49m\u001b[33;43m\\\u001b[39;49m\u001b[33;43mDocuments\u001b[39;49m\u001b[33;43m\\\u001b[39;49m\u001b[33;43mart.csv\u001b[39;49m\u001b[33;43m\"\u001b[39;49m\u001b[43m)\u001b[49m\n",
      "\u001b[36mFile \u001b[39m\u001b[32m~\\AppData\\Local\\Programs\\Python\\Python313\\Lib\\site-packages\\pandas\\io\\parsers\\readers.py:1026\u001b[39m, in \u001b[36mread_csv\u001b[39m\u001b[34m(filepath_or_buffer, sep, delimiter, header, names, index_col, usecols, dtype, engine, converters, true_values, false_values, skipinitialspace, skiprows, skipfooter, nrows, na_values, keep_default_na, na_filter, verbose, skip_blank_lines, parse_dates, infer_datetime_format, keep_date_col, date_parser, date_format, dayfirst, cache_dates, iterator, chunksize, compression, thousands, decimal, lineterminator, quotechar, quoting, doublequote, escapechar, comment, encoding, encoding_errors, dialect, on_bad_lines, delim_whitespace, low_memory, memory_map, float_precision, storage_options, dtype_backend)\u001b[39m\n\u001b[32m   1013\u001b[39m kwds_defaults = _refine_defaults_read(\n\u001b[32m   1014\u001b[39m     dialect,\n\u001b[32m   1015\u001b[39m     delimiter,\n\u001b[32m   (...)\u001b[39m\u001b[32m   1022\u001b[39m     dtype_backend=dtype_backend,\n\u001b[32m   1023\u001b[39m )\n\u001b[32m   1024\u001b[39m kwds.update(kwds_defaults)\n\u001b[32m-> \u001b[39m\u001b[32m1026\u001b[39m \u001b[38;5;28;01mreturn\u001b[39;00m \u001b[43m_read\u001b[49m\u001b[43m(\u001b[49m\u001b[43mfilepath_or_buffer\u001b[49m\u001b[43m,\u001b[49m\u001b[43m \u001b[49m\u001b[43mkwds\u001b[49m\u001b[43m)\u001b[49m\n",
      "\u001b[36mFile \u001b[39m\u001b[32m~\\AppData\\Local\\Programs\\Python\\Python313\\Lib\\site-packages\\pandas\\io\\parsers\\readers.py:620\u001b[39m, in \u001b[36m_read\u001b[39m\u001b[34m(filepath_or_buffer, kwds)\u001b[39m\n\u001b[32m    617\u001b[39m _validate_names(kwds.get(\u001b[33m\"\u001b[39m\u001b[33mnames\u001b[39m\u001b[33m\"\u001b[39m, \u001b[38;5;28;01mNone\u001b[39;00m))\n\u001b[32m    619\u001b[39m \u001b[38;5;66;03m# Create the parser.\u001b[39;00m\n\u001b[32m--> \u001b[39m\u001b[32m620\u001b[39m parser = \u001b[43mTextFileReader\u001b[49m\u001b[43m(\u001b[49m\u001b[43mfilepath_or_buffer\u001b[49m\u001b[43m,\u001b[49m\u001b[43m \u001b[49m\u001b[43m*\u001b[49m\u001b[43m*\u001b[49m\u001b[43mkwds\u001b[49m\u001b[43m)\u001b[49m\n\u001b[32m    622\u001b[39m \u001b[38;5;28;01mif\u001b[39;00m chunksize \u001b[38;5;129;01mor\u001b[39;00m iterator:\n\u001b[32m    623\u001b[39m     \u001b[38;5;28;01mreturn\u001b[39;00m parser\n",
      "\u001b[36mFile \u001b[39m\u001b[32m~\\AppData\\Local\\Programs\\Python\\Python313\\Lib\\site-packages\\pandas\\io\\parsers\\readers.py:1620\u001b[39m, in \u001b[36mTextFileReader.__init__\u001b[39m\u001b[34m(self, f, engine, **kwds)\u001b[39m\n\u001b[32m   1617\u001b[39m     \u001b[38;5;28mself\u001b[39m.options[\u001b[33m\"\u001b[39m\u001b[33mhas_index_names\u001b[39m\u001b[33m\"\u001b[39m] = kwds[\u001b[33m\"\u001b[39m\u001b[33mhas_index_names\u001b[39m\u001b[33m\"\u001b[39m]\n\u001b[32m   1619\u001b[39m \u001b[38;5;28mself\u001b[39m.handles: IOHandles | \u001b[38;5;28;01mNone\u001b[39;00m = \u001b[38;5;28;01mNone\u001b[39;00m\n\u001b[32m-> \u001b[39m\u001b[32m1620\u001b[39m \u001b[38;5;28mself\u001b[39m._engine = \u001b[38;5;28;43mself\u001b[39;49m\u001b[43m.\u001b[49m\u001b[43m_make_engine\u001b[49m\u001b[43m(\u001b[49m\u001b[43mf\u001b[49m\u001b[43m,\u001b[49m\u001b[43m \u001b[49m\u001b[38;5;28;43mself\u001b[39;49m\u001b[43m.\u001b[49m\u001b[43mengine\u001b[49m\u001b[43m)\u001b[49m\n",
      "\u001b[36mFile \u001b[39m\u001b[32m~\\AppData\\Local\\Programs\\Python\\Python313\\Lib\\site-packages\\pandas\\io\\parsers\\readers.py:1880\u001b[39m, in \u001b[36mTextFileReader._make_engine\u001b[39m\u001b[34m(self, f, engine)\u001b[39m\n\u001b[32m   1878\u001b[39m     \u001b[38;5;28;01mif\u001b[39;00m \u001b[33m\"\u001b[39m\u001b[33mb\u001b[39m\u001b[33m\"\u001b[39m \u001b[38;5;129;01mnot\u001b[39;00m \u001b[38;5;129;01min\u001b[39;00m mode:\n\u001b[32m   1879\u001b[39m         mode += \u001b[33m\"\u001b[39m\u001b[33mb\u001b[39m\u001b[33m\"\u001b[39m\n\u001b[32m-> \u001b[39m\u001b[32m1880\u001b[39m \u001b[38;5;28mself\u001b[39m.handles = \u001b[43mget_handle\u001b[49m\u001b[43m(\u001b[49m\n\u001b[32m   1881\u001b[39m \u001b[43m    \u001b[49m\u001b[43mf\u001b[49m\u001b[43m,\u001b[49m\n\u001b[32m   1882\u001b[39m \u001b[43m    \u001b[49m\u001b[43mmode\u001b[49m\u001b[43m,\u001b[49m\n\u001b[32m   1883\u001b[39m \u001b[43m    \u001b[49m\u001b[43mencoding\u001b[49m\u001b[43m=\u001b[49m\u001b[38;5;28;43mself\u001b[39;49m\u001b[43m.\u001b[49m\u001b[43moptions\u001b[49m\u001b[43m.\u001b[49m\u001b[43mget\u001b[49m\u001b[43m(\u001b[49m\u001b[33;43m\"\u001b[39;49m\u001b[33;43mencoding\u001b[39;49m\u001b[33;43m\"\u001b[39;49m\u001b[43m,\u001b[49m\u001b[43m \u001b[49m\u001b[38;5;28;43;01mNone\u001b[39;49;00m\u001b[43m)\u001b[49m\u001b[43m,\u001b[49m\n\u001b[32m   1884\u001b[39m \u001b[43m    \u001b[49m\u001b[43mcompression\u001b[49m\u001b[43m=\u001b[49m\u001b[38;5;28;43mself\u001b[39;49m\u001b[43m.\u001b[49m\u001b[43moptions\u001b[49m\u001b[43m.\u001b[49m\u001b[43mget\u001b[49m\u001b[43m(\u001b[49m\u001b[33;43m\"\u001b[39;49m\u001b[33;43mcompression\u001b[39;49m\u001b[33;43m\"\u001b[39;49m\u001b[43m,\u001b[49m\u001b[43m \u001b[49m\u001b[38;5;28;43;01mNone\u001b[39;49;00m\u001b[43m)\u001b[49m\u001b[43m,\u001b[49m\n\u001b[32m   1885\u001b[39m \u001b[43m    \u001b[49m\u001b[43mmemory_map\u001b[49m\u001b[43m=\u001b[49m\u001b[38;5;28;43mself\u001b[39;49m\u001b[43m.\u001b[49m\u001b[43moptions\u001b[49m\u001b[43m.\u001b[49m\u001b[43mget\u001b[49m\u001b[43m(\u001b[49m\u001b[33;43m\"\u001b[39;49m\u001b[33;43mmemory_map\u001b[39;49m\u001b[33;43m\"\u001b[39;49m\u001b[43m,\u001b[49m\u001b[43m \u001b[49m\u001b[38;5;28;43;01mFalse\u001b[39;49;00m\u001b[43m)\u001b[49m\u001b[43m,\u001b[49m\n\u001b[32m   1886\u001b[39m \u001b[43m    \u001b[49m\u001b[43mis_text\u001b[49m\u001b[43m=\u001b[49m\u001b[43mis_text\u001b[49m\u001b[43m,\u001b[49m\n\u001b[32m   1887\u001b[39m \u001b[43m    \u001b[49m\u001b[43merrors\u001b[49m\u001b[43m=\u001b[49m\u001b[38;5;28;43mself\u001b[39;49m\u001b[43m.\u001b[49m\u001b[43moptions\u001b[49m\u001b[43m.\u001b[49m\u001b[43mget\u001b[49m\u001b[43m(\u001b[49m\u001b[33;43m\"\u001b[39;49m\u001b[33;43mencoding_errors\u001b[39;49m\u001b[33;43m\"\u001b[39;49m\u001b[43m,\u001b[49m\u001b[43m \u001b[49m\u001b[33;43m\"\u001b[39;49m\u001b[33;43mstrict\u001b[39;49m\u001b[33;43m\"\u001b[39;49m\u001b[43m)\u001b[49m\u001b[43m,\u001b[49m\n\u001b[32m   1888\u001b[39m \u001b[43m    \u001b[49m\u001b[43mstorage_options\u001b[49m\u001b[43m=\u001b[49m\u001b[38;5;28;43mself\u001b[39;49m\u001b[43m.\u001b[49m\u001b[43moptions\u001b[49m\u001b[43m.\u001b[49m\u001b[43mget\u001b[49m\u001b[43m(\u001b[49m\u001b[33;43m\"\u001b[39;49m\u001b[33;43mstorage_options\u001b[39;49m\u001b[33;43m\"\u001b[39;49m\u001b[43m,\u001b[49m\u001b[43m \u001b[49m\u001b[38;5;28;43;01mNone\u001b[39;49;00m\u001b[43m)\u001b[49m\u001b[43m,\u001b[49m\n\u001b[32m   1889\u001b[39m \u001b[43m\u001b[49m\u001b[43m)\u001b[49m\n\u001b[32m   1890\u001b[39m \u001b[38;5;28;01massert\u001b[39;00m \u001b[38;5;28mself\u001b[39m.handles \u001b[38;5;129;01mis\u001b[39;00m \u001b[38;5;129;01mnot\u001b[39;00m \u001b[38;5;28;01mNone\u001b[39;00m\n\u001b[32m   1891\u001b[39m f = \u001b[38;5;28mself\u001b[39m.handles.handle\n",
      "\u001b[36mFile \u001b[39m\u001b[32m~\\AppData\\Local\\Programs\\Python\\Python313\\Lib\\site-packages\\pandas\\io\\common.py:873\u001b[39m, in \u001b[36mget_handle\u001b[39m\u001b[34m(path_or_buf, mode, encoding, compression, memory_map, is_text, errors, storage_options)\u001b[39m\n\u001b[32m    868\u001b[39m \u001b[38;5;28;01melif\u001b[39;00m \u001b[38;5;28misinstance\u001b[39m(handle, \u001b[38;5;28mstr\u001b[39m):\n\u001b[32m    869\u001b[39m     \u001b[38;5;66;03m# Check whether the filename is to be opened in binary mode.\u001b[39;00m\n\u001b[32m    870\u001b[39m     \u001b[38;5;66;03m# Binary mode does not support 'encoding' and 'newline'.\u001b[39;00m\n\u001b[32m    871\u001b[39m     \u001b[38;5;28;01mif\u001b[39;00m ioargs.encoding \u001b[38;5;129;01mand\u001b[39;00m \u001b[33m\"\u001b[39m\u001b[33mb\u001b[39m\u001b[33m\"\u001b[39m \u001b[38;5;129;01mnot\u001b[39;00m \u001b[38;5;129;01min\u001b[39;00m ioargs.mode:\n\u001b[32m    872\u001b[39m         \u001b[38;5;66;03m# Encoding\u001b[39;00m\n\u001b[32m--> \u001b[39m\u001b[32m873\u001b[39m         handle = \u001b[38;5;28;43mopen\u001b[39;49m\u001b[43m(\u001b[49m\n\u001b[32m    874\u001b[39m \u001b[43m            \u001b[49m\u001b[43mhandle\u001b[49m\u001b[43m,\u001b[49m\n\u001b[32m    875\u001b[39m \u001b[43m            \u001b[49m\u001b[43mioargs\u001b[49m\u001b[43m.\u001b[49m\u001b[43mmode\u001b[49m\u001b[43m,\u001b[49m\n\u001b[32m    876\u001b[39m \u001b[43m            \u001b[49m\u001b[43mencoding\u001b[49m\u001b[43m=\u001b[49m\u001b[43mioargs\u001b[49m\u001b[43m.\u001b[49m\u001b[43mencoding\u001b[49m\u001b[43m,\u001b[49m\n\u001b[32m    877\u001b[39m \u001b[43m            \u001b[49m\u001b[43merrors\u001b[49m\u001b[43m=\u001b[49m\u001b[43merrors\u001b[49m\u001b[43m,\u001b[49m\n\u001b[32m    878\u001b[39m \u001b[43m            \u001b[49m\u001b[43mnewline\u001b[49m\u001b[43m=\u001b[49m\u001b[33;43m\"\u001b[39;49m\u001b[33;43m\"\u001b[39;49m\u001b[43m,\u001b[49m\n\u001b[32m    879\u001b[39m \u001b[43m        \u001b[49m\u001b[43m)\u001b[49m\n\u001b[32m    880\u001b[39m     \u001b[38;5;28;01melse\u001b[39;00m:\n\u001b[32m    881\u001b[39m         \u001b[38;5;66;03m# Binary mode\u001b[39;00m\n\u001b[32m    882\u001b[39m         handle = \u001b[38;5;28mopen\u001b[39m(handle, ioargs.mode)\n",
      "\u001b[31mFileNotFoundError\u001b[39m: [Errno 2] No such file or directory: 'C:\\\\Users\\\\Lloyd\\\\OneDrive\\\\Documents\\\\art.csv'"
     ]
    }
   ],
   "source": [
    "fileRead = pd.read_csv(r\"C:\\Users\\Lloyd\\OneDrive\\Documents\\art.csv\")"
   ]
  },
  {
   "cell_type": "code",
   "execution_count": 34,
   "id": "3ff33588-cb61-44b6-882c-80b00453faf8",
   "metadata": {},
   "outputs": [
    {
     "ename": "NameError",
     "evalue": "name 'file_data' is not defined",
     "output_type": "error",
     "traceback": [
      "\u001b[31m---------------------------------------------------------------------------\u001b[39m",
      "\u001b[31mNameError\u001b[39m                                 Traceback (most recent call last)",
      "\u001b[36mCell\u001b[39m\u001b[36m \u001b[39m\u001b[32mIn[34]\u001b[39m\u001b[32m, line 3\u001b[39m\n\u001b[32m      1\u001b[39m \u001b[38;5;28;01mfrom\u001b[39;00m\u001b[38;5;250m \u001b[39m\u001b[34;01mio\u001b[39;00m\u001b[38;5;250m \u001b[39m\u001b[38;5;28;01mimport\u001b[39;00m StringIO\n\u001b[32m----> \u001b[39m\u001b[32m3\u001b[39m df = pd.read_csv(StringIO(\u001b[43mfile_data\u001b[49m))\n\u001b[32m      4\u001b[39m \u001b[38;5;28mprint\u001b[39m(df.head())\n",
      "\u001b[31mNameError\u001b[39m: name 'file_data' is not defined"
     ]
    }
   ],
   "source": [
    "from io import StringIO\n",
    "\n",
    "df = pd.read_csv(StringIO(file_data))\n",
    "print(df.head())"
   ]
  },
  {
   "cell_type": "code",
   "execution_count": 35,
   "id": "8f1dd1b9-1871-4ffb-a154-7dd1acb9cab5",
   "metadata": {},
   "outputs": [
    {
     "ename": "SyntaxError",
     "evalue": "unexpected character after line continuation character (2320100966.py, line 1)",
     "output_type": "error",
     "traceback": [
      "  \u001b[36mCell\u001b[39m\u001b[36m \u001b[39m\u001b[32mIn[35]\u001b[39m\u001b[32m, line 1\u001b[39m\n\u001b[31m    \u001b[39m\u001b[31mC:\\Users\\elijah\\OneDrive\\Documents\\\u001b[39m\n       ^\n\u001b[31mSyntaxError\u001b[39m\u001b[31m:\u001b[39m unexpected character after line continuation character\n"
     ]
    }
   ],
   "source": [
    "C:\\Users\\elijah\\OneDrive\\Documents\\"
   ]
  },
  {
   "cell_type": "code",
   "execution_count": 36,
   "id": "c39e0e99-96a7-4163-82b2-18db1bf47346",
   "metadata": {},
   "outputs": [],
   "source": [
    "from io import StringIO\n",
    "\n",
    "def main():\n",
    "    input = StringIO('1\\n2 3\\n4 5\\n')\n",
    "    T = int(input.readline())\n",
    "    for i in range(T):\n",
    "        a, b = map(int, input.readline().split())\n",
    "        print(f'Case #{i+1}: {a+b}')"
   ]
  },
  {
   "cell_type": "code",
   "execution_count": 37,
   "id": "4f41d1d4-2c9e-4303-aee9-89c74d25c3dd",
   "metadata": {},
   "outputs": [
    {
     "ename": "NameError",
     "evalue": "name 'T' is not defined",
     "output_type": "error",
     "traceback": [
      "\u001b[31m---------------------------------------------------------------------------\u001b[39m",
      "\u001b[31mNameError\u001b[39m                                 Traceback (most recent call last)",
      "\u001b[36mCell\u001b[39m\u001b[36m \u001b[39m\u001b[32mIn[37]\u001b[39m\u001b[32m, line 1\u001b[39m\n\u001b[32m----> \u001b[39m\u001b[32m1\u001b[39m \u001b[38;5;28;01mfor\u001b[39;00m a \u001b[38;5;129;01min\u001b[39;00m \u001b[38;5;28mrange\u001b[39m(\u001b[43mT\u001b[49m):\n\u001b[32m      2\u001b[39m     a, b = \u001b[38;5;28mmap\u001b[39m(\u001b[38;5;28mint\u001b[39m, \u001b[38;5;28minput\u001b[39m.readline().split())\n\u001b[32m      3\u001b[39m     \u001b[38;5;28mprint\u001b[39m(\u001b[33mf\u001b[39m\u001b[33m'\u001b[39m\u001b[33mCase #\u001b[39m\u001b[38;5;132;01m{\u001b[39;00ma+\u001b[32m1\u001b[39m\u001b[38;5;132;01m}\u001b[39;00m\u001b[33m: \u001b[39m\u001b[38;5;132;01m{\u001b[39;00ma+b\u001b[38;5;132;01m}\u001b[39;00m\u001b[33m'\u001b[39m)\n",
      "\u001b[31mNameError\u001b[39m: name 'T' is not defined"
     ]
    }
   ],
   "source": [
    "for a in range(T):\n",
    "    a, b = map(int, input.readline().split())\n",
    "    print(f'Case #{a+1}: {a+b}')"
   ]
  },
  {
   "cell_type": "code",
   "execution_count": 38,
   "id": "4cb4c992-5d9b-419a-bb2c-d2a29aff9fad",
   "metadata": {},
   "outputs": [
    {
     "name": "stderr",
     "output_type": "stream",
     "text": [
      "'conda' is not recognized as an internal or external command,\n",
      "operable program or batch file.\n"
     ]
    }
   ],
   "source": [
    "!conda install -c conda-forge scikit-learn"
   ]
  },
  {
   "cell_type": "code",
   "execution_count": 39,
   "id": "2f73ac5b-f3e5-43a3-857e-5594756a9dfa",
   "metadata": {},
   "outputs": [
    {
     "name": "stdout",
     "output_type": "stream",
     "text": [
      "Collecting scikit-learn\n",
      "  Downloading scikit_learn-1.7.2-cp313-cp313-win_amd64.whl.metadata (11 kB)\n",
      "Requirement already satisfied: numpy>=1.22.0 in c:\\users\\ashwi\\appdata\\local\\programs\\python\\python313\\lib\\site-packages (from scikit-learn) (2.3.3)\n",
      "Collecting scipy>=1.8.0 (from scikit-learn)\n",
      "  Downloading scipy-1.16.2-cp313-cp313-win_amd64.whl.metadata (60 kB)\n",
      "Collecting joblib>=1.2.0 (from scikit-learn)\n",
      "  Downloading joblib-1.5.2-py3-none-any.whl.metadata (5.6 kB)\n",
      "Collecting threadpoolctl>=3.1.0 (from scikit-learn)\n",
      "  Downloading threadpoolctl-3.6.0-py3-none-any.whl.metadata (13 kB)\n",
      "Downloading scikit_learn-1.7.2-cp313-cp313-win_amd64.whl (8.7 MB)\n",
      "   ---------------------------------------- 0.0/8.7 MB ? eta -:--:--\n",
      "   ---------- ----------------------------- 2.4/8.7 MB 12.5 MB/s eta 0:00:01\n",
      "   -------------------------- ------------- 5.8/8.7 MB 13.9 MB/s eta 0:00:01\n",
      "   ---------------------------------------  8.7/8.7 MB 13.9 MB/s eta 0:00:01\n",
      "   ---------------------------------------- 8.7/8.7 MB 13.5 MB/s  0:00:00\n",
      "Downloading joblib-1.5.2-py3-none-any.whl (308 kB)\n",
      "Downloading scipy-1.16.2-cp313-cp313-win_amd64.whl (38.5 MB)\n",
      "   ---------------------------------------- 0.0/38.5 MB ? eta -:--:--\n",
      "   --- ------------------------------------ 3.1/38.5 MB 14.7 MB/s eta 0:00:03\n",
      "   ------ --------------------------------- 6.0/38.5 MB 14.7 MB/s eta 0:00:03\n",
      "   --------- ------------------------------ 9.4/38.5 MB 14.9 MB/s eta 0:00:02\n",
      "   ------------ --------------------------- 12.3/38.5 MB 14.8 MB/s eta 0:00:02\n",
      "   --------------- ------------------------ 14.9/38.5 MB 14.4 MB/s eta 0:00:02\n",
      "   ------------------ --------------------- 17.8/38.5 MB 14.2 MB/s eta 0:00:02\n",
      "   -------------------- ------------------- 20.2/38.5 MB 13.9 MB/s eta 0:00:02\n",
      "   ----------------------- ---------------- 23.1/38.5 MB 13.7 MB/s eta 0:00:02\n",
      "   -------------------------- ------------- 25.7/38.5 MB 13.7 MB/s eta 0:00:01\n",
      "   ----------------------------- ---------- 28.3/38.5 MB 13.6 MB/s eta 0:00:01\n",
      "   -------------------------------- ------- 30.9/38.5 MB 13.6 MB/s eta 0:00:01\n",
      "   ---------------------------------- ----- 33.6/38.5 MB 13.5 MB/s eta 0:00:01\n",
      "   ------------------------------------- -- 36.2/38.5 MB 13.4 MB/s eta 0:00:01\n",
      "   ---------------------------------------  38.3/38.5 MB 13.4 MB/s eta 0:00:01\n",
      "   ---------------------------------------- 38.5/38.5 MB 13.1 MB/s  0:00:02\n",
      "Downloading threadpoolctl-3.6.0-py3-none-any.whl (18 kB)\n",
      "Installing collected packages: threadpoolctl, scipy, joblib, scikit-learn\n",
      "\n",
      "   ---------- ----------------------------- 1/4 [scipy]\n",
      "   ---------- ----------------------------- 1/4 [scipy]\n",
      "   ---------- ----------------------------- 1/4 [scipy]\n",
      "   ---------- ----------------------------- 1/4 [scipy]\n",
      "   ---------- ----------------------------- 1/4 [scipy]\n",
      "   ---------- ----------------------------- 1/4 [scipy]\n",
      "   ---------- ----------------------------- 1/4 [scipy]\n",
      "   ---------- ----------------------------- 1/4 [scipy]\n",
      "   ---------- ----------------------------- 1/4 [scipy]\n",
      "   ---------- ----------------------------- 1/4 [scipy]\n",
      "   ---------- ----------------------------- 1/4 [scipy]\n",
      "   ---------- ----------------------------- 1/4 [scipy]\n",
      "   ---------- ----------------------------- 1/4 [scipy]\n",
      "   ---------- ----------------------------- 1/4 [scipy]\n",
      "   ---------- ----------------------------- 1/4 [scipy]\n",
      "   ---------- ----------------------------- 1/4 [scipy]\n",
      "   ---------- ----------------------------- 1/4 [scipy]\n",
      "   ---------- ----------------------------- 1/4 [scipy]\n",
      "   ---------- ----------------------------- 1/4 [scipy]\n",
      "   ---------- ----------------------------- 1/4 [scipy]\n",
      "   ---------- ----------------------------- 1/4 [scipy]\n",
      "   ---------- ----------------------------- 1/4 [scipy]\n",
      "   ---------- ----------------------------- 1/4 [scipy]\n",
      "   ---------- ----------------------------- 1/4 [scipy]\n",
      "   ---------- ----------------------------- 1/4 [scipy]\n",
      "   ---------- ----------------------------- 1/4 [scipy]\n",
      "   ---------- ----------------------------- 1/4 [scipy]\n",
      "   ---------- ----------------------------- 1/4 [scipy]\n",
      "   ---------- ----------------------------- 1/4 [scipy]\n",
      "   ---------- ----------------------------- 1/4 [scipy]\n",
      "   ---------- ----------------------------- 1/4 [scipy]\n",
      "   -------------------- ------------------- 2/4 [joblib]\n",
      "   ------------------------------ --------- 3/4 [scikit-learn]\n",
      "   ------------------------------ --------- 3/4 [scikit-learn]\n",
      "   ------------------------------ --------- 3/4 [scikit-learn]\n",
      "   ------------------------------ --------- 3/4 [scikit-learn]\n",
      "   ------------------------------ --------- 3/4 [scikit-learn]\n",
      "   ------------------------------ --------- 3/4 [scikit-learn]\n",
      "   ------------------------------ --------- 3/4 [scikit-learn]\n",
      "   ------------------------------ --------- 3/4 [scikit-learn]\n",
      "   ------------------------------ --------- 3/4 [scikit-learn]\n",
      "   ------------------------------ --------- 3/4 [scikit-learn]\n",
      "   ------------------------------ --------- 3/4 [scikit-learn]\n",
      "   ------------------------------ --------- 3/4 [scikit-learn]\n",
      "   ------------------------------ --------- 3/4 [scikit-learn]\n",
      "   ------------------------------ --------- 3/4 [scikit-learn]\n",
      "   ------------------------------ --------- 3/4 [scikit-learn]\n",
      "   ------------------------------ --------- 3/4 [scikit-learn]\n",
      "   ---------------------------------------- 4/4 [scikit-learn]\n",
      "\n",
      "Successfully installed joblib-1.5.2 scikit-learn-1.7.2 scipy-1.16.2 threadpoolctl-3.6.0\n"
     ]
    }
   ],
   "source": [
    "!pip install scikit-learn"
   ]
  },
  {
   "cell_type": "code",
   "execution_count": 40,
   "id": "9c304c9d-7f8a-493d-9c92-1f1c3cbcc97c",
   "metadata": {},
   "outputs": [
    {
     "name": "stdout",
     "output_type": "stream",
     "text": [
      "x = 6, y = 13.3\n",
      "x = 7, y = 15.5\n",
      "x = 8, y = 17.7\n",
      "x = 9, y = 19.9\n",
      "x = 10, y = 22.099999999999998\n"
     ]
    }
   ],
   "source": [
    "import numpy as np\n",
    "from sklearn.linear_model import LinearRegression\n",
    "\n",
    "x = np.array([[1], [2], [3], [4], [5]])\n",
    "y = np.array([2.3, 4.5, 6.7, 8.9, 11.1])\n",
    "\n",
    "model = LinearRegression()\n",
    "model.fit(x, y)\n",
    "\n",
    "for i in range(6, 11):\n",
    "    print(f\"x = {i}, y = {model.predict([[i]]).tolist()[0]}\")"
   ]
  },
  {
   "cell_type": "code",
   "execution_count": 41,
   "id": "27acfc33-c774-4fb7-bcc4-b7cc5a1c2288",
   "metadata": {},
   "outputs": [
    {
     "ename": "ModuleNotFoundError",
     "evalue": "No module named 'matplotlib'",
     "output_type": "error",
     "traceback": [
      "\u001b[31m---------------------------------------------------------------------------\u001b[39m",
      "\u001b[31mModuleNotFoundError\u001b[39m                       Traceback (most recent call last)",
      "\u001b[36mCell\u001b[39m\u001b[36m \u001b[39m\u001b[32mIn[41]\u001b[39m\u001b[32m, line 1\u001b[39m\n\u001b[32m----> \u001b[39m\u001b[32m1\u001b[39m \u001b[38;5;28;01mimport\u001b[39;00m\u001b[38;5;250m \u001b[39m\u001b[34;01mmatplotlib\u001b[39;00m\u001b[34;01m.\u001b[39;00m\u001b[34;01mpyplot\u001b[39;00m\u001b[38;5;250m \u001b[39m\u001b[38;5;28;01mas\u001b[39;00m\u001b[38;5;250m \u001b[39m\u001b[34;01mplt\u001b[39;00m\n\u001b[32m      3\u001b[39m x_test = np.array([[i] \u001b[38;5;28;01mfor\u001b[39;00m i \u001b[38;5;129;01min\u001b[39;00m \u001b[38;5;28mrange\u001b[39m(\u001b[32m1\u001b[39m, \u001b[32m11\u001b[39m)])\n\u001b[32m      4\u001b[39m y_pred = model.predict(x_test)\n",
      "\u001b[31mModuleNotFoundError\u001b[39m: No module named 'matplotlib'"
     ]
    }
   ],
   "source": [
    "import matplotlib.pyplot as plt\n",
    "\n",
    "x_test = np.array([[i] for i in range(1, 11)])\n",
    "y_pred = model.predict(x_test)\n",
    "\n",
    "plt.scatter(x, y, color='blue', label='Original Data')\n",
    "plt.plot(x_test, y_pred, color='red', label='Regression Line')\n",
    "plt.xlabel(\"x\")\n",
    "plt.ylabel(\"y\")\n",
    "plt.legend()\n",
    "plt.title(\"Linear Regression Prediction\")\n",
    "plt.show()"
   ]
  },
  {
   "cell_type": "code",
   "execution_count": 42,
   "id": "3b958ed7-da82-40ba-ba8f-94e6750609d7",
   "metadata": {},
   "outputs": [
    {
     "name": "stdout",
     "output_type": "stream",
     "text": [
      "Collecting matplotlib\n",
      "  Downloading matplotlib-3.10.7-cp313-cp313-win_amd64.whl.metadata (11 kB)\n",
      "Collecting contourpy>=1.0.1 (from matplotlib)\n",
      "  Downloading contourpy-1.3.3-cp313-cp313-win_amd64.whl.metadata (5.5 kB)\n",
      "Collecting cycler>=0.10 (from matplotlib)\n",
      "  Downloading cycler-0.12.1-py3-none-any.whl.metadata (3.8 kB)\n",
      "Collecting fonttools>=4.22.0 (from matplotlib)\n",
      "  Downloading fonttools-4.60.1-cp313-cp313-win_amd64.whl.metadata (114 kB)\n",
      "Collecting kiwisolver>=1.3.1 (from matplotlib)\n",
      "  Downloading kiwisolver-1.4.9-cp313-cp313-win_amd64.whl.metadata (6.4 kB)\n",
      "Requirement already satisfied: numpy>=1.23 in c:\\users\\ashwi\\appdata\\local\\programs\\python\\python313\\lib\\site-packages (from matplotlib) (2.3.3)\n",
      "Requirement already satisfied: packaging>=20.0 in c:\\users\\ashwi\\appdata\\local\\programs\\python\\python313\\lib\\site-packages (from matplotlib) (25.0)\n",
      "Collecting pillow>=8 (from matplotlib)\n",
      "  Downloading pillow-11.3.0-cp313-cp313-win_amd64.whl.metadata (9.2 kB)\n",
      "Collecting pyparsing>=3 (from matplotlib)\n",
      "  Downloading pyparsing-3.2.5-py3-none-any.whl.metadata (5.0 kB)\n",
      "Requirement already satisfied: python-dateutil>=2.7 in c:\\users\\ashwi\\appdata\\local\\programs\\python\\python313\\lib\\site-packages (from matplotlib) (2.9.0.post0)\n",
      "Requirement already satisfied: six>=1.5 in c:\\users\\ashwi\\appdata\\local\\programs\\python\\python313\\lib\\site-packages (from python-dateutil>=2.7->matplotlib) (1.17.0)\n",
      "Downloading matplotlib-3.10.7-cp313-cp313-win_amd64.whl (8.1 MB)\n",
      "   ---------------------------------------- 0.0/8.1 MB ? eta -:--:--\n",
      "   --------- ------------------------------ 1.8/8.1 MB 9.9 MB/s eta 0:00:01\n",
      "   -------------------- ------------------- 4.2/8.1 MB 10.1 MB/s eta 0:00:01\n",
      "   --------------------------------- ------ 6.8/8.1 MB 10.8 MB/s eta 0:00:01\n",
      "   ---------------------------------------- 8.1/8.1 MB 10.6 MB/s  0:00:00\n",
      "Downloading contourpy-1.3.3-cp313-cp313-win_amd64.whl (226 kB)\n",
      "Downloading cycler-0.12.1-py3-none-any.whl (8.3 kB)\n",
      "Downloading fonttools-4.60.1-cp313-cp313-win_amd64.whl (2.3 MB)\n",
      "   ---------------------------------------- 0.0/2.3 MB ? eta -:--:--\n",
      "   ------------------------------------- -- 2.1/2.3 MB 10.3 MB/s eta 0:00:01\n",
      "   ---------------------------------------- 2.3/2.3 MB 9.9 MB/s  0:00:00\n",
      "Downloading kiwisolver-1.4.9-cp313-cp313-win_amd64.whl (73 kB)\n",
      "Downloading pillow-11.3.0-cp313-cp313-win_amd64.whl (7.0 MB)\n",
      "   ---------------------------------------- 0.0/7.0 MB ? eta -:--:--\n",
      "   ------------- -------------------------- 2.4/7.0 MB 11.7 MB/s eta 0:00:01\n",
      "   --------------------------- ------------ 4.7/7.0 MB 11.6 MB/s eta 0:00:01\n",
      "   ---------------------------------------- 7.0/7.0 MB 11.2 MB/s  0:00:00\n",
      "Downloading pyparsing-3.2.5-py3-none-any.whl (113 kB)\n",
      "Installing collected packages: pyparsing, pillow, kiwisolver, fonttools, cycler, contourpy, matplotlib\n",
      "\n",
      "   ----- ---------------------------------- 1/7 [pillow]\n",
      "   ----- ---------------------------------- 1/7 [pillow]\n",
      "   ----- ---------------------------------- 1/7 [pillow]\n",
      "   ----------------- ---------------------- 3/7 [fonttools]\n",
      "   ----------------- ---------------------- 3/7 [fonttools]\n",
      "   ----------------- ---------------------- 3/7 [fonttools]\n",
      "   ----------------- ---------------------- 3/7 [fonttools]\n",
      "   ----------------- ---------------------- 3/7 [fonttools]\n",
      "   ----------------- ---------------------- 3/7 [fonttools]\n",
      "   ----------------- ---------------------- 3/7 [fonttools]\n",
      "   ---------------------------------- ----- 6/7 [matplotlib]\n",
      "   ---------------------------------- ----- 6/7 [matplotlib]\n",
      "   ---------------------------------- ----- 6/7 [matplotlib]\n",
      "   ---------------------------------- ----- 6/7 [matplotlib]\n",
      "   ---------------------------------- ----- 6/7 [matplotlib]\n",
      "   ---------------------------------- ----- 6/7 [matplotlib]\n",
      "   ---------------------------------- ----- 6/7 [matplotlib]\n",
      "   ---------------------------------- ----- 6/7 [matplotlib]\n",
      "   ---------------------------------- ----- 6/7 [matplotlib]\n",
      "   ---------------------------------- ----- 6/7 [matplotlib]\n",
      "   ---------------------------------- ----- 6/7 [matplotlib]\n",
      "   ---------------------------------- ----- 6/7 [matplotlib]\n",
      "   ---------------------------------------- 7/7 [matplotlib]\n",
      "\n",
      "Successfully installed contourpy-1.3.3 cycler-0.12.1 fonttools-4.60.1 kiwisolver-1.4.9 matplotlib-3.10.7 pillow-11.3.0 pyparsing-3.2.5\n"
     ]
    }
   ],
   "source": [
    "!pip install matplotlib"
   ]
  },
  {
   "cell_type": "code",
   "execution_count": 43,
   "id": "7366b69a-2807-49f3-84d3-2eca366d75bb",
   "metadata": {},
   "outputs": [],
   "source": [
    "import matplotlib.pyplot as plt"
   ]
  },
  {
   "cell_type": "code",
   "execution_count": 44,
   "id": "44f51b3e-7bb3-4f77-8235-7a3f41850685",
   "metadata": {},
   "outputs": [
    {
     "name": "stdout",
     "output_type": "stream",
     "text": [
      "Requirement already satisfied: matplotlib in c:\\users\\ashwi\\appdata\\local\\programs\\python\\python313\\lib\\site-packages (3.10.7)\n",
      "Requirement already satisfied: numpy in c:\\users\\ashwi\\appdata\\local\\programs\\python\\python313\\lib\\site-packages (2.3.3)\n",
      "Requirement already satisfied: contourpy>=1.0.1 in c:\\users\\ashwi\\appdata\\local\\programs\\python\\python313\\lib\\site-packages (from matplotlib) (1.3.3)\n",
      "Requirement already satisfied: cycler>=0.10 in c:\\users\\ashwi\\appdata\\local\\programs\\python\\python313\\lib\\site-packages (from matplotlib) (0.12.1)\n",
      "Requirement already satisfied: fonttools>=4.22.0 in c:\\users\\ashwi\\appdata\\local\\programs\\python\\python313\\lib\\site-packages (from matplotlib) (4.60.1)\n",
      "Requirement already satisfied: kiwisolver>=1.3.1 in c:\\users\\ashwi\\appdata\\local\\programs\\python\\python313\\lib\\site-packages (from matplotlib) (1.4.9)\n",
      "Requirement already satisfied: packaging>=20.0 in c:\\users\\ashwi\\appdata\\local\\programs\\python\\python313\\lib\\site-packages (from matplotlib) (25.0)\n",
      "Requirement already satisfied: pillow>=8 in c:\\users\\ashwi\\appdata\\local\\programs\\python\\python313\\lib\\site-packages (from matplotlib) (11.3.0)\n",
      "Requirement already satisfied: pyparsing>=3 in c:\\users\\ashwi\\appdata\\local\\programs\\python\\python313\\lib\\site-packages (from matplotlib) (3.2.5)\n",
      "Requirement already satisfied: python-dateutil>=2.7 in c:\\users\\ashwi\\appdata\\local\\programs\\python\\python313\\lib\\site-packages (from matplotlib) (2.9.0.post0)\n",
      "Requirement already satisfied: six>=1.5 in c:\\users\\ashwi\\appdata\\local\\programs\\python\\python313\\lib\\site-packages (from python-dateutil>=2.7->matplotlib) (1.17.0)\n"
     ]
    }
   ],
   "source": [
    "!pip install matplotlib numpy"
   ]
  },
  {
   "cell_type": "code",
   "execution_count": 45,
   "id": "5eb7d737-70fe-44a0-963c-fec2a724fec5",
   "metadata": {},
   "outputs": [],
   "source": [
    "import numpy as np\n",
    "import matplotlib.pyplot as plt"
   ]
  },
  {
   "cell_type": "code",
   "execution_count": 1,
   "id": "703f2359-7dec-462f-a824-a5fac59b2032",
   "metadata": {},
   "outputs": [],
   "source": [
    "import numpy as np\n",
    "import pandas as pd\n",
    "import matplotlib.pyplot as plt\n",
    "from sklearn.linear_model import LinearRegression"
   ]
  },
  {
   "cell_type": "code",
   "execution_count": 2,
   "id": "17e5a1d0-3e50-4480-9dc2-df2c5e8abe17",
   "metadata": {},
   "outputs": [
    {
     "ename": "FileNotFoundError",
     "evalue": "[Errno 2] No such file or directory: 'your_file.csv'",
     "output_type": "error",
     "traceback": [
      "\u001b[31m---------------------------------------------------------------------------\u001b[39m",
      "\u001b[31mFileNotFoundError\u001b[39m                         Traceback (most recent call last)",
      "\u001b[36mCell\u001b[39m\u001b[36m \u001b[39m\u001b[32mIn[2]\u001b[39m\u001b[32m, line 1\u001b[39m\n\u001b[32m----> \u001b[39m\u001b[32m1\u001b[39m df = \u001b[43mpd\u001b[49m\u001b[43m.\u001b[49m\u001b[43mread_csv\u001b[49m\u001b[43m(\u001b[49m\u001b[33;43m\"\u001b[39;49m\u001b[33;43myour_file.csv\u001b[39;49m\u001b[33;43m\"\u001b[39;49m\u001b[43m)\u001b[49m  \u001b[38;5;66;03m# Replace with actual filename\u001b[39;00m\n",
      "\u001b[36mFile \u001b[39m\u001b[32m~\\AppData\\Local\\Programs\\Python\\Python313\\Lib\\site-packages\\pandas\\io\\parsers\\readers.py:1026\u001b[39m, in \u001b[36mread_csv\u001b[39m\u001b[34m(filepath_or_buffer, sep, delimiter, header, names, index_col, usecols, dtype, engine, converters, true_values, false_values, skipinitialspace, skiprows, skipfooter, nrows, na_values, keep_default_na, na_filter, verbose, skip_blank_lines, parse_dates, infer_datetime_format, keep_date_col, date_parser, date_format, dayfirst, cache_dates, iterator, chunksize, compression, thousands, decimal, lineterminator, quotechar, quoting, doublequote, escapechar, comment, encoding, encoding_errors, dialect, on_bad_lines, delim_whitespace, low_memory, memory_map, float_precision, storage_options, dtype_backend)\u001b[39m\n\u001b[32m   1013\u001b[39m kwds_defaults = _refine_defaults_read(\n\u001b[32m   1014\u001b[39m     dialect,\n\u001b[32m   1015\u001b[39m     delimiter,\n\u001b[32m   (...)\u001b[39m\u001b[32m   1022\u001b[39m     dtype_backend=dtype_backend,\n\u001b[32m   1023\u001b[39m )\n\u001b[32m   1024\u001b[39m kwds.update(kwds_defaults)\n\u001b[32m-> \u001b[39m\u001b[32m1026\u001b[39m \u001b[38;5;28;01mreturn\u001b[39;00m \u001b[43m_read\u001b[49m\u001b[43m(\u001b[49m\u001b[43mfilepath_or_buffer\u001b[49m\u001b[43m,\u001b[49m\u001b[43m \u001b[49m\u001b[43mkwds\u001b[49m\u001b[43m)\u001b[49m\n",
      "\u001b[36mFile \u001b[39m\u001b[32m~\\AppData\\Local\\Programs\\Python\\Python313\\Lib\\site-packages\\pandas\\io\\parsers\\readers.py:620\u001b[39m, in \u001b[36m_read\u001b[39m\u001b[34m(filepath_or_buffer, kwds)\u001b[39m\n\u001b[32m    617\u001b[39m _validate_names(kwds.get(\u001b[33m\"\u001b[39m\u001b[33mnames\u001b[39m\u001b[33m\"\u001b[39m, \u001b[38;5;28;01mNone\u001b[39;00m))\n\u001b[32m    619\u001b[39m \u001b[38;5;66;03m# Create the parser.\u001b[39;00m\n\u001b[32m--> \u001b[39m\u001b[32m620\u001b[39m parser = \u001b[43mTextFileReader\u001b[49m\u001b[43m(\u001b[49m\u001b[43mfilepath_or_buffer\u001b[49m\u001b[43m,\u001b[49m\u001b[43m \u001b[49m\u001b[43m*\u001b[49m\u001b[43m*\u001b[49m\u001b[43mkwds\u001b[49m\u001b[43m)\u001b[49m\n\u001b[32m    622\u001b[39m \u001b[38;5;28;01mif\u001b[39;00m chunksize \u001b[38;5;129;01mor\u001b[39;00m iterator:\n\u001b[32m    623\u001b[39m     \u001b[38;5;28;01mreturn\u001b[39;00m parser\n",
      "\u001b[36mFile \u001b[39m\u001b[32m~\\AppData\\Local\\Programs\\Python\\Python313\\Lib\\site-packages\\pandas\\io\\parsers\\readers.py:1620\u001b[39m, in \u001b[36mTextFileReader.__init__\u001b[39m\u001b[34m(self, f, engine, **kwds)\u001b[39m\n\u001b[32m   1617\u001b[39m     \u001b[38;5;28mself\u001b[39m.options[\u001b[33m\"\u001b[39m\u001b[33mhas_index_names\u001b[39m\u001b[33m\"\u001b[39m] = kwds[\u001b[33m\"\u001b[39m\u001b[33mhas_index_names\u001b[39m\u001b[33m\"\u001b[39m]\n\u001b[32m   1619\u001b[39m \u001b[38;5;28mself\u001b[39m.handles: IOHandles | \u001b[38;5;28;01mNone\u001b[39;00m = \u001b[38;5;28;01mNone\u001b[39;00m\n\u001b[32m-> \u001b[39m\u001b[32m1620\u001b[39m \u001b[38;5;28mself\u001b[39m._engine = \u001b[38;5;28;43mself\u001b[39;49m\u001b[43m.\u001b[49m\u001b[43m_make_engine\u001b[49m\u001b[43m(\u001b[49m\u001b[43mf\u001b[49m\u001b[43m,\u001b[49m\u001b[43m \u001b[49m\u001b[38;5;28;43mself\u001b[39;49m\u001b[43m.\u001b[49m\u001b[43mengine\u001b[49m\u001b[43m)\u001b[49m\n",
      "\u001b[36mFile \u001b[39m\u001b[32m~\\AppData\\Local\\Programs\\Python\\Python313\\Lib\\site-packages\\pandas\\io\\parsers\\readers.py:1880\u001b[39m, in \u001b[36mTextFileReader._make_engine\u001b[39m\u001b[34m(self, f, engine)\u001b[39m\n\u001b[32m   1878\u001b[39m     \u001b[38;5;28;01mif\u001b[39;00m \u001b[33m\"\u001b[39m\u001b[33mb\u001b[39m\u001b[33m\"\u001b[39m \u001b[38;5;129;01mnot\u001b[39;00m \u001b[38;5;129;01min\u001b[39;00m mode:\n\u001b[32m   1879\u001b[39m         mode += \u001b[33m\"\u001b[39m\u001b[33mb\u001b[39m\u001b[33m\"\u001b[39m\n\u001b[32m-> \u001b[39m\u001b[32m1880\u001b[39m \u001b[38;5;28mself\u001b[39m.handles = \u001b[43mget_handle\u001b[49m\u001b[43m(\u001b[49m\n\u001b[32m   1881\u001b[39m \u001b[43m    \u001b[49m\u001b[43mf\u001b[49m\u001b[43m,\u001b[49m\n\u001b[32m   1882\u001b[39m \u001b[43m    \u001b[49m\u001b[43mmode\u001b[49m\u001b[43m,\u001b[49m\n\u001b[32m   1883\u001b[39m \u001b[43m    \u001b[49m\u001b[43mencoding\u001b[49m\u001b[43m=\u001b[49m\u001b[38;5;28;43mself\u001b[39;49m\u001b[43m.\u001b[49m\u001b[43moptions\u001b[49m\u001b[43m.\u001b[49m\u001b[43mget\u001b[49m\u001b[43m(\u001b[49m\u001b[33;43m\"\u001b[39;49m\u001b[33;43mencoding\u001b[39;49m\u001b[33;43m\"\u001b[39;49m\u001b[43m,\u001b[49m\u001b[43m \u001b[49m\u001b[38;5;28;43;01mNone\u001b[39;49;00m\u001b[43m)\u001b[49m\u001b[43m,\u001b[49m\n\u001b[32m   1884\u001b[39m \u001b[43m    \u001b[49m\u001b[43mcompression\u001b[49m\u001b[43m=\u001b[49m\u001b[38;5;28;43mself\u001b[39;49m\u001b[43m.\u001b[49m\u001b[43moptions\u001b[49m\u001b[43m.\u001b[49m\u001b[43mget\u001b[49m\u001b[43m(\u001b[49m\u001b[33;43m\"\u001b[39;49m\u001b[33;43mcompression\u001b[39;49m\u001b[33;43m\"\u001b[39;49m\u001b[43m,\u001b[49m\u001b[43m \u001b[49m\u001b[38;5;28;43;01mNone\u001b[39;49;00m\u001b[43m)\u001b[49m\u001b[43m,\u001b[49m\n\u001b[32m   1885\u001b[39m \u001b[43m    \u001b[49m\u001b[43mmemory_map\u001b[49m\u001b[43m=\u001b[49m\u001b[38;5;28;43mself\u001b[39;49m\u001b[43m.\u001b[49m\u001b[43moptions\u001b[49m\u001b[43m.\u001b[49m\u001b[43mget\u001b[49m\u001b[43m(\u001b[49m\u001b[33;43m\"\u001b[39;49m\u001b[33;43mmemory_map\u001b[39;49m\u001b[33;43m\"\u001b[39;49m\u001b[43m,\u001b[49m\u001b[43m \u001b[49m\u001b[38;5;28;43;01mFalse\u001b[39;49;00m\u001b[43m)\u001b[49m\u001b[43m,\u001b[49m\n\u001b[32m   1886\u001b[39m \u001b[43m    \u001b[49m\u001b[43mis_text\u001b[49m\u001b[43m=\u001b[49m\u001b[43mis_text\u001b[49m\u001b[43m,\u001b[49m\n\u001b[32m   1887\u001b[39m \u001b[43m    \u001b[49m\u001b[43merrors\u001b[49m\u001b[43m=\u001b[49m\u001b[38;5;28;43mself\u001b[39;49m\u001b[43m.\u001b[49m\u001b[43moptions\u001b[49m\u001b[43m.\u001b[49m\u001b[43mget\u001b[49m\u001b[43m(\u001b[49m\u001b[33;43m\"\u001b[39;49m\u001b[33;43mencoding_errors\u001b[39;49m\u001b[33;43m\"\u001b[39;49m\u001b[43m,\u001b[49m\u001b[43m \u001b[49m\u001b[33;43m\"\u001b[39;49m\u001b[33;43mstrict\u001b[39;49m\u001b[33;43m\"\u001b[39;49m\u001b[43m)\u001b[49m\u001b[43m,\u001b[49m\n\u001b[32m   1888\u001b[39m \u001b[43m    \u001b[49m\u001b[43mstorage_options\u001b[49m\u001b[43m=\u001b[49m\u001b[38;5;28;43mself\u001b[39;49m\u001b[43m.\u001b[49m\u001b[43moptions\u001b[49m\u001b[43m.\u001b[49m\u001b[43mget\u001b[49m\u001b[43m(\u001b[49m\u001b[33;43m\"\u001b[39;49m\u001b[33;43mstorage_options\u001b[39;49m\u001b[33;43m\"\u001b[39;49m\u001b[43m,\u001b[49m\u001b[43m \u001b[49m\u001b[38;5;28;43;01mNone\u001b[39;49;00m\u001b[43m)\u001b[49m\u001b[43m,\u001b[49m\n\u001b[32m   1889\u001b[39m \u001b[43m\u001b[49m\u001b[43m)\u001b[49m\n\u001b[32m   1890\u001b[39m \u001b[38;5;28;01massert\u001b[39;00m \u001b[38;5;28mself\u001b[39m.handles \u001b[38;5;129;01mis\u001b[39;00m \u001b[38;5;129;01mnot\u001b[39;00m \u001b[38;5;28;01mNone\u001b[39;00m\n\u001b[32m   1891\u001b[39m f = \u001b[38;5;28mself\u001b[39m.handles.handle\n",
      "\u001b[36mFile \u001b[39m\u001b[32m~\\AppData\\Local\\Programs\\Python\\Python313\\Lib\\site-packages\\pandas\\io\\common.py:873\u001b[39m, in \u001b[36mget_handle\u001b[39m\u001b[34m(path_or_buf, mode, encoding, compression, memory_map, is_text, errors, storage_options)\u001b[39m\n\u001b[32m    868\u001b[39m \u001b[38;5;28;01melif\u001b[39;00m \u001b[38;5;28misinstance\u001b[39m(handle, \u001b[38;5;28mstr\u001b[39m):\n\u001b[32m    869\u001b[39m     \u001b[38;5;66;03m# Check whether the filename is to be opened in binary mode.\u001b[39;00m\n\u001b[32m    870\u001b[39m     \u001b[38;5;66;03m# Binary mode does not support 'encoding' and 'newline'.\u001b[39;00m\n\u001b[32m    871\u001b[39m     \u001b[38;5;28;01mif\u001b[39;00m ioargs.encoding \u001b[38;5;129;01mand\u001b[39;00m \u001b[33m\"\u001b[39m\u001b[33mb\u001b[39m\u001b[33m\"\u001b[39m \u001b[38;5;129;01mnot\u001b[39;00m \u001b[38;5;129;01min\u001b[39;00m ioargs.mode:\n\u001b[32m    872\u001b[39m         \u001b[38;5;66;03m# Encoding\u001b[39;00m\n\u001b[32m--> \u001b[39m\u001b[32m873\u001b[39m         handle = \u001b[38;5;28;43mopen\u001b[39;49m\u001b[43m(\u001b[49m\n\u001b[32m    874\u001b[39m \u001b[43m            \u001b[49m\u001b[43mhandle\u001b[49m\u001b[43m,\u001b[49m\n\u001b[32m    875\u001b[39m \u001b[43m            \u001b[49m\u001b[43mioargs\u001b[49m\u001b[43m.\u001b[49m\u001b[43mmode\u001b[49m\u001b[43m,\u001b[49m\n\u001b[32m    876\u001b[39m \u001b[43m            \u001b[49m\u001b[43mencoding\u001b[49m\u001b[43m=\u001b[49m\u001b[43mioargs\u001b[49m\u001b[43m.\u001b[49m\u001b[43mencoding\u001b[49m\u001b[43m,\u001b[49m\n\u001b[32m    877\u001b[39m \u001b[43m            \u001b[49m\u001b[43merrors\u001b[49m\u001b[43m=\u001b[49m\u001b[43merrors\u001b[49m\u001b[43m,\u001b[49m\n\u001b[32m    878\u001b[39m \u001b[43m            \u001b[49m\u001b[43mnewline\u001b[49m\u001b[43m=\u001b[49m\u001b[33;43m\"\u001b[39;49m\u001b[33;43m\"\u001b[39;49m\u001b[43m,\u001b[49m\n\u001b[32m    879\u001b[39m \u001b[43m        \u001b[49m\u001b[43m)\u001b[49m\n\u001b[32m    880\u001b[39m     \u001b[38;5;28;01melse\u001b[39;00m:\n\u001b[32m    881\u001b[39m         \u001b[38;5;66;03m# Binary mode\u001b[39;00m\n\u001b[32m    882\u001b[39m         handle = \u001b[38;5;28mopen\u001b[39m(handle, ioargs.mode)\n",
      "\u001b[31mFileNotFoundError\u001b[39m: [Errno 2] No such file or directory: 'your_file.csv'"
     ]
    }
   ],
   "source": [
    "df = pd.read_csv(\"your_file.csv\")  # Replace with actual filename"
   ]
  },
  {
   "cell_type": "code",
   "execution_count": 3,
   "id": "afcae308-aae6-44c6-8a4a-750584142e3a",
   "metadata": {},
   "outputs": [
    {
     "name": "stdout",
     "output_type": "stream",
     "text": [
      "C:\\Users\\ashwi\n"
     ]
    }
   ],
   "source": [
    "import os\n",
    "print(os.getcwd())"
   ]
  },
  {
   "cell_type": "code",
   "execution_count": 4,
   "id": "fc3537e0-f04c-491c-aaad-2eb8c1f5a90e",
   "metadata": {},
   "outputs": [
    {
     "ename": "SyntaxError",
     "evalue": "unexpected character after line continuation character (752699157.py, line 1)",
     "output_type": "error",
     "traceback": [
      "  \u001b[36mCell\u001b[39m\u001b[36m \u001b[39m\u001b[32mIn[4]\u001b[39m\u001b[32m, line 1\u001b[39m\n\u001b[31m    \u001b[39m\u001b[31mC:\\Users\\palsi\u001b[39m\n       ^\n\u001b[31mSyntaxError\u001b[39m\u001b[31m:\u001b[39m unexpected character after line continuation character\n"
     ]
    }
   ],
   "source": [
    "C:\\Users\\palsi"
   ]
  },
  {
   "cell_type": "code",
   "execution_count": 5,
   "id": "04574c68-aa96-4e48-906d-d94bc38f732d",
   "metadata": {},
   "outputs": [],
   "source": [
    "%load_ext autoreload\n",
    "%autoreload 2"
   ]
  },
  {
   "cell_type": "code",
   "execution_count": 6,
   "id": "382a4206-e9f8-41ae-9550-64fd586e19c7",
   "metadata": {},
   "outputs": [],
   "source": [
    "import os\n",
    "import pandas as pd\n",
    "import numpy as np\n",
    "import matplotlib.pyplot as plt\n",
    "from sklearn.linear_model import LinearRegression"
   ]
  },
  {
   "cell_type": "code",
   "execution_count": 7,
   "id": "789bd0a2-527d-499b-8adf-b58b282b6aa7",
   "metadata": {},
   "outputs": [
    {
     "ename": "FileNotFoundError",
     "evalue": "[Errno 2] No such file or directory: 'your_file.csv'",
     "output_type": "error",
     "traceback": [
      "\u001b[31m---------------------------------------------------------------------------\u001b[39m",
      "\u001b[31mFileNotFoundError\u001b[39m                         Traceback (most recent call last)",
      "\u001b[36mCell\u001b[39m\u001b[36m \u001b[39m\u001b[32mIn[7]\u001b[39m\u001b[32m, line 1\u001b[39m\n\u001b[32m----> \u001b[39m\u001b[32m1\u001b[39m df = \u001b[43mpd\u001b[49m\u001b[43m.\u001b[49m\u001b[43mread_csv\u001b[49m\u001b[43m(\u001b[49m\u001b[33;43m\"\u001b[39;49m\u001b[33;43myour_file.csv\u001b[39;49m\u001b[33;43m\"\u001b[39;49m\u001b[43m)\u001b[49m  \u001b[38;5;66;03m# Or use full path if needed\u001b[39;00m\n",
      "\u001b[36mFile \u001b[39m\u001b[32m~\\AppData\\Local\\Programs\\Python\\Python313\\Lib\\site-packages\\pandas\\io\\parsers\\readers.py:1026\u001b[39m, in \u001b[36mread_csv\u001b[39m\u001b[34m(filepath_or_buffer, sep, delimiter, header, names, index_col, usecols, dtype, engine, converters, true_values, false_values, skipinitialspace, skiprows, skipfooter, nrows, na_values, keep_default_na, na_filter, verbose, skip_blank_lines, parse_dates, infer_datetime_format, keep_date_col, date_parser, date_format, dayfirst, cache_dates, iterator, chunksize, compression, thousands, decimal, lineterminator, quotechar, quoting, doublequote, escapechar, comment, encoding, encoding_errors, dialect, on_bad_lines, delim_whitespace, low_memory, memory_map, float_precision, storage_options, dtype_backend)\u001b[39m\n\u001b[32m   1013\u001b[39m kwds_defaults = _refine_defaults_read(\n\u001b[32m   1014\u001b[39m     dialect,\n\u001b[32m   1015\u001b[39m     delimiter,\n\u001b[32m   (...)\u001b[39m\u001b[32m   1022\u001b[39m     dtype_backend=dtype_backend,\n\u001b[32m   1023\u001b[39m )\n\u001b[32m   1024\u001b[39m kwds.update(kwds_defaults)\n\u001b[32m-> \u001b[39m\u001b[32m1026\u001b[39m \u001b[38;5;28;01mreturn\u001b[39;00m \u001b[43m_read\u001b[49m\u001b[43m(\u001b[49m\u001b[43mfilepath_or_buffer\u001b[49m\u001b[43m,\u001b[49m\u001b[43m \u001b[49m\u001b[43mkwds\u001b[49m\u001b[43m)\u001b[49m\n",
      "\u001b[36mFile \u001b[39m\u001b[32m~\\AppData\\Local\\Programs\\Python\\Python313\\Lib\\site-packages\\pandas\\io\\parsers\\readers.py:620\u001b[39m, in \u001b[36m_read\u001b[39m\u001b[34m(filepath_or_buffer, kwds)\u001b[39m\n\u001b[32m    617\u001b[39m _validate_names(kwds.get(\u001b[33m\"\u001b[39m\u001b[33mnames\u001b[39m\u001b[33m\"\u001b[39m, \u001b[38;5;28;01mNone\u001b[39;00m))\n\u001b[32m    619\u001b[39m \u001b[38;5;66;03m# Create the parser.\u001b[39;00m\n\u001b[32m--> \u001b[39m\u001b[32m620\u001b[39m parser = \u001b[43mTextFileReader\u001b[49m\u001b[43m(\u001b[49m\u001b[43mfilepath_or_buffer\u001b[49m\u001b[43m,\u001b[49m\u001b[43m \u001b[49m\u001b[43m*\u001b[49m\u001b[43m*\u001b[49m\u001b[43mkwds\u001b[49m\u001b[43m)\u001b[49m\n\u001b[32m    622\u001b[39m \u001b[38;5;28;01mif\u001b[39;00m chunksize \u001b[38;5;129;01mor\u001b[39;00m iterator:\n\u001b[32m    623\u001b[39m     \u001b[38;5;28;01mreturn\u001b[39;00m parser\n",
      "\u001b[36mFile \u001b[39m\u001b[32m~\\AppData\\Local\\Programs\\Python\\Python313\\Lib\\site-packages\\pandas\\io\\parsers\\readers.py:1620\u001b[39m, in \u001b[36mTextFileReader.__init__\u001b[39m\u001b[34m(self, f, engine, **kwds)\u001b[39m\n\u001b[32m   1617\u001b[39m     \u001b[38;5;28mself\u001b[39m.options[\u001b[33m\"\u001b[39m\u001b[33mhas_index_names\u001b[39m\u001b[33m\"\u001b[39m] = kwds[\u001b[33m\"\u001b[39m\u001b[33mhas_index_names\u001b[39m\u001b[33m\"\u001b[39m]\n\u001b[32m   1619\u001b[39m \u001b[38;5;28mself\u001b[39m.handles: IOHandles | \u001b[38;5;28;01mNone\u001b[39;00m = \u001b[38;5;28;01mNone\u001b[39;00m\n\u001b[32m-> \u001b[39m\u001b[32m1620\u001b[39m \u001b[38;5;28mself\u001b[39m._engine = \u001b[38;5;28;43mself\u001b[39;49m\u001b[43m.\u001b[49m\u001b[43m_make_engine\u001b[49m\u001b[43m(\u001b[49m\u001b[43mf\u001b[49m\u001b[43m,\u001b[49m\u001b[43m \u001b[49m\u001b[38;5;28;43mself\u001b[39;49m\u001b[43m.\u001b[49m\u001b[43mengine\u001b[49m\u001b[43m)\u001b[49m\n",
      "\u001b[36mFile \u001b[39m\u001b[32m~\\AppData\\Local\\Programs\\Python\\Python313\\Lib\\site-packages\\pandas\\io\\parsers\\readers.py:1880\u001b[39m, in \u001b[36mTextFileReader._make_engine\u001b[39m\u001b[34m(self, f, engine)\u001b[39m\n\u001b[32m   1878\u001b[39m     \u001b[38;5;28;01mif\u001b[39;00m \u001b[33m\"\u001b[39m\u001b[33mb\u001b[39m\u001b[33m\"\u001b[39m \u001b[38;5;129;01mnot\u001b[39;00m \u001b[38;5;129;01min\u001b[39;00m mode:\n\u001b[32m   1879\u001b[39m         mode += \u001b[33m\"\u001b[39m\u001b[33mb\u001b[39m\u001b[33m\"\u001b[39m\n\u001b[32m-> \u001b[39m\u001b[32m1880\u001b[39m \u001b[38;5;28mself\u001b[39m.handles = \u001b[43mget_handle\u001b[49m\u001b[43m(\u001b[49m\n\u001b[32m   1881\u001b[39m \u001b[43m    \u001b[49m\u001b[43mf\u001b[49m\u001b[43m,\u001b[49m\n\u001b[32m   1882\u001b[39m \u001b[43m    \u001b[49m\u001b[43mmode\u001b[49m\u001b[43m,\u001b[49m\n\u001b[32m   1883\u001b[39m \u001b[43m    \u001b[49m\u001b[43mencoding\u001b[49m\u001b[43m=\u001b[49m\u001b[38;5;28;43mself\u001b[39;49m\u001b[43m.\u001b[49m\u001b[43moptions\u001b[49m\u001b[43m.\u001b[49m\u001b[43mget\u001b[49m\u001b[43m(\u001b[49m\u001b[33;43m\"\u001b[39;49m\u001b[33;43mencoding\u001b[39;49m\u001b[33;43m\"\u001b[39;49m\u001b[43m,\u001b[49m\u001b[43m \u001b[49m\u001b[38;5;28;43;01mNone\u001b[39;49;00m\u001b[43m)\u001b[49m\u001b[43m,\u001b[49m\n\u001b[32m   1884\u001b[39m \u001b[43m    \u001b[49m\u001b[43mcompression\u001b[49m\u001b[43m=\u001b[49m\u001b[38;5;28;43mself\u001b[39;49m\u001b[43m.\u001b[49m\u001b[43moptions\u001b[49m\u001b[43m.\u001b[49m\u001b[43mget\u001b[49m\u001b[43m(\u001b[49m\u001b[33;43m\"\u001b[39;49m\u001b[33;43mcompression\u001b[39;49m\u001b[33;43m\"\u001b[39;49m\u001b[43m,\u001b[49m\u001b[43m \u001b[49m\u001b[38;5;28;43;01mNone\u001b[39;49;00m\u001b[43m)\u001b[49m\u001b[43m,\u001b[49m\n\u001b[32m   1885\u001b[39m \u001b[43m    \u001b[49m\u001b[43mmemory_map\u001b[49m\u001b[43m=\u001b[49m\u001b[38;5;28;43mself\u001b[39;49m\u001b[43m.\u001b[49m\u001b[43moptions\u001b[49m\u001b[43m.\u001b[49m\u001b[43mget\u001b[49m\u001b[43m(\u001b[49m\u001b[33;43m\"\u001b[39;49m\u001b[33;43mmemory_map\u001b[39;49m\u001b[33;43m\"\u001b[39;49m\u001b[43m,\u001b[49m\u001b[43m \u001b[49m\u001b[38;5;28;43;01mFalse\u001b[39;49;00m\u001b[43m)\u001b[49m\u001b[43m,\u001b[49m\n\u001b[32m   1886\u001b[39m \u001b[43m    \u001b[49m\u001b[43mis_text\u001b[49m\u001b[43m=\u001b[49m\u001b[43mis_text\u001b[49m\u001b[43m,\u001b[49m\n\u001b[32m   1887\u001b[39m \u001b[43m    \u001b[49m\u001b[43merrors\u001b[49m\u001b[43m=\u001b[49m\u001b[38;5;28;43mself\u001b[39;49m\u001b[43m.\u001b[49m\u001b[43moptions\u001b[49m\u001b[43m.\u001b[49m\u001b[43mget\u001b[49m\u001b[43m(\u001b[49m\u001b[33;43m\"\u001b[39;49m\u001b[33;43mencoding_errors\u001b[39;49m\u001b[33;43m\"\u001b[39;49m\u001b[43m,\u001b[49m\u001b[43m \u001b[49m\u001b[33;43m\"\u001b[39;49m\u001b[33;43mstrict\u001b[39;49m\u001b[33;43m\"\u001b[39;49m\u001b[43m)\u001b[49m\u001b[43m,\u001b[49m\n\u001b[32m   1888\u001b[39m \u001b[43m    \u001b[49m\u001b[43mstorage_options\u001b[49m\u001b[43m=\u001b[49m\u001b[38;5;28;43mself\u001b[39;49m\u001b[43m.\u001b[49m\u001b[43moptions\u001b[49m\u001b[43m.\u001b[49m\u001b[43mget\u001b[49m\u001b[43m(\u001b[49m\u001b[33;43m\"\u001b[39;49m\u001b[33;43mstorage_options\u001b[39;49m\u001b[33;43m\"\u001b[39;49m\u001b[43m,\u001b[49m\u001b[43m \u001b[49m\u001b[38;5;28;43;01mNone\u001b[39;49;00m\u001b[43m)\u001b[49m\u001b[43m,\u001b[49m\n\u001b[32m   1889\u001b[39m \u001b[43m\u001b[49m\u001b[43m)\u001b[49m\n\u001b[32m   1890\u001b[39m \u001b[38;5;28;01massert\u001b[39;00m \u001b[38;5;28mself\u001b[39m.handles \u001b[38;5;129;01mis\u001b[39;00m \u001b[38;5;129;01mnot\u001b[39;00m \u001b[38;5;28;01mNone\u001b[39;00m\n\u001b[32m   1891\u001b[39m f = \u001b[38;5;28mself\u001b[39m.handles.handle\n",
      "\u001b[36mFile \u001b[39m\u001b[32m~\\AppData\\Local\\Programs\\Python\\Python313\\Lib\\site-packages\\pandas\\io\\common.py:873\u001b[39m, in \u001b[36mget_handle\u001b[39m\u001b[34m(path_or_buf, mode, encoding, compression, memory_map, is_text, errors, storage_options)\u001b[39m\n\u001b[32m    868\u001b[39m \u001b[38;5;28;01melif\u001b[39;00m \u001b[38;5;28misinstance\u001b[39m(handle, \u001b[38;5;28mstr\u001b[39m):\n\u001b[32m    869\u001b[39m     \u001b[38;5;66;03m# Check whether the filename is to be opened in binary mode.\u001b[39;00m\n\u001b[32m    870\u001b[39m     \u001b[38;5;66;03m# Binary mode does not support 'encoding' and 'newline'.\u001b[39;00m\n\u001b[32m    871\u001b[39m     \u001b[38;5;28;01mif\u001b[39;00m ioargs.encoding \u001b[38;5;129;01mand\u001b[39;00m \u001b[33m\"\u001b[39m\u001b[33mb\u001b[39m\u001b[33m\"\u001b[39m \u001b[38;5;129;01mnot\u001b[39;00m \u001b[38;5;129;01min\u001b[39;00m ioargs.mode:\n\u001b[32m    872\u001b[39m         \u001b[38;5;66;03m# Encoding\u001b[39;00m\n\u001b[32m--> \u001b[39m\u001b[32m873\u001b[39m         handle = \u001b[38;5;28;43mopen\u001b[39;49m\u001b[43m(\u001b[49m\n\u001b[32m    874\u001b[39m \u001b[43m            \u001b[49m\u001b[43mhandle\u001b[49m\u001b[43m,\u001b[49m\n\u001b[32m    875\u001b[39m \u001b[43m            \u001b[49m\u001b[43mioargs\u001b[49m\u001b[43m.\u001b[49m\u001b[43mmode\u001b[49m\u001b[43m,\u001b[49m\n\u001b[32m    876\u001b[39m \u001b[43m            \u001b[49m\u001b[43mencoding\u001b[49m\u001b[43m=\u001b[49m\u001b[43mioargs\u001b[49m\u001b[43m.\u001b[49m\u001b[43mencoding\u001b[49m\u001b[43m,\u001b[49m\n\u001b[32m    877\u001b[39m \u001b[43m            \u001b[49m\u001b[43merrors\u001b[49m\u001b[43m=\u001b[49m\u001b[43merrors\u001b[49m\u001b[43m,\u001b[49m\n\u001b[32m    878\u001b[39m \u001b[43m            \u001b[49m\u001b[43mnewline\u001b[49m\u001b[43m=\u001b[49m\u001b[33;43m\"\u001b[39;49m\u001b[33;43m\"\u001b[39;49m\u001b[43m,\u001b[49m\n\u001b[32m    879\u001b[39m \u001b[43m        \u001b[49m\u001b[43m)\u001b[49m\n\u001b[32m    880\u001b[39m     \u001b[38;5;28;01melse\u001b[39;00m:\n\u001b[32m    881\u001b[39m         \u001b[38;5;66;03m# Binary mode\u001b[39;00m\n\u001b[32m    882\u001b[39m         handle = \u001b[38;5;28mopen\u001b[39m(handle, ioargs.mode)\n",
      "\u001b[31mFileNotFoundError\u001b[39m: [Errno 2] No such file or directory: 'your_file.csv'"
     ]
    }
   ],
   "source": [
    "df = pd.read_csv(\"your_file.csv\")  # Or use full path if needed"
   ]
  },
  {
   "cell_type": "code",
   "execution_count": 8,
   "id": "ee3e2634-40cb-4d24-84e5-4ba08bf64afb",
   "metadata": {},
   "outputs": [
    {
     "name": "stdout",
     "output_type": "stream",
     "text": [
      "C:\\Users\\ashwi\n",
      "['.ipynb_checkpoints', '.ipython', '.jupyter', '.matplotlib', '.python_history', 'AppData', 'Application Data', 'Contacts', 'Cookies', 'Documents', 'Downloads', 'Favorites', 'harvard_artifacts.db', 'harvard_project.ipynb', 'Links', 'Local Settings', 'My Documents', 'NetHood', 'NTUSER.DAT', 'ntuser.dat.LOG1', 'ntuser.dat.LOG2', 'NTUSER.DAT{2a740c2d-06bd-11f0-b0db-d8b32f9f439e}.TM.blf', 'NTUSER.DAT{2a740c2d-06bd-11f0-b0db-d8b32f9f439e}.TMContainer00000000000000000001.regtrans-ms', 'NTUSER.DAT{2a740c2d-06bd-11f0-b0db-d8b32f9f439e}.TMContainer00000000000000000002.regtrans-ms', 'ntuser.ini', 'OneDrive', 'PrintHood', 'Recent', 'Saved Games', 'Searches', 'SendTo', 'Start Menu', 'Templates', 'Untitled.ipynb', 'Untitled1.ipynb']\n"
     ]
    }
   ],
   "source": [
    "print(os.getcwd())\n",
    "print(os.listdir())"
   ]
  },
  {
   "cell_type": "code",
   "execution_count": 9,
   "id": "9dfd95c8-de69-4b96-b2e0-eb47581ac34a",
   "metadata": {},
   "outputs": [
    {
     "data": {
      "text/html": [
       "<style>#sk-container-id-1 {\n",
       "  /* Definition of color scheme common for light and dark mode */\n",
       "  --sklearn-color-text: #000;\n",
       "  --sklearn-color-text-muted: #666;\n",
       "  --sklearn-color-line: gray;\n",
       "  /* Definition of color scheme for unfitted estimators */\n",
       "  --sklearn-color-unfitted-level-0: #fff5e6;\n",
       "  --sklearn-color-unfitted-level-1: #f6e4d2;\n",
       "  --sklearn-color-unfitted-level-2: #ffe0b3;\n",
       "  --sklearn-color-unfitted-level-3: chocolate;\n",
       "  /* Definition of color scheme for fitted estimators */\n",
       "  --sklearn-color-fitted-level-0: #f0f8ff;\n",
       "  --sklearn-color-fitted-level-1: #d4ebff;\n",
       "  --sklearn-color-fitted-level-2: #b3dbfd;\n",
       "  --sklearn-color-fitted-level-3: cornflowerblue;\n",
       "\n",
       "  /* Specific color for light theme */\n",
       "  --sklearn-color-text-on-default-background: var(--sg-text-color, var(--theme-code-foreground, var(--jp-content-font-color1, black)));\n",
       "  --sklearn-color-background: var(--sg-background-color, var(--theme-background, var(--jp-layout-color0, white)));\n",
       "  --sklearn-color-border-box: var(--sg-text-color, var(--theme-code-foreground, var(--jp-content-font-color1, black)));\n",
       "  --sklearn-color-icon: #696969;\n",
       "\n",
       "  @media (prefers-color-scheme: dark) {\n",
       "    /* Redefinition of color scheme for dark theme */\n",
       "    --sklearn-color-text-on-default-background: var(--sg-text-color, var(--theme-code-foreground, var(--jp-content-font-color1, white)));\n",
       "    --sklearn-color-background: var(--sg-background-color, var(--theme-background, var(--jp-layout-color0, #111)));\n",
       "    --sklearn-color-border-box: var(--sg-text-color, var(--theme-code-foreground, var(--jp-content-font-color1, white)));\n",
       "    --sklearn-color-icon: #878787;\n",
       "  }\n",
       "}\n",
       "\n",
       "#sk-container-id-1 {\n",
       "  color: var(--sklearn-color-text);\n",
       "}\n",
       "\n",
       "#sk-container-id-1 pre {\n",
       "  padding: 0;\n",
       "}\n",
       "\n",
       "#sk-container-id-1 input.sk-hidden--visually {\n",
       "  border: 0;\n",
       "  clip: rect(1px 1px 1px 1px);\n",
       "  clip: rect(1px, 1px, 1px, 1px);\n",
       "  height: 1px;\n",
       "  margin: -1px;\n",
       "  overflow: hidden;\n",
       "  padding: 0;\n",
       "  position: absolute;\n",
       "  width: 1px;\n",
       "}\n",
       "\n",
       "#sk-container-id-1 div.sk-dashed-wrapped {\n",
       "  border: 1px dashed var(--sklearn-color-line);\n",
       "  margin: 0 0.4em 0.5em 0.4em;\n",
       "  box-sizing: border-box;\n",
       "  padding-bottom: 0.4em;\n",
       "  background-color: var(--sklearn-color-background);\n",
       "}\n",
       "\n",
       "#sk-container-id-1 div.sk-container {\n",
       "  /* jupyter's `normalize.less` sets `[hidden] { display: none; }`\n",
       "     but bootstrap.min.css set `[hidden] { display: none !important; }`\n",
       "     so we also need the `!important` here to be able to override the\n",
       "     default hidden behavior on the sphinx rendered scikit-learn.org.\n",
       "     See: https://github.com/scikit-learn/scikit-learn/issues/21755 */\n",
       "  display: inline-block !important;\n",
       "  position: relative;\n",
       "}\n",
       "\n",
       "#sk-container-id-1 div.sk-text-repr-fallback {\n",
       "  display: none;\n",
       "}\n",
       "\n",
       "div.sk-parallel-item,\n",
       "div.sk-serial,\n",
       "div.sk-item {\n",
       "  /* draw centered vertical line to link estimators */\n",
       "  background-image: linear-gradient(var(--sklearn-color-text-on-default-background), var(--sklearn-color-text-on-default-background));\n",
       "  background-size: 2px 100%;\n",
       "  background-repeat: no-repeat;\n",
       "  background-position: center center;\n",
       "}\n",
       "\n",
       "/* Parallel-specific style estimator block */\n",
       "\n",
       "#sk-container-id-1 div.sk-parallel-item::after {\n",
       "  content: \"\";\n",
       "  width: 100%;\n",
       "  border-bottom: 2px solid var(--sklearn-color-text-on-default-background);\n",
       "  flex-grow: 1;\n",
       "}\n",
       "\n",
       "#sk-container-id-1 div.sk-parallel {\n",
       "  display: flex;\n",
       "  align-items: stretch;\n",
       "  justify-content: center;\n",
       "  background-color: var(--sklearn-color-background);\n",
       "  position: relative;\n",
       "}\n",
       "\n",
       "#sk-container-id-1 div.sk-parallel-item {\n",
       "  display: flex;\n",
       "  flex-direction: column;\n",
       "}\n",
       "\n",
       "#sk-container-id-1 div.sk-parallel-item:first-child::after {\n",
       "  align-self: flex-end;\n",
       "  width: 50%;\n",
       "}\n",
       "\n",
       "#sk-container-id-1 div.sk-parallel-item:last-child::after {\n",
       "  align-self: flex-start;\n",
       "  width: 50%;\n",
       "}\n",
       "\n",
       "#sk-container-id-1 div.sk-parallel-item:only-child::after {\n",
       "  width: 0;\n",
       "}\n",
       "\n",
       "/* Serial-specific style estimator block */\n",
       "\n",
       "#sk-container-id-1 div.sk-serial {\n",
       "  display: flex;\n",
       "  flex-direction: column;\n",
       "  align-items: center;\n",
       "  background-color: var(--sklearn-color-background);\n",
       "  padding-right: 1em;\n",
       "  padding-left: 1em;\n",
       "}\n",
       "\n",
       "\n",
       "/* Toggleable style: style used for estimator/Pipeline/ColumnTransformer box that is\n",
       "clickable and can be expanded/collapsed.\n",
       "- Pipeline and ColumnTransformer use this feature and define the default style\n",
       "- Estimators will overwrite some part of the style using the `sk-estimator` class\n",
       "*/\n",
       "\n",
       "/* Pipeline and ColumnTransformer style (default) */\n",
       "\n",
       "#sk-container-id-1 div.sk-toggleable {\n",
       "  /* Default theme specific background. It is overwritten whether we have a\n",
       "  specific estimator or a Pipeline/ColumnTransformer */\n",
       "  background-color: var(--sklearn-color-background);\n",
       "}\n",
       "\n",
       "/* Toggleable label */\n",
       "#sk-container-id-1 label.sk-toggleable__label {\n",
       "  cursor: pointer;\n",
       "  display: flex;\n",
       "  width: 100%;\n",
       "  margin-bottom: 0;\n",
       "  padding: 0.5em;\n",
       "  box-sizing: border-box;\n",
       "  text-align: center;\n",
       "  align-items: start;\n",
       "  justify-content: space-between;\n",
       "  gap: 0.5em;\n",
       "}\n",
       "\n",
       "#sk-container-id-1 label.sk-toggleable__label .caption {\n",
       "  font-size: 0.6rem;\n",
       "  font-weight: lighter;\n",
       "  color: var(--sklearn-color-text-muted);\n",
       "}\n",
       "\n",
       "#sk-container-id-1 label.sk-toggleable__label-arrow:before {\n",
       "  /* Arrow on the left of the label */\n",
       "  content: \"▸\";\n",
       "  float: left;\n",
       "  margin-right: 0.25em;\n",
       "  color: var(--sklearn-color-icon);\n",
       "}\n",
       "\n",
       "#sk-container-id-1 label.sk-toggleable__label-arrow:hover:before {\n",
       "  color: var(--sklearn-color-text);\n",
       "}\n",
       "\n",
       "/* Toggleable content - dropdown */\n",
       "\n",
       "#sk-container-id-1 div.sk-toggleable__content {\n",
       "  display: none;\n",
       "  text-align: left;\n",
       "  /* unfitted */\n",
       "  background-color: var(--sklearn-color-unfitted-level-0);\n",
       "}\n",
       "\n",
       "#sk-container-id-1 div.sk-toggleable__content.fitted {\n",
       "  /* fitted */\n",
       "  background-color: var(--sklearn-color-fitted-level-0);\n",
       "}\n",
       "\n",
       "#sk-container-id-1 div.sk-toggleable__content pre {\n",
       "  margin: 0.2em;\n",
       "  border-radius: 0.25em;\n",
       "  color: var(--sklearn-color-text);\n",
       "  /* unfitted */\n",
       "  background-color: var(--sklearn-color-unfitted-level-0);\n",
       "}\n",
       "\n",
       "#sk-container-id-1 div.sk-toggleable__content.fitted pre {\n",
       "  /* unfitted */\n",
       "  background-color: var(--sklearn-color-fitted-level-0);\n",
       "}\n",
       "\n",
       "#sk-container-id-1 input.sk-toggleable__control:checked~div.sk-toggleable__content {\n",
       "  /* Expand drop-down */\n",
       "  display: block;\n",
       "  width: 100%;\n",
       "  overflow: visible;\n",
       "}\n",
       "\n",
       "#sk-container-id-1 input.sk-toggleable__control:checked~label.sk-toggleable__label-arrow:before {\n",
       "  content: \"▾\";\n",
       "}\n",
       "\n",
       "/* Pipeline/ColumnTransformer-specific style */\n",
       "\n",
       "#sk-container-id-1 div.sk-label input.sk-toggleable__control:checked~label.sk-toggleable__label {\n",
       "  color: var(--sklearn-color-text);\n",
       "  background-color: var(--sklearn-color-unfitted-level-2);\n",
       "}\n",
       "\n",
       "#sk-container-id-1 div.sk-label.fitted input.sk-toggleable__control:checked~label.sk-toggleable__label {\n",
       "  background-color: var(--sklearn-color-fitted-level-2);\n",
       "}\n",
       "\n",
       "/* Estimator-specific style */\n",
       "\n",
       "/* Colorize estimator box */\n",
       "#sk-container-id-1 div.sk-estimator input.sk-toggleable__control:checked~label.sk-toggleable__label {\n",
       "  /* unfitted */\n",
       "  background-color: var(--sklearn-color-unfitted-level-2);\n",
       "}\n",
       "\n",
       "#sk-container-id-1 div.sk-estimator.fitted input.sk-toggleable__control:checked~label.sk-toggleable__label {\n",
       "  /* fitted */\n",
       "  background-color: var(--sklearn-color-fitted-level-2);\n",
       "}\n",
       "\n",
       "#sk-container-id-1 div.sk-label label.sk-toggleable__label,\n",
       "#sk-container-id-1 div.sk-label label {\n",
       "  /* The background is the default theme color */\n",
       "  color: var(--sklearn-color-text-on-default-background);\n",
       "}\n",
       "\n",
       "/* On hover, darken the color of the background */\n",
       "#sk-container-id-1 div.sk-label:hover label.sk-toggleable__label {\n",
       "  color: var(--sklearn-color-text);\n",
       "  background-color: var(--sklearn-color-unfitted-level-2);\n",
       "}\n",
       "\n",
       "/* Label box, darken color on hover, fitted */\n",
       "#sk-container-id-1 div.sk-label.fitted:hover label.sk-toggleable__label.fitted {\n",
       "  color: var(--sklearn-color-text);\n",
       "  background-color: var(--sklearn-color-fitted-level-2);\n",
       "}\n",
       "\n",
       "/* Estimator label */\n",
       "\n",
       "#sk-container-id-1 div.sk-label label {\n",
       "  font-family: monospace;\n",
       "  font-weight: bold;\n",
       "  display: inline-block;\n",
       "  line-height: 1.2em;\n",
       "}\n",
       "\n",
       "#sk-container-id-1 div.sk-label-container {\n",
       "  text-align: center;\n",
       "}\n",
       "\n",
       "/* Estimator-specific */\n",
       "#sk-container-id-1 div.sk-estimator {\n",
       "  font-family: monospace;\n",
       "  border: 1px dotted var(--sklearn-color-border-box);\n",
       "  border-radius: 0.25em;\n",
       "  box-sizing: border-box;\n",
       "  margin-bottom: 0.5em;\n",
       "  /* unfitted */\n",
       "  background-color: var(--sklearn-color-unfitted-level-0);\n",
       "}\n",
       "\n",
       "#sk-container-id-1 div.sk-estimator.fitted {\n",
       "  /* fitted */\n",
       "  background-color: var(--sklearn-color-fitted-level-0);\n",
       "}\n",
       "\n",
       "/* on hover */\n",
       "#sk-container-id-1 div.sk-estimator:hover {\n",
       "  /* unfitted */\n",
       "  background-color: var(--sklearn-color-unfitted-level-2);\n",
       "}\n",
       "\n",
       "#sk-container-id-1 div.sk-estimator.fitted:hover {\n",
       "  /* fitted */\n",
       "  background-color: var(--sklearn-color-fitted-level-2);\n",
       "}\n",
       "\n",
       "/* Specification for estimator info (e.g. \"i\" and \"?\") */\n",
       "\n",
       "/* Common style for \"i\" and \"?\" */\n",
       "\n",
       ".sk-estimator-doc-link,\n",
       "a:link.sk-estimator-doc-link,\n",
       "a:visited.sk-estimator-doc-link {\n",
       "  float: right;\n",
       "  font-size: smaller;\n",
       "  line-height: 1em;\n",
       "  font-family: monospace;\n",
       "  background-color: var(--sklearn-color-background);\n",
       "  border-radius: 1em;\n",
       "  height: 1em;\n",
       "  width: 1em;\n",
       "  text-decoration: none !important;\n",
       "  margin-left: 0.5em;\n",
       "  text-align: center;\n",
       "  /* unfitted */\n",
       "  border: var(--sklearn-color-unfitted-level-1) 1pt solid;\n",
       "  color: var(--sklearn-color-unfitted-level-1);\n",
       "}\n",
       "\n",
       ".sk-estimator-doc-link.fitted,\n",
       "a:link.sk-estimator-doc-link.fitted,\n",
       "a:visited.sk-estimator-doc-link.fitted {\n",
       "  /* fitted */\n",
       "  border: var(--sklearn-color-fitted-level-1) 1pt solid;\n",
       "  color: var(--sklearn-color-fitted-level-1);\n",
       "}\n",
       "\n",
       "/* On hover */\n",
       "div.sk-estimator:hover .sk-estimator-doc-link:hover,\n",
       ".sk-estimator-doc-link:hover,\n",
       "div.sk-label-container:hover .sk-estimator-doc-link:hover,\n",
       ".sk-estimator-doc-link:hover {\n",
       "  /* unfitted */\n",
       "  background-color: var(--sklearn-color-unfitted-level-3);\n",
       "  color: var(--sklearn-color-background);\n",
       "  text-decoration: none;\n",
       "}\n",
       "\n",
       "div.sk-estimator.fitted:hover .sk-estimator-doc-link.fitted:hover,\n",
       ".sk-estimator-doc-link.fitted:hover,\n",
       "div.sk-label-container:hover .sk-estimator-doc-link.fitted:hover,\n",
       ".sk-estimator-doc-link.fitted:hover {\n",
       "  /* fitted */\n",
       "  background-color: var(--sklearn-color-fitted-level-3);\n",
       "  color: var(--sklearn-color-background);\n",
       "  text-decoration: none;\n",
       "}\n",
       "\n",
       "/* Span, style for the box shown on hovering the info icon */\n",
       ".sk-estimator-doc-link span {\n",
       "  display: none;\n",
       "  z-index: 9999;\n",
       "  position: relative;\n",
       "  font-weight: normal;\n",
       "  right: .2ex;\n",
       "  padding: .5ex;\n",
       "  margin: .5ex;\n",
       "  width: min-content;\n",
       "  min-width: 20ex;\n",
       "  max-width: 50ex;\n",
       "  color: var(--sklearn-color-text);\n",
       "  box-shadow: 2pt 2pt 4pt #999;\n",
       "  /* unfitted */\n",
       "  background: var(--sklearn-color-unfitted-level-0);\n",
       "  border: .5pt solid var(--sklearn-color-unfitted-level-3);\n",
       "}\n",
       "\n",
       ".sk-estimator-doc-link.fitted span {\n",
       "  /* fitted */\n",
       "  background: var(--sklearn-color-fitted-level-0);\n",
       "  border: var(--sklearn-color-fitted-level-3);\n",
       "}\n",
       "\n",
       ".sk-estimator-doc-link:hover span {\n",
       "  display: block;\n",
       "}\n",
       "\n",
       "/* \"?\"-specific style due to the `<a>` HTML tag */\n",
       "\n",
       "#sk-container-id-1 a.estimator_doc_link {\n",
       "  float: right;\n",
       "  font-size: 1rem;\n",
       "  line-height: 1em;\n",
       "  font-family: monospace;\n",
       "  background-color: var(--sklearn-color-background);\n",
       "  border-radius: 1rem;\n",
       "  height: 1rem;\n",
       "  width: 1rem;\n",
       "  text-decoration: none;\n",
       "  /* unfitted */\n",
       "  color: var(--sklearn-color-unfitted-level-1);\n",
       "  border: var(--sklearn-color-unfitted-level-1) 1pt solid;\n",
       "}\n",
       "\n",
       "#sk-container-id-1 a.estimator_doc_link.fitted {\n",
       "  /* fitted */\n",
       "  border: var(--sklearn-color-fitted-level-1) 1pt solid;\n",
       "  color: var(--sklearn-color-fitted-level-1);\n",
       "}\n",
       "\n",
       "/* On hover */\n",
       "#sk-container-id-1 a.estimator_doc_link:hover {\n",
       "  /* unfitted */\n",
       "  background-color: var(--sklearn-color-unfitted-level-3);\n",
       "  color: var(--sklearn-color-background);\n",
       "  text-decoration: none;\n",
       "}\n",
       "\n",
       "#sk-container-id-1 a.estimator_doc_link.fitted:hover {\n",
       "  /* fitted */\n",
       "  background-color: var(--sklearn-color-fitted-level-3);\n",
       "}\n",
       "\n",
       ".estimator-table summary {\n",
       "    padding: .5rem;\n",
       "    font-family: monospace;\n",
       "    cursor: pointer;\n",
       "}\n",
       "\n",
       ".estimator-table details[open] {\n",
       "    padding-left: 0.1rem;\n",
       "    padding-right: 0.1rem;\n",
       "    padding-bottom: 0.3rem;\n",
       "}\n",
       "\n",
       ".estimator-table .parameters-table {\n",
       "    margin-left: auto !important;\n",
       "    margin-right: auto !important;\n",
       "}\n",
       "\n",
       ".estimator-table .parameters-table tr:nth-child(odd) {\n",
       "    background-color: #fff;\n",
       "}\n",
       "\n",
       ".estimator-table .parameters-table tr:nth-child(even) {\n",
       "    background-color: #f6f6f6;\n",
       "}\n",
       "\n",
       ".estimator-table .parameters-table tr:hover {\n",
       "    background-color: #e0e0e0;\n",
       "}\n",
       "\n",
       ".estimator-table table td {\n",
       "    border: 1px solid rgba(106, 105, 104, 0.232);\n",
       "}\n",
       "\n",
       ".user-set td {\n",
       "    color:rgb(255, 94, 0);\n",
       "    text-align: left;\n",
       "}\n",
       "\n",
       ".user-set td.value pre {\n",
       "    color:rgb(255, 94, 0) !important;\n",
       "    background-color: transparent !important;\n",
       "}\n",
       "\n",
       ".default td {\n",
       "    color: black;\n",
       "    text-align: left;\n",
       "}\n",
       "\n",
       ".user-set td i,\n",
       ".default td i {\n",
       "    color: black;\n",
       "}\n",
       "\n",
       ".copy-paste-icon {\n",
       "    background-image: url(data:image/svg+xml;base64,PHN2ZyB4bWxucz0iaHR0cDovL3d3dy53My5vcmcvMjAwMC9zdmciIHZpZXdCb3g9IjAgMCA0NDggNTEyIj48IS0tIUZvbnQgQXdlc29tZSBGcmVlIDYuNy4yIGJ5IEBmb250YXdlc29tZSAtIGh0dHBzOi8vZm9udGF3ZXNvbWUuY29tIExpY2Vuc2UgLSBodHRwczovL2ZvbnRhd2Vzb21lLmNvbS9saWNlbnNlL2ZyZWUgQ29weXJpZ2h0IDIwMjUgRm9udGljb25zLCBJbmMuLS0+PHBhdGggZD0iTTIwOCAwTDMzMi4xIDBjMTIuNyAwIDI0LjkgNS4xIDMzLjkgMTQuMWw2Ny45IDY3LjljOSA5IDE0LjEgMjEuMiAxNC4xIDMzLjlMNDQ4IDMzNmMwIDI2LjUtMjEuNSA0OC00OCA0OGwtMTkyIDBjLTI2LjUgMC00OC0yMS41LTQ4LTQ4bDAtMjg4YzAtMjYuNSAyMS41LTQ4IDQ4LTQ4ek00OCAxMjhsODAgMCAwIDY0LTY0IDAgMCAyNTYgMTkyIDAgMC0zMiA2NCAwIDAgNDhjMCAyNi41LTIxLjUgNDgtNDggNDhMNDggNTEyYy0yNi41IDAtNDgtMjEuNS00OC00OEwwIDE3NmMwLTI2LjUgMjEuNS00OCA0OC00OHoiLz48L3N2Zz4=);\n",
       "    background-repeat: no-repeat;\n",
       "    background-size: 14px 14px;\n",
       "    background-position: 0;\n",
       "    display: inline-block;\n",
       "    width: 14px;\n",
       "    height: 14px;\n",
       "    cursor: pointer;\n",
       "}\n",
       "</style><body><div id=\"sk-container-id-1\" class=\"sk-top-container\"><div class=\"sk-text-repr-fallback\"><pre>LinearRegression()</pre><b>In a Jupyter environment, please rerun this cell to show the HTML representation or trust the notebook. <br />On GitHub, the HTML representation is unable to render, please try loading this page with nbviewer.org.</b></div><div class=\"sk-container\" hidden><div class=\"sk-item\"><div class=\"sk-estimator fitted sk-toggleable\"><input class=\"sk-toggleable__control sk-hidden--visually\" id=\"sk-estimator-id-1\" type=\"checkbox\" checked><label for=\"sk-estimator-id-1\" class=\"sk-toggleable__label fitted sk-toggleable__label-arrow\"><div><div>LinearRegression</div></div><div><a class=\"sk-estimator-doc-link fitted\" rel=\"noreferrer\" target=\"_blank\" href=\"https://scikit-learn.org/1.7/modules/generated/sklearn.linear_model.LinearRegression.html\">?<span>Documentation for LinearRegression</span></a><span class=\"sk-estimator-doc-link fitted\">i<span>Fitted</span></span></div></label><div class=\"sk-toggleable__content fitted\" data-param-prefix=\"\">\n",
       "        <div class=\"estimator-table\">\n",
       "            <details>\n",
       "                <summary>Parameters</summary>\n",
       "                <table class=\"parameters-table\">\n",
       "                  <tbody>\n",
       "                    \n",
       "        <tr class=\"default\">\n",
       "            <td><i class=\"copy-paste-icon\"\n",
       "                 onclick=\"copyToClipboard('fit_intercept',\n",
       "                          this.parentElement.nextElementSibling)\"\n",
       "            ></i></td>\n",
       "            <td class=\"param\">fit_intercept&nbsp;</td>\n",
       "            <td class=\"value\">True</td>\n",
       "        </tr>\n",
       "    \n",
       "\n",
       "        <tr class=\"default\">\n",
       "            <td><i class=\"copy-paste-icon\"\n",
       "                 onclick=\"copyToClipboard('copy_X',\n",
       "                          this.parentElement.nextElementSibling)\"\n",
       "            ></i></td>\n",
       "            <td class=\"param\">copy_X&nbsp;</td>\n",
       "            <td class=\"value\">True</td>\n",
       "        </tr>\n",
       "    \n",
       "\n",
       "        <tr class=\"default\">\n",
       "            <td><i class=\"copy-paste-icon\"\n",
       "                 onclick=\"copyToClipboard('tol',\n",
       "                          this.parentElement.nextElementSibling)\"\n",
       "            ></i></td>\n",
       "            <td class=\"param\">tol&nbsp;</td>\n",
       "            <td class=\"value\">1e-06</td>\n",
       "        </tr>\n",
       "    \n",
       "\n",
       "        <tr class=\"default\">\n",
       "            <td><i class=\"copy-paste-icon\"\n",
       "                 onclick=\"copyToClipboard('n_jobs',\n",
       "                          this.parentElement.nextElementSibling)\"\n",
       "            ></i></td>\n",
       "            <td class=\"param\">n_jobs&nbsp;</td>\n",
       "            <td class=\"value\">None</td>\n",
       "        </tr>\n",
       "    \n",
       "\n",
       "        <tr class=\"default\">\n",
       "            <td><i class=\"copy-paste-icon\"\n",
       "                 onclick=\"copyToClipboard('positive',\n",
       "                          this.parentElement.nextElementSibling)\"\n",
       "            ></i></td>\n",
       "            <td class=\"param\">positive&nbsp;</td>\n",
       "            <td class=\"value\">False</td>\n",
       "        </tr>\n",
       "    \n",
       "                  </tbody>\n",
       "                </table>\n",
       "            </details>\n",
       "        </div>\n",
       "    </div></div></div></div></div><script>function copyToClipboard(text, element) {\n",
       "    // Get the parameter prefix from the closest toggleable content\n",
       "    const toggleableContent = element.closest('.sk-toggleable__content');\n",
       "    const paramPrefix = toggleableContent ? toggleableContent.dataset.paramPrefix : '';\n",
       "    const fullParamName = paramPrefix ? `${paramPrefix}${text}` : text;\n",
       "\n",
       "    const originalStyle = element.style;\n",
       "    const computedStyle = window.getComputedStyle(element);\n",
       "    const originalWidth = computedStyle.width;\n",
       "    const originalHTML = element.innerHTML.replace('Copied!', '');\n",
       "\n",
       "    navigator.clipboard.writeText(fullParamName)\n",
       "        .then(() => {\n",
       "            element.style.width = originalWidth;\n",
       "            element.style.color = 'green';\n",
       "            element.innerHTML = \"Copied!\";\n",
       "\n",
       "            setTimeout(() => {\n",
       "                element.innerHTML = originalHTML;\n",
       "                element.style = originalStyle;\n",
       "            }, 2000);\n",
       "        })\n",
       "        .catch(err => {\n",
       "            console.error('Failed to copy:', err);\n",
       "            element.style.color = 'red';\n",
       "            element.innerHTML = \"Failed!\";\n",
       "            setTimeout(() => {\n",
       "                element.innerHTML = originalHTML;\n",
       "                element.style = originalStyle;\n",
       "            }, 2000);\n",
       "        });\n",
       "    return false;\n",
       "}\n",
       "\n",
       "document.querySelectorAll('.fa-regular.fa-copy').forEach(function(element) {\n",
       "    const toggleableContent = element.closest('.sk-toggleable__content');\n",
       "    const paramPrefix = toggleableContent ? toggleableContent.dataset.paramPrefix : '';\n",
       "    const paramName = element.parentElement.nextElementSibling.textContent.trim();\n",
       "    const fullParamName = paramPrefix ? `${paramPrefix}${paramName}` : paramName;\n",
       "\n",
       "    element.setAttribute('title', fullParamName);\n",
       "});\n",
       "</script></body>"
      ],
      "text/plain": [
       "LinearRegression()"
      ]
     },
     "execution_count": 9,
     "metadata": {},
     "output_type": "execute_result"
    }
   ],
   "source": [
    "x = np.array([[1], [2], [3], [4], [5]])\n",
    "y = np.array([2.3, 4.5, 6.7, 8.9, 11.1])\n",
    "\n",
    "model = LinearRegression()\n",
    "model.fit(x, y)"
   ]
  },
  {
   "cell_type": "code",
   "execution_count": 10,
   "id": "db34528d-4a4b-45de-8acd-1aa2fdbb78c3",
   "metadata": {},
   "outputs": [
    {
     "data": {
      "image/png": "[encoded data removed]",
      "text/plain": [
       "<Figure size 640x480 with 1 Axes>"
      ]
     },
     "metadata": {},
     "output_type": "display_data"
    }
   ],
   "source": [
    "x_test = np.array([[i] for i in range(6, 11)])\n",
    "y_pred = model.predict(x_test)\n",
    "\n",
    "plt.scatter(x, y, color='blue', label='Original Data')\n",
    "plt.plot(x_test, y_pred, color='red', label='Regression Line')\n",
    "plt.xlabel(\"x\")\n",
    "plt.ylabel(\"y\")\n",
    "plt.title(\"Linear Regression Prediction\")\n",
    "plt.legend()\n",
    "plt.show()"
   ]
  },
  {
   "cell_type": "code",
   "execution_count": 11,
   "id": "71f1a681-90ed-40d9-8fdc-a8a1b2059902",
   "metadata": {},
   "outputs": [
    {
     "ename": "ModuleNotFoundError",
     "evalue": "No module named 'streamlit'",
     "output_type": "error",
     "traceback": [
      "\u001b[31m---------------------------------------------------------------------------\u001b[39m",
      "\u001b[31mModuleNotFoundError\u001b[39m                       Traceback (most recent call last)",
      "\u001b[36mCell\u001b[39m\u001b[36m \u001b[39m\u001b[32mIn[11]\u001b[39m\u001b[32m, line 1\u001b[39m\n\u001b[32m----> \u001b[39m\u001b[32m1\u001b[39m \u001b[38;5;28;01mimport\u001b[39;00m\u001b[38;5;250m \u001b[39m\u001b[34;01mstreamlit\u001b[39;00m\u001b[38;5;250m \u001b[39m\u001b[38;5;28;01mas\u001b[39;00m\u001b[38;5;250m \u001b[39m\u001b[34;01mst\u001b[39;00m\n\u001b[32m      3\u001b[39m x_vals = st.slider(\u001b[33m\"\u001b[39m\u001b[33mChoose x values\u001b[39m\u001b[33m\"\u001b[39m, \u001b[32m1\u001b[39m, \u001b[32m10\u001b[39m, (\u001b[32m1\u001b[39m, \u001b[32m6\u001b[39m))\n",
      "\u001b[31mModuleNotFoundError\u001b[39m: No module named 'streamlit'"
     ]
    }
   ],
   "source": [
    "import streamlit as st\n",
    "\n",
    "x_vals = st.slider(\"Choose x values\", 1, 10, (1, 6))"
   ]
  },
  {
   "cell_type": "code",
   "execution_count": null,
   "id": "97c8d7ce-8115-4f9e-8222-c8938c0a469b",
   "metadata": {},
   "outputs": [],
   "source": []
  }
 ],
 "metadata": {
  "kernelspec": {
   "display_name": "Python 3 (ipykernel)",
   "language": "python",
   "name": "python3"
  },
  "language_info": {
   "codemirror_mode": {
    "name": "ipython",
    "version": 3
   },
   "file_extension": ".py",
   "mimetype": "text/x-python",
   "name": "python",
   "nbconvert_exporter": "python",
   "pygments_lexer": "ipython3",
   "version": "3.13.7"
  }
 },
 "nbformat": 4,
 "nbformat_minor": 5
}
